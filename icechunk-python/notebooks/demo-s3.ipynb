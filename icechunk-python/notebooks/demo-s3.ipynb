{
 "cells": [
  {
   "cell_type": "markdown",
   "id": "df3aa226-496a-4564-8c00-7194f296707b",
   "metadata": {},
   "source": [
    "# Xarray/Zarr/Icechunk on S3\n",
    "\n",
    "You will need to run this notebook in a `conda` environment created from `environment.yml`."
   ]
  },
  {
   "cell_type": "code",
   "execution_count": 1,
   "id": "f6f18aec-e2e2-40f1-b4ab-6c73735d2b38",
   "metadata": {},
   "outputs": [],
   "source": [
    "\n",
    "import zarr\n",
    "\n",
    "from icechunk import IcechunkStore, Storage"
   ]
  },
  {
   "cell_type": "code",
   "execution_count": 2,
   "id": "90890feb-ee7d-4edc-af96-f64399b20262",
   "metadata": {},
   "outputs": [],
   "source": [
    "s3_storage = Storage.s3_from_env(\"bucket=icechunk-test\",prefix=\"oscar-demo-repository\")"
   ]
  },
  {
   "cell_type": "markdown",
   "id": "2631f462-8f8e-4ab1-8ca5-aaaa6674622a",
   "metadata": {},
   "source": [
    "## Create a new Zarr store backed by Icechunk\n",
    "\n",
    "This example uses a S3 store"
   ]
  },
  {
   "cell_type": "code",
   "execution_count": null,
   "id": "39e76b2a-e294-41a4-a1e4-2a1845eb4f2b",
   "metadata": {},
   "outputs": [],
   "source": [
    "store = await IcechunkStore.create(\n",
    "    storage=s3_storage,\n",
    "    mode=\"w\",\n",
    ")"
   ]
  },
  {
   "cell_type": "markdown",
   "id": "2c2fec5d-123e-41d1-9dae-3d8993d8ed78",
   "metadata": {},
   "source": [
    "## Real data"
   ]
  },
  {
   "cell_type": "code",
   "execution_count": 4,
   "id": "4169783c-3c3d-47a5-ae65-90efb3c70cd1",
   "metadata": {},
   "outputs": [],
   "source": [
    "import xarray as xr"
   ]
  },
  {
   "cell_type": "code",
   "execution_count": 5,
   "id": "3ecc6e53-98a2-4698-99af-954ad27e0cff",
   "metadata": {},
   "outputs": [],
   "source": [
    "import fsspec\n",
    "\n",
    "fs = fsspec.filesystem(\"s3\")"
   ]
  },
  {
   "cell_type": "code",
   "execution_count": null,
   "id": "30dc9933-3700-4236-b958-1aeb43450a4a",
   "metadata": {},
   "outputs": [],
   "source": [
    "oscar = xr.open_dataset(\n",
    "    fs.open(\"s3://earthmover-sample-data/netcdf/oscar_vel2018.nc\"),\n",
    "    chunks={},\n",
    "    engine=\"h5netcdf\",\n",
    ")\n",
    "oscar"
   ]
  },
  {
   "cell_type": "code",
   "execution_count": null,
   "id": "549fe3e1-fbce-4045-a937-9b597c66ca6c",
   "metadata": {},
   "outputs": [],
   "source": [
    "group = zarr.group(store=store, overwrite=True)\n",
    "group"
   ]
  },
  {
   "cell_type": "code",
   "execution_count": null,
   "id": "851f7487-ffa8-4f26-938c-967d089ccf99",
   "metadata": {},
   "outputs": [],
   "source": [
    "import time\n",
    "\n",
    "for var in oscar:\n",
    "    print(var)\n",
    "    tic = time.time()\n",
    "    group.create_array(\n",
    "        name=var,\n",
    "        shape=oscar[var].shape,\n",
    "        fill_value=-1234567,\n",
    "        dtype=oscar[var].dtype,\n",
    "        data=oscar[var],\n",
    "        exists_ok=True,\n",
    "    )\n",
    "    print(await store.commit(f\"wrote {var}\"))\n",
    "    print(f\"commited; {time.time() - tic} seconds\")"
   ]
  },
  {
   "cell_type": "markdown",
   "id": "3050fe6f-5f04-4dbb-bd5b-b5c89960073c",
   "metadata": {},
   "source": [
    "## Open store"
   ]
  },
  {
   "cell_type": "markdown",
   "id": "658eb2e6-0772-4834-b7f5-e05cc996a1fe",
   "metadata": {},
   "source": [
    "1. why is zarr writing anything\n",
    "2. why is icehcunk letting zarr write something with mode=\"r\"\n",
    "3. whay aren't we checking out main.\n",
    "4. can't read data back"
   ]
  },
  {
   "cell_type": "code",
   "execution_count": null,
   "id": "d0bf89c2-dd6e-4024-9083-0cb7c355fda4",
   "metadata": {},
   "outputs": [],
   "source": [
    "store = await IcechunkStore.open_existing(\n",
    "    storage=s3_storage,\n",
    "    mode=\"r\",\n",
    ")\n",
    "store"
   ]
  },
  {
   "cell_type": "code",
   "execution_count": null,
   "id": "46951c36-3297-4167-8be0-11148c48968d",
   "metadata": {},
   "outputs": [],
   "source": [
    "store"
   ]
  },
  {
   "cell_type": "code",
   "execution_count": 6,
   "id": "0d070925-31b9-451b-a717-0e262b26628b",
   "metadata": {},
   "outputs": [],
   "source": [
    "root_group = zarr.open_group(store=store)"
   ]
  },
  {
   "cell_type": "code",
   "execution_count": null,
   "id": "fab501e6-2dcf-4c8b-b1b7-910bf05d258c",
   "metadata": {},
   "outputs": [],
   "source": [
    "root_group.members()"
   ]
  },
  {
   "cell_type": "code",
   "execution_count": 8,
   "id": "75b43dc1-3339-4503-a0ee-830339567708",
   "metadata": {},
   "outputs": [],
   "source": [
    "await store.reset()"
   ]
  },
  {
   "cell_type": "code",
   "execution_count": 9,
   "id": "9b4dc411-2f61-47c4-856c-060515b9f696",
   "metadata": {},
   "outputs": [],
   "source": [
    "await store.checkout(\"Y9P6P8BYRXEN5JCD0XNK1PV79M\")"
   ]
  },
  {
   "cell_type": "code",
   "execution_count": null,
   "id": "cdf7f24e-80fe-4543-b657-0eec12e901c2",
   "metadata": {},
   "outputs": [],
   "source": [
    "root_group.members()"
   ]
  },
  {
   "cell_type": "code",
   "execution_count": null,
   "id": "c9148e8a-3713-47ce-a3b3-190a9879b85c",
   "metadata": {},
   "outputs": [],
   "source": [
    "u = root_group[\"u\"][0, 0, :, :]"
   ]
  },
  {
   "cell_type": "code",
   "execution_count": null,
   "id": "4aa5da67-c437-42ae-83bc-b40cf32c0e4c",
   "metadata": {},
   "outputs": [],
   "source": []
  }
 ],
 "metadata": {
  "kernelspec": {
   "display_name": ".venv",
   "language": "python",
   "name": "python3"
  },
  "language_info": {
   "codemirror_mode": {
    "name": "ipython",
    "version": 3
   },
   "file_extension": ".py",
   "mimetype": "text/x-python",
   "name": "python",
   "nbconvert_exporter": "python",
   "pygments_lexer": "ipython3",
   "version": "3.11.9"
  }
 },
 "nbformat": 4,
 "nbformat_minor": 5
}
