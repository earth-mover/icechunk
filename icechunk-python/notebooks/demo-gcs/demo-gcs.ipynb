{
 "cells": [
  {
   "cell_type": "code",
   "execution_count": 1,
   "metadata": {},
   "outputs": [
    {
     "data": {
      "text/plain": [
       "<icechunk.repository.Repository at 0x1067a7d90>"
      ]
     },
     "execution_count": 1,
     "metadata": {},
     "output_type": "execute_result"
    }
   ],
   "source": [
    "import icechunk\n",
    "\n",
    "repo = icechunk.Repository.open_or_create(\n",
    "    icechunk.gcs_storage(\n",
    "        bucket=\"icechunk-demo\",\n",
    "        prefix=\"icechunk-demo-dataset\",\n",
    "        service_account_file=\"/Users/matthew.earthmover/Developer/keys/icechunk-service-account.json\"\n",
    "    )\n",
    ")\n",
    "repo"
   ]
  }
 ],
 "metadata": {
  "kernelspec": {
   "display_name": ".venv",
   "language": "python",
   "name": "python3"
  },
  "language_info": {
   "codemirror_mode": {
    "name": "ipython",
    "version": 3
   },
   "file_extension": ".py",
   "mimetype": "text/x-python",
   "name": "python",
   "nbconvert_exporter": "python",
   "pygments_lexer": "ipython3",
   "version": "3.11.9"
  }
 },
 "nbformat": 4,
 "nbformat_minor": 2
}
