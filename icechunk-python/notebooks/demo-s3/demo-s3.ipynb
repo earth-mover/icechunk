{
 "cells": [
  {
   "cell_type": "markdown",
   "id": "df3aa226-496a-4564-8c00-7194f296707b",
   "metadata": {},
   "source": [
    "# Xarray/Zarr/Icechunk on S3\n",
    "\n",
    "You will need to run this notebook in a `conda` environment created from `environment.yml`."
   ]
  },
  {
   "cell_type": "code",
   "execution_count": null,
   "id": "f6f18aec-e2e2-40f1-b4ab-6c73735d2b38",
   "metadata": {},
   "outputs": [],
   "source": [
    "import zarr\n",
    "from icechunk import Repository, s3_storage"
   ]
  },
  {
   "cell_type": "markdown",
   "id": "2631f462-8f8e-4ab1-8ca5-aaaa6674622a",
   "metadata": {},
   "source": [
    "## Create a new Zarr store backed by Icechunk\n",
    "\n",
    "This example uses a S3 store"
   ]
  },
  {
   "cell_type": "code",
   "execution_count": null,
   "id": "90890feb-ee7d-4edc-af96-f64399b20262",
   "metadata": {},
   "outputs": [],
   "source": [
    "s3_storage = s3_storage(\n",
    "    bucket=\"icechunk-test\", prefix=\"oscar-demo-repository\", from_env=True\n",
    ")"
   ]
  },
  {
   "cell_type": "code",
   "execution_count": null,
   "id": "39e76b2a-e294-41a4-a1e4-2a1845eb4f2b",
   "metadata": {},
   "outputs": [],
   "source": [
    "repo = Repository.create(\n",
    "    storage=s3_storage,\n",
    ")"
   ]
  },
  {
   "cell_type": "markdown",
   "id": "2c2fec5d-123e-41d1-9dae-3d8993d8ed78",
   "metadata": {},
   "source": [
    "## Real data"
   ]
  },
  {
   "cell_type": "code",
   "execution_count": null,
   "id": "4169783c-3c3d-47a5-ae65-90efb3c70cd1",
   "metadata": {},
   "outputs": [],
   "source": [
    "import xarray as xr"
   ]
  },
  {
   "cell_type": "code",
   "execution_count": null,
   "id": "3ecc6e53-98a2-4698-99af-954ad27e0cff",
   "metadata": {},
   "outputs": [],
   "source": [
    "import fsspec\n",
    "\n",
    "fs = fsspec.filesystem(\"s3\")"
   ]
  },
  {
   "cell_type": "code",
   "execution_count": null,
   "id": "30dc9933-3700-4236-b958-1aeb43450a4a",
   "metadata": {},
   "outputs": [],
   "source": [
    "oscar = xr.open_dataset(\n",
    "    fs.open(\"s3://earthmover-sample-data/netcdf/oscar_vel2018.nc\"),\n",
    "    chunks={},\n",
    "    engine=\"h5netcdf\",\n",
    ")\n",
    "oscar"
   ]
  },
  {
   "cell_type": "markdown",
   "id": "f821c683-ba99-45aa-8e09-c5dc7ab5437d",
   "metadata": {},
   "source": [
    "## Write to icechunk"
   ]
  },
  {
   "cell_type": "code",
   "execution_count": null,
   "id": "549fe3e1-fbce-4045-a937-9b597c66ca6c",
   "metadata": {},
   "outputs": [],
   "source": [
    "session = repo.session(\"main\")\n",
    "\n",
    "group = zarr.group(store=session.store, overwrite=True)\n",
    "group"
   ]
  },
  {
   "cell_type": "code",
   "execution_count": null,
   "id": "851f7487-ffa8-4f26-938c-967d089ccf99",
   "metadata": {},
   "outputs": [],
   "source": [
    "import time\n",
    "\n",
    "for var in oscar:\n",
    "    session = repo.writable_session(\"main\")\n",
    "    group = zarr.open_group(store=session.store)\n",
    "    print(var)\n",
    "    tic = time.time()\n",
    "    group.create_array(\n",
    "        name=var,\n",
    "        shape=oscar[var].shape,\n",
    "        chunk_shape=(1, 1, 481, 1201),\n",
    "        fill_value=-1234567,\n",
    "        dtype=oscar[var].dtype,\n",
    "        data=oscar[var],\n",
    "        overwrite=True,\n",
    "    )\n",
    "    print(session.commit(f\"wrote {var}\"))\n",
    "    print(f\"committed; {time.time() - tic} seconds\")"
   ]
  },
  {
   "cell_type": "code",
   "execution_count": null,
   "id": "ce57c22b-0677-40a9-9f61-9ca7aa56b5d4",
   "metadata": {},
   "outputs": [],
   "source": [
    "main_snapshot_id = repo.lookup_branch(\"main\")\n",
    "repo.ancestry(main_snapshot_id)"
   ]
  },
  {
   "cell_type": "markdown",
   "id": "3050fe6f-5f04-4dbb-bd5b-b5c89960073c",
   "metadata": {},
   "source": [
    "## Open store"
   ]
  },
  {
   "cell_type": "code",
   "execution_count": null,
   "id": "9e6bab63-3e60-4ed1-ba91-a28f39918dcf",
   "metadata": {},
   "outputs": [],
   "source": [
    "import zarr\n",
    "from icechunk import Repository, s3_storage\n",
    "\n",
    "s3_storage = s3_storage(\n",
    "    bucket=\"icechunk-test\", prefix=\"oscar-demo-repository\", from_env=True\n",
    ")"
   ]
  },
  {
   "cell_type": "code",
   "execution_count": null,
   "id": "d0bf89c2-dd6e-4024-9083-0cb7c355fda4",
   "metadata": {},
   "outputs": [],
   "source": [
    "repo = Repository.open(\n",
    "    storage=s3_storage,\n",
    ")\n",
    "repo"
   ]
  },
  {
   "cell_type": "markdown",
   "id": "faa2af0d-6c51-4558-9752-4b60ed324d4d",
   "metadata": {},
   "source": [
    "Look at history"
   ]
  },
  {
   "cell_type": "code",
   "execution_count": null,
   "id": "045f355e-746f-46f5-acc2-312309184d7e",
   "metadata": {},
   "outputs": [],
   "source": [
    "[s.message for s in repo.ancestry(branch=\"main\")]"
   ]
  },
  {
   "cell_type": "code",
   "execution_count": null,
   "id": "0d070925-31b9-451b-a717-0e262b26628b",
   "metadata": {},
   "outputs": [],
   "source": [
    "session = repo.readonly_session(branch=\"main\")\n",
    "root_group = zarr.open_group(store=session.store)"
   ]
  },
  {
   "cell_type": "code",
   "execution_count": null,
   "id": "fab501e6-2dcf-4c8b-b1b7-910bf05d258c",
   "metadata": {},
   "outputs": [],
   "source": [
    "root_group.members()"
   ]
  },
  {
   "cell_type": "code",
   "execution_count": null,
   "id": "cdf7f24e-80fe-4543-b657-0eec12e901c2",
   "metadata": {},
   "outputs": [],
   "source": [
    "root_group.members()"
   ]
  },
  {
   "cell_type": "code",
   "execution_count": null,
   "id": "4aa5da67-c437-42ae-83bc-b40cf32c0e4c",
   "metadata": {},
   "outputs": [],
   "source": [
    "import matplotlib as mpl\n",
    "import matplotlib.pyplot as plt"
   ]
  },
  {
   "cell_type": "code",
   "execution_count": null,
   "id": "4d5b44e8-72e9-46d0-8845-9b7187eb427a",
   "metadata": {},
   "outputs": [],
   "source": [
    "plt.imshow(root_group[\"u\"][20, 0, :, :], cmap=mpl.cm.RdBu_r, vmin=-0.5, vmax=0.5)\n",
    "plt.gcf().set_size_inches((9, 5))\n",
    "plt.colorbar(location=\"bottom\", orientation=\"horizontal\", shrink=0.5, aspect=30)"
   ]
  }
 ],
 "metadata": {
  "kernelspec": {
   "display_name": ".venv",
   "language": "python",
   "name": "python3"
  },
  "language_info": {
   "codemirror_mode": {
    "name": "ipython",
    "version": 3
   },
   "file_extension": ".py",
   "mimetype": "text/x-python",
   "name": "python",
   "nbconvert_exporter": "python",
   "pygments_lexer": "ipython3",
   "version": "3.11.9"
  }
 },
 "nbformat": 4,
 "nbformat_minor": 5
}
