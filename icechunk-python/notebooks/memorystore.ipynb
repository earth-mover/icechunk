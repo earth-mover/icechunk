{
 "cells": [
  {
   "cell_type": "code",
   "execution_count": 1,
   "metadata": {},
   "outputs": [],
   "source": [
    "import icechunk\n",
    "import zarr"
   ]
  },
  {
   "cell_type": "markdown",
   "metadata": {},
   "source": [
    "Lets create an in-memory icechunk store"
   ]
  },
  {
   "cell_type": "code",
   "execution_count": 2,
   "metadata": {},
   "outputs": [
    {
     "data": {
      "text/plain": [
       "<icechunk.IcechunkStore at 0x106dcc2d0>"
      ]
     },
     "execution_count": 2,
     "metadata": {},
     "output_type": "execute_result"
    }
   ],
   "source": [
    "store = await icechunk.IcechunkStore.from_json(config={\"storage\": {\"type\": \"in_memory\"}, \"dataset\": {}}, mode=\"w\")\n",
    "store"
   ]
  },
  {
   "cell_type": "markdown",
   "metadata": {},
   "source": [
    "Ok! Lets create some data!"
   ]
  },
  {
   "cell_type": "code",
   "execution_count": 3,
   "metadata": {},
   "outputs": [
    {
     "data": {
      "text/plain": [
       "Group(_async_group=<AsyncGroup <icechunk.IcechunkStore object at 0x106dcc2d0>>)"
      ]
     },
     "execution_count": 3,
     "metadata": {},
     "output_type": "execute_result"
    }
   ],
   "source": [
    "group = zarr.group(store=store, overwrite=True)\n",
    "group"
   ]
  },
  {
   "cell_type": "code",
   "execution_count": 4,
   "metadata": {},
   "outputs": [
    {
     "data": {
      "text/plain": [
       "<Array <icechunk.IcechunkStore object at 0x106dcc2d0>/air_temp shape=(1000, 1000) dtype=int32>"
      ]
     },
     "execution_count": 4,
     "metadata": {},
     "output_type": "execute_result"
    }
   ],
   "source": [
    "air_temp = group.create_array(\"air_temp\", shape=(1000, 1000), chunk_shape=(100, 100), dtype=\"i4\")\n",
    "air_temp"
   ]
  },
  {
   "cell_type": "code",
   "execution_count": 5,
   "metadata": {},
   "outputs": [
    {
     "name": "stdout",
     "output_type": "stream",
     "text": [
      "zarr.json\n",
      "air_temp/zarr.json\n"
     ]
    }
   ],
   "source": [
    "async for key in store.list():\n",
    "    print(key)"
   ]
  },
  {
   "cell_type": "code",
   "execution_count": 6,
   "metadata": {},
   "outputs": [
    {
     "name": "stderr",
     "output_type": "stream",
     "text": [
      "thread '<unnamed>' panicked at /Users/matthew.earthmover/.cargo/registry/src/index.crates.io-6f17d22bba15001f/object_store-0.11.0/src/upload.rs:212:20:\n",
      "there is no reactor running, must be called from the context of a Tokio 1.x runtime\n",
      "note: run with `RUST_BACKTRACE=1` environment variable to display a backtrace\n",
      "thread '<unnamed>' panicked at /Users/matthew.earthmover/.cargo/registry/src/index.crates.io-6f17d22bba15001f/object_store-0.11.0/src/upload.rs:212:20:\n",
      "there is no reactor running, must be called from the context of a Tokio 1.x runtime\n",
      "thread '<unnamed>' panicked at /Users/matthew.earthmover/.cargo/registry/src/index.crates.io-6f17d22bba15001f/object_store-0.11.0/src/upload.rs:212:20:\n",
      "there is no reactor running, must be called from the context of a Tokio 1.x runtime\n",
      "thread '<unnamed>' panicked at /Users/matthew.earthmover/.cargo/registry/src/index.crates.io-6f17d22bba15001f/object_store-0.11.0/src/upload.rs:212:20:\n",
      "there is no reactor running, must be called from the context of a Tokio 1.x runtime\n",
      "thread '<unnamed>' panicked at /Users/matthew.earthmover/.cargo/registry/src/index.crates.io-6f17d22bba15001f/object_store-0.11.0/src/upload.rs:212:20:\n",
      "there is no reactor running, must be called from the context of a Tokio 1.x runtime\n",
      "thread '<unnamed>' panicked at /Users/matthew.earthmover/.cargo/registry/src/index.crates.io-6f17d22bba15001f/object_store-0.11.0/src/upload.rs:212:20:\n",
      "there is no reactor running, must be called from the context of a Tokio 1.x runtime\n",
      "thread '<unnamed>' panicked at /Users/matthew.earthmover/.cargo/registry/src/index.crates.io-6f17d22bba15001f/object_store-0.11.0/src/upload.rs:212:20:\n",
      "there is no reactor running, must be called from the context of a Tokio 1.x runtime\n",
      "thread '<unnamed>' panicked at /Users/matthew.earthmover/.cargo/registry/src/index.crates.io-6f17d22bba15001f/object_store-0.11.0/src/upload.rs:212:20:\n",
      "there is no reactor running, must be called from the context of a Tokio 1.x runtime\n",
      "thread '<unnamed>' panicked at /Users/matthew.earthmover/.cargo/registry/src/index.crates.io-6f17d22bba15001f/object_store-0.11.0/src/upload.rs:212:20:\n",
      "there is no reactor running, must be called from the context of a Tokio 1.x runtime\n",
      "thread '<unnamed>' panicked at /Users/matthew.earthmover/.cargo/registry/src/index.crates.io-6f17d22bba15001f/object_store-0.11.0/src/upload.rs:212:20:\n",
      "there is no reactor running, must be called from the context of a Tokio 1.x runtime\n",
      "thread '<unnamed>' panicked at /Users/matthew.earthmover/.cargo/registry/src/index.crates.io-6f17d22bba15001f/object_store-0.11.0/src/upload.rs:212:20:\n",
      "there is no reactor running, must be called from the context of a Tokio 1.x runtime\n",
      "thread '<unnamed>' panicked at /Users/matthew.earthmover/.cargo/registry/src/index.crates.io-6f17d22bba15001f/object_store-0.11.0/src/upload.rs:212:20:\n",
      "there is no reactor running, must be called from the context of a Tokio 1.x runtime\n",
      "thread '<unnamed>' panicked at /Users/matthew.earthmover/.cargo/registry/src/index.crates.io-6f17d22bba15001f/object_store-0.11.0/src/upload.rs:212:20:\n",
      "there is no reactor running, must be called from the context of a Tokio 1.x runtime\n",
      "thread '<unnamed>' panicked at /Users/matthew.earthmover/.cargo/registry/src/index.crates.io-6f17d22bba15001f/object_store-0.11.0/src/upload.rs:212:20:\n",
      "there is no reactor running, must be called from the context of a Tokio 1.x runtime\n",
      "thread '<unnamed>' panicked at /Users/matthew.earthmover/.cargo/registry/src/index.crates.io-6f17d22bba15001f/object_store-0.11.0/src/upload.rs:212:20:\n",
      "there is no reactor running, must be called from the context of a Tokio 1.x runtime\n",
      "thread '<unnamed>' panicked at /Users/matthew.earthmover/.cargo/registry/src/index.crates.io-6f17d22bba15001f/object_store-0.11.0/src/upload.rs:212:20:\n",
      "there is no reactor running, must be called from the context of a Tokio 1.x runtime\n",
      "thread '<unnamed>' panicked at /Users/matthew.earthmover/.cargo/registry/src/index.crates.io-6f17d22bba15001f/object_store-0.11.0/src/upload.rs:212:20:\n",
      "there is no reactor running, must be called from the context of a Tokio 1.x runtime\n",
      "thread '<unnamed>' panicked at /Users/matthew.earthmover/.cargo/registry/src/index.crates.io-6f17d22bba15001f/object_store-0.11.0/src/upload.rs:212:20:\n",
      "there is no reactor running, must be called from the context of a Tokio 1.x runtime\n",
      "thread '<unnamed>' panicked at /Users/matthew.earthmover/.cargo/registry/src/index.crates.io-6f17d22bba15001f/object_store-0.11.0/src/upload.rs:212:20:\n",
      "there is no reactor running, must be called from the context of a Tokio 1.x runtime\n",
      "thread '<unnamed>' panicked at /Users/matthew.earthmover/.cargo/registry/src/index.crates.io-6f17d22bba15001f/object_store-0.11.0/src/upload.rs:212:20:\n",
      "there is no reactor running, must be called from the context of a Tokio 1.x runtime\n",
      "thread '<unnamed>' panicked at /Users/matthew.earthmover/.cargo/registry/src/index.crates.io-6f17d22bba15001f/object_store-0.11.0/src/upload.rs:212:20:\n",
      "there is no reactor running, must be called from the context of a Tokio 1.x runtime\n",
      "thread '<unnamed>' panicked at /Users/matthew.earthmover/.cargo/registry/src/index.crates.io-6f17d22bba15001f/object_store-0.11.0/src/upload.rs:212:20:\n",
      "there is no reactor running, must be called from the context of a Tokio 1.x runtime\n",
      "thread '<unnamed>' panicked at /Users/matthew.earthmover/.cargo/registry/src/index.crates.io-6f17d22bba15001f/object_store-0.11.0/src/upload.rs:212:20:\n",
      "there is no reactor running, must be called from the context of a Tokio 1.x runtime\n",
      "thread '<unnamed>' panicked at /Users/matthew.earthmover/.cargo/registry/src/index.crates.io-6f17d22bba15001f/object_store-0.11.0/src/upload.rs:212:20:\n",
      "there is no reactor running, must be called from the context of a Tokio 1.x runtime\n",
      "thread '<unnamed>' panicked at /Users/matthew.earthmover/.cargo/registry/src/index.crates.io-6f17d22bba15001f/object_store-0.11.0/src/upload.rs:212:20:\n",
      "there is no reactor running, must be called from the context of a Tokio 1.x runtime\n",
      "thread '<unnamed>' panicked at /Users/matthew.earthmover/.cargo/registry/src/index.crates.io-6f17d22bba15001f/object_store-0.11.0/src/upload.rs:212:20:\n",
      "there is no reactor running, must be called from the context of a Tokio 1.x runtime\n",
      "thread '<unnamed>' panicked at /Users/matthew.earthmover/.cargo/registry/src/index.crates.io-6f17d22bba15001f/object_store-0.11.0/src/upload.rs:212:20:\n",
      "there is no reactor running, must be called from the context of a Tokio 1.x runtime\n",
      "thread '<unnamed>' panicked at /Users/matthew.earthmover/.cargo/registry/src/index.crates.io-6f17d22bba15001f/object_store-0.11.0/src/upload.rs:212:20:\n",
      "there is no reactor running, must be called from the context of a Tokio 1.x runtime\n",
      "thread '<unnamed>' panicked at /Users/matthew.earthmover/.cargo/registry/src/index.crates.io-6f17d22bba15001f/object_store-0.11.0/src/upload.rs:212:20:\n",
      "there is no reactor running, must be called from the context of a Tokio 1.x runtime\n",
      "thread '<unnamed>' panicked at /Users/matthew.earthmover/.cargo/registry/src/index.crates.io-6f17d22bba15001f/object_store-0.11.0/src/upload.rs:212:20:\n",
      "there is no reactor running, must be called from the context of a Tokio 1.x runtime\n",
      "thread '<unnamed>' panicked at /Users/matthew.earthmover/.cargo/registry/src/index.crates.io-6f17d22bba15001f/object_store-0.11.0/src/upload.rs:212:20:\n",
      "there is no reactor running, must be called from the context of a Tokio 1.x runtime\n",
      "thread '<unnamed>' panicked at /Users/matthew.earthmover/.cargo/registry/src/index.crates.io-6f17d22bba15001f/object_store-0.11.0/src/upload.rs:212:20:\n",
      "there is no reactor running, must be called from the context of a Tokio 1.x runtime\n",
      "thread '<unnamed>' panicked at /Users/matthew.earthmover/.cargo/registry/src/index.crates.io-6f17d22bba15001f/object_store-0.11.0/src/upload.rs:212:20:\n",
      "there is no reactor running, must be called from the context of a Tokio 1.x runtime\n",
      "thread '<unnamed>' panicked at /Users/matthew.earthmover/.cargo/registry/src/index.crates.io-6f17d22bba15001f/object_store-0.11.0/src/upload.rs:212:20:\n",
      "there is no reactor running, must be called from the context of a Tokio 1.x runtime\n",
      "thread '<unnamed>' panicked at /Users/matthew.earthmover/.cargo/registry/src/index.crates.io-6f17d22bba15001f/object_store-0.11.0/src/upload.rs:212:20:\n",
      "there is no reactor running, must be called from the context of a Tokio 1.x runtime\n",
      "thread '<unnamed>' panicked at /Users/matthew.earthmover/.cargo/registry/src/index.crates.io-6f17d22bba15001f/object_store-0.11.0/src/upload.rs:212:20:\n",
      "there is no reactor running, must be called from the context of a Tokio 1.x runtime\n",
      "thread '<unnamed>' panicked at /Users/matthew.earthmover/.cargo/registry/src/index.crates.io-6f17d22bba15001f/object_store-0.11.0/src/upload.rs:212:20:\n",
      "there is no reactor running, must be called from the context of a Tokio 1.x runtime\n",
      "thread '<unnamed>' panicked at /Users/matthew.earthmover/.cargo/registry/src/index.crates.io-6f17d22bba15001f/object_store-0.11.0/src/upload.rs:212:20:\n",
      "there is no reactor running, must be called from the context of a Tokio 1.x runtime\n",
      "thread '<unnamed>' panicked at /Users/matthew.earthmover/.cargo/registry/src/index.crates.io-6f17d22bba15001f/object_store-0.11.0/src/upload.rs:212:20:\n",
      "there is no reactor running, must be called from the context of a Tokio 1.x runtime\n",
      "thread '<unnamed>' panicked at /Users/matthew.earthmover/.cargo/registry/src/index.crates.io-6f17d22bba15001f/object_store-0.11.0/src/upload.rs:212:20:\n",
      "there is no reactor running, must be called from the context of a Tokio 1.x runtime\n",
      "thread '<unnamed>' panicked at /Users/matthew.earthmover/.cargo/registry/src/index.crates.io-6f17d22bba15001f/object_store-0.11.0/src/upload.rs:212:20:\n",
      "there is no reactor running, must be called from the context of a Tokio 1.x runtime\n",
      "thread '<unnamed>' panicked at /Users/matthew.earthmover/.cargo/registry/src/index.crates.io-6f17d22bba15001f/object_store-0.11.0/src/upload.rs:212:20:\n",
      "there is no reactor running, must be called from the context of a Tokio 1.x runtime\n",
      "thread '<unnamed>' panicked at /Users/matthew.earthmover/.cargo/registry/src/index.crates.io-6f17d22bba15001f/object_store-0.11.0/src/upload.rs:212:20:\n",
      "there is no reactor running, must be called from the context of a Tokio 1.x runtime\n",
      "thread '<unnamed>' panicked at /Users/matthew.earthmover/.cargo/registry/src/index.crates.io-6f17d22bba15001f/object_store-0.11.0/src/upload.rs:212:20:\n",
      "there is no reactor running, must be called from the context of a Tokio 1.x runtime\n",
      "thread '<unnamed>' panicked at /Users/matthew.earthmover/.cargo/registry/src/index.crates.io-6f17d22bba15001f/object_store-0.11.0/src/upload.rs:212:20:\n",
      "there is no reactor running, must be called from the context of a Tokio 1.x runtime\n",
      "thread '<unnamed>' panicked at /Users/matthew.earthmover/.cargo/registry/src/index.crates.io-6f17d22bba15001f/object_store-0.11.0/src/upload.rs:212:20:\n",
      "there is no reactor running, must be called from the context of a Tokio 1.x runtime\n",
      "thread '<unnamed>' panicked at /Users/matthew.earthmover/.cargo/registry/src/index.crates.io-6f17d22bba15001f/object_store-0.11.0/src/upload.rs:212:20:\n",
      "there is no reactor running, must be called from the context of a Tokio 1.x runtime\n",
      "thread '<unnamed>' panicked at /Users/matthew.earthmover/.cargo/registry/src/index.crates.io-6f17d22bba15001f/object_store-0.11.0/src/upload.rs:212:20:\n",
      "there is no reactor running, must be called from the context of a Tokio 1.x runtime\n",
      "thread '<unnamed>' panicked at /Users/matthew.earthmover/.cargo/registry/src/index.crates.io-6f17d22bba15001f/object_store-0.11.0/src/upload.rs:212:20:\n",
      "there is no reactor running, must be called from the context of a Tokio 1.x runtime\n",
      "thread '<unnamed>' panicked at /Users/matthew.earthmover/.cargo/registry/src/index.crates.io-6f17d22bba15001f/object_store-0.11.0/src/upload.rs:212:20:\n",
      "there is no reactor running, must be called from the context of a Tokio 1.x runtime\n",
      "thread '<unnamed>' panicked at /Users/matthew.earthmover/.cargo/registry/src/index.crates.io-6f17d22bba15001f/object_store-0.11.0/src/upload.rs:212:20:\n",
      "there is no reactor running, must be called from the context of a Tokio 1.x runtime\n",
      "thread '<unnamed>' panicked at /Users/matthew.earthmover/.cargo/registry/src/index.crates.io-6f17d22bba15001f/object_store-0.11.0/src/upload.rs:212:20:\n",
      "there is no reactor running, must be called from the context of a Tokio 1.x runtime\n",
      "thread '<unnamed>' panicked at /Users/matthew.earthmover/.cargo/registry/src/index.crates.io-6f17d22bba15001f/object_store-0.11.0/src/upload.rs:212:20:\n",
      "there is no reactor running, must be called from the context of a Tokio 1.x runtime\n",
      "thread '<unnamed>' panicked at /Users/matthew.earthmover/.cargo/registry/src/index.crates.io-6f17d22bba15001f/object_store-0.11.0/src/upload.rs:212:20:\n",
      "there is no reactor running, must be called from the context of a Tokio 1.x runtime\n",
      "thread '<unnamed>' panicked at /Users/matthew.earthmover/.cargo/registry/src/index.crates.io-6f17d22bba15001f/object_store-0.11.0/src/upload.rs:212:20:\n",
      "there is no reactor running, must be called from the context of a Tokio 1.x runtime\n",
      "thread '<unnamed>' panicked at /Users/matthew.earthmover/.cargo/registry/src/index.crates.io-6f17d22bba15001f/object_store-0.11.0/src/upload.rs:212:20:\n",
      "there is no reactor running, must be called from the context of a Tokio 1.x runtime\n",
      "thread '<unnamed>' panicked at /Users/matthew.earthmover/.cargo/registry/src/index.crates.io-6f17d22bba15001f/object_store-0.11.0/src/upload.rs:212:20:\n",
      "there is no reactor running, must be called from the context of a Tokio 1.x runtime\n",
      "thread '<unnamed>' panicked at /Users/matthew.earthmover/.cargo/registry/src/index.crates.io-6f17d22bba15001f/object_store-0.11.0/src/upload.rs:212:20:\n",
      "there is no reactor running, must be called from the context of a Tokio 1.x runtime\n",
      "thread '<unnamed>' panicked at /Users/matthew.earthmover/.cargo/registry/src/index.crates.io-6f17d22bba15001f/object_store-0.11.0/src/upload.rs:212:20:\n",
      "there is no reactor running, must be called from the context of a Tokio 1.x runtime\n",
      "thread '<unnamed>' panicked at /Users/matthew.earthmover/.cargo/registry/src/index.crates.io-6f17d22bba15001f/object_store-0.11.0/src/upload.rs:212:20:\n",
      "there is no reactor running, must be called from the context of a Tokio 1.x runtime\n",
      "thread '<unnamed>' panicked at /Users/matthew.earthmover/.cargo/registry/src/index.crates.io-6f17d22bba15001f/object_store-0.11.0/src/upload.rs:212:20:\n",
      "there is no reactor running, must be called from the context of a Tokio 1.x runtime\n",
      "thread '<unnamed>' panicked at /Users/matthew.earthmover/.cargo/registry/src/index.crates.io-6f17d22bba15001f/object_store-0.11.0/src/upload.rs:212:20:\n",
      "there is no reactor running, must be called from the context of a Tokio 1.x runtime\n",
      "thread '<unnamed>' panicked at /Users/matthew.earthmover/.cargo/registry/src/index.crates.io-6f17d22bba15001f/object_store-0.11.0/src/upload.rs:212:20:\n",
      "there is no reactor running, must be called from the context of a Tokio 1.x runtime\n",
      "thread '<unnamed>' panicked at /Users/matthew.earthmover/.cargo/registry/src/index.crates.io-6f17d22bba15001f/object_store-0.11.0/src/upload.rs:212:20:\n",
      "there is no reactor running, must be called from the context of a Tokio 1.x runtime\n",
      "thread '<unnamed>' panicked at /Users/matthew.earthmover/.cargo/registry/src/index.crates.io-6f17d22bba15001f/object_store-0.11.0/src/upload.rs:212:20:\n",
      "there is no reactor running, must be called from the context of a Tokio 1.x runtime\n",
      "thread '<unnamed>' panicked at /Users/matthew.earthmover/.cargo/registry/src/index.crates.io-6f17d22bba15001f/object_store-0.11.0/src/upload.rs:212:20:\n",
      "there is no reactor running, must be called from the context of a Tokio 1.x runtime\n",
      "thread '<unnamed>' panicked at /Users/matthew.earthmover/.cargo/registry/src/index.crates.io-6f17d22bba15001f/object_store-0.11.0/src/upload.rs:212:20:\n",
      "there is no reactor running, must be called from the context of a Tokio 1.x runtime\n",
      "thread '<unnamed>' panicked at /Users/matthew.earthmover/.cargo/registry/src/index.crates.io-6f17d22bba15001f/object_store-0.11.0/src/upload.rs:212:20:\n",
      "there is no reactor running, must be called from the context of a Tokio 1.x runtime\n",
      "thread '<unnamed>' panicked at /Users/matthew.earthmover/.cargo/registry/src/index.crates.io-6f17d22bba15001f/object_store-0.11.0/src/upload.rs:212:20:\n",
      "there is no reactor running, must be called from the context of a Tokio 1.x runtime\n",
      "thread '<unnamed>' panicked at /Users/matthew.earthmover/.cargo/registry/src/index.crates.io-6f17d22bba15001f/object_store-0.11.0/src/upload.rs:212:20:\n",
      "there is no reactor running, must be called from the context of a Tokio 1.x runtime\n",
      "thread '<unnamed>' panicked at /Users/matthew.earthmover/.cargo/registry/src/index.crates.io-6f17d22bba15001f/object_store-0.11.0/src/upload.rs:212:20:\n",
      "there is no reactor running, must be called from the context of a Tokio 1.x runtime\n",
      "thread '<unnamed>' panicked at /Users/matthew.earthmover/.cargo/registry/src/index.crates.io-6f17d22bba15001f/object_store-0.11.0/src/upload.rs:212:20:\n",
      "there is no reactor running, must be called from the context of a Tokio 1.x runtime\n",
      "thread '<unnamed>' panicked at /Users/matthew.earthmover/.cargo/registry/src/index.crates.io-6f17d22bba15001f/object_store-0.11.0/src/upload.rs:212:20:\n",
      "there is no reactor running, must be called from the context of a Tokio 1.x runtime\n",
      "thread '<unnamed>' panicked at /Users/matthew.earthmover/.cargo/registry/src/index.crates.io-6f17d22bba15001f/object_store-0.11.0/src/upload.rs:212:20:\n",
      "there is no reactor running, must be called from the context of a Tokio 1.x runtime\n",
      "thread '<unnamed>' panicked at /Users/matthew.earthmover/.cargo/registry/src/index.crates.io-6f17d22bba15001f/object_store-0.11.0/src/upload.rs:212:20:\n",
      "there is no reactor running, must be called from the context of a Tokio 1.x runtime\n",
      "thread '<unnamed>' panicked at /Users/matthew.earthmover/.cargo/registry/src/index.crates.io-6f17d22bba15001f/object_store-0.11.0/src/upload.rs:212:20:\n",
      "there is no reactor running, must be called from the context of a Tokio 1.x runtime\n",
      "thread '<unnamed>' panicked at /Users/matthew.earthmover/.cargo/registry/src/index.crates.io-6f17d22bba15001f/object_store-0.11.0/src/upload.rs:212:20:\n",
      "there is no reactor running, must be called from the context of a Tokio 1.x runtime\n",
      "thread '<unnamed>' panicked at /Users/matthew.earthmover/.cargo/registry/src/index.crates.io-6f17d22bba15001f/object_store-0.11.0/src/upload.rs:212:20:\n",
      "there is no reactor running, must be called from the context of a Tokio 1.x runtime\n",
      "thread '<unnamed>' panicked at /Users/matthew.earthmover/.cargo/registry/src/index.crates.io-6f17d22bba15001f/object_store-0.11.0/src/upload.rs:212:20:\n",
      "there is no reactor running, must be called from the context of a Tokio 1.x runtime\n",
      "thread '<unnamed>' panicked at /Users/matthew.earthmover/.cargo/registry/src/index.crates.io-6f17d22bba15001f/object_store-0.11.0/src/upload.rs:212:20:\n",
      "there is no reactor running, must be called from the context of a Tokio 1.x runtime\n",
      "thread '<unnamed>' panicked at /Users/matthew.earthmover/.cargo/registry/src/index.crates.io-6f17d22bba15001f/object_store-0.11.0/src/upload.rs:212:20:\n",
      "there is no reactor running, must be called from the context of a Tokio 1.x runtime\n",
      "thread '<unnamed>' panicked at /Users/matthew.earthmover/.cargo/registry/src/index.crates.io-6f17d22bba15001f/object_store-0.11.0/src/upload.rs:212:20:\n",
      "there is no reactor running, must be called from the context of a Tokio 1.x runtime\n",
      "thread '<unnamed>' panicked at /Users/matthew.earthmover/.cargo/registry/src/index.crates.io-6f17d22bba15001f/object_store-0.11.0/src/upload.rs:212:20:\n",
      "there is no reactor running, must be called from the context of a Tokio 1.x runtime\n",
      "thread '<unnamed>' panicked at /Users/matthew.earthmover/.cargo/registry/src/index.crates.io-6f17d22bba15001f/object_store-0.11.0/src/upload.rs:212:20:\n",
      "there is no reactor running, must be called from the context of a Tokio 1.x runtime\n",
      "thread '<unnamed>' panicked at /Users/matthew.earthmover/.cargo/registry/src/index.crates.io-6f17d22bba15001f/object_store-0.11.0/src/upload.rs:212:20:\n",
      "there is no reactor running, must be called from the context of a Tokio 1.x runtime\n",
      "thread '<unnamed>' panicked at /Users/matthew.earthmover/.cargo/registry/src/index.crates.io-6f17d22bba15001f/object_store-0.11.0/src/upload.rs:212:20:\n",
      "there is no reactor running, must be called from the context of a Tokio 1.x runtime\n",
      "thread '<unnamed>' panicked at /Users/matthew.earthmover/.cargo/registry/src/index.crates.io-6f17d22bba15001f/object_store-0.11.0/src/upload.rs:212:20:\n",
      "there is no reactor running, must be called from the context of a Tokio 1.x runtime\n",
      "thread '<unnamed>' panicked at /Users/matthew.earthmover/.cargo/registry/src/index.crates.io-6f17d22bba15001f/object_store-0.11.0/src/upload.rs:212:20:\n",
      "there is no reactor running, must be called from the context of a Tokio 1.x runtime\n",
      "thread '<unnamed>' panicked at /Users/matthew.earthmover/.cargo/registry/src/index.crates.io-6f17d22bba15001f/object_store-0.11.0/src/upload.rs:212:20:\n",
      "there is no reactor running, must be called from the context of a Tokio 1.x runtime\n",
      "thread '<unnamed>' panicked at /Users/matthew.earthmover/.cargo/registry/src/index.crates.io-6f17d22bba15001f/object_store-0.11.0/src/upload.rs:212:20:\n",
      "there is no reactor running, must be called from the context of a Tokio 1.x runtime\n",
      "thread '<unnamed>' panicked at /Users/matthew.earthmover/.cargo/registry/src/index.crates.io-6f17d22bba15001f/object_store-0.11.0/src/upload.rs:212:20:\n",
      "there is no reactor running, must be called from the context of a Tokio 1.x runtime\n",
      "thread '<unnamed>' panicked at /Users/matthew.earthmover/.cargo/registry/src/index.crates.io-6f17d22bba15001f/object_store-0.11.0/src/upload.rs:212:20:\n",
      "there is no reactor running, must be called from the context of a Tokio 1.x runtime\n",
      "thread '<unnamed>' panicked at /Users/matthew.earthmover/.cargo/registry/src/index.crates.io-6f17d22bba15001f/object_store-0.11.0/src/upload.rs:212:20:\n",
      "there is no reactor running, must be called from the context of a Tokio 1.x runtime\n",
      "thread '<unnamed>' panicked at /Users/matthew.earthmover/.cargo/registry/src/index.crates.io-6f17d22bba15001f/object_store-0.11.0/src/upload.rs:212:20:\n",
      "there is no reactor running, must be called from the context of a Tokio 1.x runtime\n",
      "thread '<unnamed>' panicked at /Users/matthew.earthmover/.cargo/registry/src/index.crates.io-6f17d22bba15001f/object_store-0.11.0/src/upload.rs:212:20:\n",
      "there is no reactor running, must be called from the context of a Tokio 1.x runtime\n",
      "thread '<unnamed>' panicked at /Users/matthew.earthmover/.cargo/registry/src/index.crates.io-6f17d22bba15001f/object_store-0.11.0/src/upload.rs:212:20:\n",
      "there is no reactor running, must be called from the context of a Tokio 1.x runtime\n",
      "thread '<unnamed>' panicked at /Users/matthew.earthmover/.cargo/registry/src/index.crates.io-6f17d22bba15001f/object_store-0.11.0/src/upload.rs:212:20:\n",
      "there is no reactor running, must be called from the context of a Tokio 1.x runtime\n",
      "thread '<unnamed>' panicked at /Users/matthew.earthmover/.cargo/registry/src/index.crates.io-6f17d22bba15001f/object_store-0.11.0/src/upload.rs:212:20:\n",
      "there is no reactor running, must be called from the context of a Tokio 1.x runtime\n",
      "thread '<unnamed>' panicked at /Users/matthew.earthmover/.cargo/registry/src/index.crates.io-6f17d22bba15001f/object_store-0.11.0/src/upload.rs:212:20:\n",
      "there is no reactor running, must be called from the context of a Tokio 1.x runtime\n",
      "thread '<unnamed>' panicked at /Users/matthew.earthmover/.cargo/registry/src/index.crates.io-6f17d22bba15001f/object_store-0.11.0/src/upload.rs:212:20:\n",
      "there is no reactor running, must be called from the context of a Tokio 1.x runtime\n"
     ]
    },
    {
     "ename": "PanicException",
     "evalue": "there is no reactor running, must be called from the context of a Tokio 1.x runtime",
     "output_type": "error",
     "traceback": [
      "\u001b[0;31m---------------------------------------------------------------------------\u001b[0m",
      "\u001b[0;31mPanicException\u001b[0m                            Traceback (most recent call last)",
      "Cell \u001b[0;32mIn[6], line 1\u001b[0m\n\u001b[0;32m----> 1\u001b[0m \u001b[43mair_temp\u001b[49m\u001b[43m[\u001b[49m\u001b[43m:\u001b[49m\u001b[43m,\u001b[49m\u001b[43m \u001b[49m\u001b[43m:\u001b[49m\u001b[43m]\u001b[49m \u001b[38;5;241m=\u001b[39m \u001b[38;5;241m42\u001b[39m\n",
      "File \u001b[0;32m~/Developer/icechunk/icechunk-python/.venv/lib/python3.11/site-packages/zarr/core/array.py:998\u001b[0m, in \u001b[0;36mArray.__setitem__\u001b[0;34m(self, selection, value)\u001b[0m\n\u001b[1;32m    996\u001b[0m     \u001b[38;5;28mself\u001b[39m\u001b[38;5;241m.\u001b[39mvindex[cast(CoordinateSelection \u001b[38;5;241m|\u001b[39m MaskSelection, selection)] \u001b[38;5;241m=\u001b[39m value\n\u001b[1;32m    997\u001b[0m \u001b[38;5;28;01melif\u001b[39;00m is_pure_orthogonal_indexing(pure_selection, \u001b[38;5;28mself\u001b[39m\u001b[38;5;241m.\u001b[39mndim):\n\u001b[0;32m--> 998\u001b[0m     \u001b[38;5;28;43mself\u001b[39;49m\u001b[38;5;241;43m.\u001b[39;49m\u001b[43mset_orthogonal_selection\u001b[49m\u001b[43m(\u001b[49m\u001b[43mpure_selection\u001b[49m\u001b[43m,\u001b[49m\u001b[43m \u001b[49m\u001b[43mvalue\u001b[49m\u001b[43m,\u001b[49m\u001b[43m \u001b[49m\u001b[43mfields\u001b[49m\u001b[38;5;241;43m=\u001b[39;49m\u001b[43mfields\u001b[49m\u001b[43m)\u001b[49m\n\u001b[1;32m    999\u001b[0m \u001b[38;5;28;01melse\u001b[39;00m:\n\u001b[1;32m   1000\u001b[0m     \u001b[38;5;28mself\u001b[39m\u001b[38;5;241m.\u001b[39mset_basic_selection(cast(BasicSelection, pure_selection), value, fields\u001b[38;5;241m=\u001b[39mfields)\n",
      "File \u001b[0;32m~/Developer/icechunk/icechunk-python/.venv/lib/python3.11/site-packages/zarr/core/array.py:1450\u001b[0m, in \u001b[0;36mArray.set_orthogonal_selection\u001b[0;34m(self, selection, value, fields, prototype)\u001b[0m\n\u001b[1;32m   1448\u001b[0m     prototype \u001b[38;5;241m=\u001b[39m default_buffer_prototype()\n\u001b[1;32m   1449\u001b[0m indexer \u001b[38;5;241m=\u001b[39m OrthogonalIndexer(selection, \u001b[38;5;28mself\u001b[39m\u001b[38;5;241m.\u001b[39mshape, \u001b[38;5;28mself\u001b[39m\u001b[38;5;241m.\u001b[39mmetadata\u001b[38;5;241m.\u001b[39mchunk_grid)\n\u001b[0;32m-> 1450\u001b[0m \u001b[38;5;28;01mreturn\u001b[39;00m \u001b[43msync\u001b[49m\u001b[43m(\u001b[49m\n\u001b[1;32m   1451\u001b[0m \u001b[43m    \u001b[49m\u001b[38;5;28;43mself\u001b[39;49m\u001b[38;5;241;43m.\u001b[39;49m\u001b[43m_async_array\u001b[49m\u001b[38;5;241;43m.\u001b[39;49m\u001b[43m_set_selection\u001b[49m\u001b[43m(\u001b[49m\u001b[43mindexer\u001b[49m\u001b[43m,\u001b[49m\u001b[43m \u001b[49m\u001b[43mvalue\u001b[49m\u001b[43m,\u001b[49m\u001b[43m \u001b[49m\u001b[43mfields\u001b[49m\u001b[38;5;241;43m=\u001b[39;49m\u001b[43mfields\u001b[49m\u001b[43m,\u001b[49m\u001b[43m \u001b[49m\u001b[43mprototype\u001b[49m\u001b[38;5;241;43m=\u001b[39;49m\u001b[43mprototype\u001b[49m\u001b[43m)\u001b[49m\n\u001b[1;32m   1452\u001b[0m \u001b[43m\u001b[49m\u001b[43m)\u001b[49m\n",
      "File \u001b[0;32m~/Developer/icechunk/icechunk-python/.venv/lib/python3.11/site-packages/zarr/core/sync.py:88\u001b[0m, in \u001b[0;36msync\u001b[0;34m(coro, loop, timeout)\u001b[0m\n\u001b[1;32m     86\u001b[0m     \u001b[38;5;28;01mraise\u001b[39;00m asyncio\u001b[38;5;241m.\u001b[39mTimeoutError(\u001b[38;5;124mf\u001b[39m\u001b[38;5;124m\"\u001b[39m\u001b[38;5;124mCoroutine \u001b[39m\u001b[38;5;132;01m{\u001b[39;00mcoro\u001b[38;5;132;01m}\u001b[39;00m\u001b[38;5;124m failed to finish in within \u001b[39m\u001b[38;5;132;01m{\u001b[39;00mtimeout\u001b[38;5;132;01m}\u001b[39;00m\u001b[38;5;124ms\u001b[39m\u001b[38;5;124m\"\u001b[39m)\n\u001b[1;32m     87\u001b[0m \u001b[38;5;28;01massert\u001b[39;00m \u001b[38;5;28mlen\u001b[39m(finished) \u001b[38;5;241m==\u001b[39m \u001b[38;5;241m1\u001b[39m\n\u001b[0;32m---> 88\u001b[0m return_result \u001b[38;5;241m=\u001b[39m \u001b[38;5;28;43mnext\u001b[39;49m\u001b[43m(\u001b[49m\u001b[38;5;28;43miter\u001b[39;49m\u001b[43m(\u001b[49m\u001b[43mfinished\u001b[49m\u001b[43m)\u001b[49m\u001b[43m)\u001b[49m\u001b[38;5;241;43m.\u001b[39;49m\u001b[43mresult\u001b[49m\u001b[43m(\u001b[49m\u001b[43m)\u001b[49m\n\u001b[1;32m     90\u001b[0m \u001b[38;5;28;01mif\u001b[39;00m \u001b[38;5;28misinstance\u001b[39m(return_result, \u001b[38;5;167;01mBaseException\u001b[39;00m):\n\u001b[1;32m     91\u001b[0m     \u001b[38;5;28;01mraise\u001b[39;00m return_result\n",
      "File \u001b[0;32m~/.pyenv/versions/3.11.9/lib/python3.11/concurrent/futures/_base.py:449\u001b[0m, in \u001b[0;36mFuture.result\u001b[0;34m(self, timeout)\u001b[0m\n\u001b[1;32m    447\u001b[0m     \u001b[38;5;28;01mraise\u001b[39;00m CancelledError()\n\u001b[1;32m    448\u001b[0m \u001b[38;5;28;01melif\u001b[39;00m \u001b[38;5;28mself\u001b[39m\u001b[38;5;241m.\u001b[39m_state \u001b[38;5;241m==\u001b[39m FINISHED:\n\u001b[0;32m--> 449\u001b[0m     \u001b[38;5;28;01mreturn\u001b[39;00m \u001b[38;5;28;43mself\u001b[39;49m\u001b[38;5;241;43m.\u001b[39;49m\u001b[43m__get_result\u001b[49m\u001b[43m(\u001b[49m\u001b[43m)\u001b[49m\n\u001b[1;32m    451\u001b[0m \u001b[38;5;28mself\u001b[39m\u001b[38;5;241m.\u001b[39m_condition\u001b[38;5;241m.\u001b[39mwait(timeout)\n\u001b[1;32m    453\u001b[0m \u001b[38;5;28;01mif\u001b[39;00m \u001b[38;5;28mself\u001b[39m\u001b[38;5;241m.\u001b[39m_state \u001b[38;5;129;01min\u001b[39;00m [CANCELLED, CANCELLED_AND_NOTIFIED]:\n",
      "File \u001b[0;32m~/.pyenv/versions/3.11.9/lib/python3.11/concurrent/futures/_base.py:401\u001b[0m, in \u001b[0;36mFuture.__get_result\u001b[0;34m(self)\u001b[0m\n\u001b[1;32m    399\u001b[0m \u001b[38;5;28;01mif\u001b[39;00m \u001b[38;5;28mself\u001b[39m\u001b[38;5;241m.\u001b[39m_exception:\n\u001b[1;32m    400\u001b[0m     \u001b[38;5;28;01mtry\u001b[39;00m:\n\u001b[0;32m--> 401\u001b[0m         \u001b[38;5;28;01mraise\u001b[39;00m \u001b[38;5;28mself\u001b[39m\u001b[38;5;241m.\u001b[39m_exception\n\u001b[1;32m    402\u001b[0m     \u001b[38;5;28;01mfinally\u001b[39;00m:\n\u001b[1;32m    403\u001b[0m         \u001b[38;5;66;03m# Break a reference cycle with the exception in self._exception\u001b[39;00m\n\u001b[1;32m    404\u001b[0m         \u001b[38;5;28mself\u001b[39m \u001b[38;5;241m=\u001b[39m \u001b[38;5;28;01mNone\u001b[39;00m\n",
      "File \u001b[0;32m~/Developer/icechunk/icechunk-python/.venv/lib/python3.11/site-packages/zarr/core/sync.py:50\u001b[0m, in \u001b[0;36m_runner\u001b[0;34m(coro)\u001b[0m\n\u001b[1;32m     45\u001b[0m \u001b[38;5;250m\u001b[39m\u001b[38;5;124;03m\"\"\"\u001b[39;00m\n\u001b[1;32m     46\u001b[0m \u001b[38;5;124;03mAwait a coroutine and return the result of running it. If awaiting the coroutine raises an\u001b[39;00m\n\u001b[1;32m     47\u001b[0m \u001b[38;5;124;03mexception, the exception will be returned.\u001b[39;00m\n\u001b[1;32m     48\u001b[0m \u001b[38;5;124;03m\"\"\"\u001b[39;00m\n\u001b[1;32m     49\u001b[0m \u001b[38;5;28;01mtry\u001b[39;00m:\n\u001b[0;32m---> 50\u001b[0m     \u001b[38;5;28;01mreturn\u001b[39;00m \u001b[38;5;28;01mawait\u001b[39;00m coro\n\u001b[1;32m     51\u001b[0m \u001b[38;5;28;01mexcept\u001b[39;00m \u001b[38;5;167;01mException\u001b[39;00m \u001b[38;5;28;01mas\u001b[39;00m ex:\n\u001b[1;32m     52\u001b[0m     \u001b[38;5;28;01mreturn\u001b[39;00m ex\n",
      "File \u001b[0;32m~/Developer/icechunk/icechunk-python/.venv/lib/python3.11/site-packages/zarr/core/array.py:531\u001b[0m, in \u001b[0;36mAsyncArray._set_selection\u001b[0;34m(self, indexer, value, prototype, fields)\u001b[0m\n\u001b[1;32m    528\u001b[0m value_buffer \u001b[38;5;241m=\u001b[39m prototype\u001b[38;5;241m.\u001b[39mnd_buffer\u001b[38;5;241m.\u001b[39mfrom_ndarray_like(value)\n\u001b[1;32m    530\u001b[0m \u001b[38;5;66;03m# merging with existing data and encoding chunks\u001b[39;00m\n\u001b[0;32m--> 531\u001b[0m \u001b[38;5;28;01mawait\u001b[39;00m \u001b[38;5;28mself\u001b[39m\u001b[38;5;241m.\u001b[39mcodec_pipeline\u001b[38;5;241m.\u001b[39mwrite(\n\u001b[1;32m    532\u001b[0m     [\n\u001b[1;32m    533\u001b[0m         (\n\u001b[1;32m    534\u001b[0m             \u001b[38;5;28mself\u001b[39m\u001b[38;5;241m.\u001b[39mstore_path \u001b[38;5;241m/\u001b[39m \u001b[38;5;28mself\u001b[39m\u001b[38;5;241m.\u001b[39mmetadata\u001b[38;5;241m.\u001b[39mencode_chunk_key(chunk_coords),\n\u001b[1;32m    535\u001b[0m             \u001b[38;5;28mself\u001b[39m\u001b[38;5;241m.\u001b[39mmetadata\u001b[38;5;241m.\u001b[39mget_chunk_spec(chunk_coords, \u001b[38;5;28mself\u001b[39m\u001b[38;5;241m.\u001b[39morder, prototype),\n\u001b[1;32m    536\u001b[0m             chunk_selection,\n\u001b[1;32m    537\u001b[0m             out_selection,\n\u001b[1;32m    538\u001b[0m         )\n\u001b[1;32m    539\u001b[0m         \u001b[38;5;28;01mfor\u001b[39;00m chunk_coords, chunk_selection, out_selection \u001b[38;5;129;01min\u001b[39;00m indexer\n\u001b[1;32m    540\u001b[0m     ],\n\u001b[1;32m    541\u001b[0m     value_buffer,\n\u001b[1;32m    542\u001b[0m     drop_axes\u001b[38;5;241m=\u001b[39mindexer\u001b[38;5;241m.\u001b[39mdrop_axes,\n\u001b[1;32m    543\u001b[0m )\n",
      "File \u001b[0;32m~/Developer/icechunk/icechunk-python/.venv/lib/python3.11/site-packages/zarr/codecs/pipeline.py:461\u001b[0m, in \u001b[0;36mBatchedCodecPipeline.write\u001b[0;34m(self, batch_info, value, drop_axes)\u001b[0m\n\u001b[1;32m    455\u001b[0m \u001b[38;5;28;01masync\u001b[39;00m \u001b[38;5;28;01mdef\u001b[39;00m \u001b[38;5;21mwrite\u001b[39m(\n\u001b[1;32m    456\u001b[0m     \u001b[38;5;28mself\u001b[39m,\n\u001b[1;32m    457\u001b[0m     batch_info: Iterable[\u001b[38;5;28mtuple\u001b[39m[ByteSetter, ArraySpec, SelectorTuple, SelectorTuple]],\n\u001b[1;32m    458\u001b[0m     value: NDBuffer,\n\u001b[1;32m    459\u001b[0m     drop_axes: \u001b[38;5;28mtuple\u001b[39m[\u001b[38;5;28mint\u001b[39m, \u001b[38;5;241m.\u001b[39m\u001b[38;5;241m.\u001b[39m\u001b[38;5;241m.\u001b[39m] \u001b[38;5;241m=\u001b[39m (),\n\u001b[1;32m    460\u001b[0m ) \u001b[38;5;241m-\u001b[39m\u001b[38;5;241m>\u001b[39m \u001b[38;5;28;01mNone\u001b[39;00m:\n\u001b[0;32m--> 461\u001b[0m     \u001b[38;5;28;01mawait\u001b[39;00m concurrent_map(\n\u001b[1;32m    462\u001b[0m         [\n\u001b[1;32m    463\u001b[0m             (single_batch_info, value, drop_axes)\n\u001b[1;32m    464\u001b[0m             \u001b[38;5;28;01mfor\u001b[39;00m single_batch_info \u001b[38;5;129;01min\u001b[39;00m batched(batch_info, \u001b[38;5;28mself\u001b[39m\u001b[38;5;241m.\u001b[39mbatch_size)\n\u001b[1;32m    465\u001b[0m         ],\n\u001b[1;32m    466\u001b[0m         \u001b[38;5;28mself\u001b[39m\u001b[38;5;241m.\u001b[39mwrite_batch,\n\u001b[1;32m    467\u001b[0m         config\u001b[38;5;241m.\u001b[39mget(\u001b[38;5;124m\"\u001b[39m\u001b[38;5;124masync.concurrency\u001b[39m\u001b[38;5;124m\"\u001b[39m),\n\u001b[1;32m    468\u001b[0m     )\n",
      "File \u001b[0;32m~/Developer/icechunk/icechunk-python/.venv/lib/python3.11/site-packages/zarr/core/common.py:51\u001b[0m, in \u001b[0;36mconcurrent_map\u001b[0;34m(items, func, limit)\u001b[0m\n\u001b[1;32m     47\u001b[0m \u001b[38;5;28;01masync\u001b[39;00m \u001b[38;5;28;01mdef\u001b[39;00m \u001b[38;5;21mconcurrent_map\u001b[39m(\n\u001b[1;32m     48\u001b[0m     items: \u001b[38;5;28mlist\u001b[39m[T], func: Callable[\u001b[38;5;241m.\u001b[39m\u001b[38;5;241m.\u001b[39m\u001b[38;5;241m.\u001b[39m, Awaitable[V]], limit: \u001b[38;5;28mint\u001b[39m \u001b[38;5;241m|\u001b[39m \u001b[38;5;28;01mNone\u001b[39;00m \u001b[38;5;241m=\u001b[39m \u001b[38;5;28;01mNone\u001b[39;00m\n\u001b[1;32m     49\u001b[0m ) \u001b[38;5;241m-\u001b[39m\u001b[38;5;241m>\u001b[39m \u001b[38;5;28mlist\u001b[39m[V]:\n\u001b[1;32m     50\u001b[0m     \u001b[38;5;28;01mif\u001b[39;00m limit \u001b[38;5;129;01mis\u001b[39;00m \u001b[38;5;28;01mNone\u001b[39;00m:\n\u001b[0;32m---> 51\u001b[0m         \u001b[38;5;28;01mreturn\u001b[39;00m \u001b[38;5;28;01mawait\u001b[39;00m asyncio\u001b[38;5;241m.\u001b[39mgather(\u001b[38;5;241m*\u001b[39m[func(\u001b[38;5;241m*\u001b[39mitem) \u001b[38;5;28;01mfor\u001b[39;00m item \u001b[38;5;129;01min\u001b[39;00m items])\n\u001b[1;32m     53\u001b[0m     \u001b[38;5;28;01melse\u001b[39;00m:\n\u001b[1;32m     54\u001b[0m         sem \u001b[38;5;241m=\u001b[39m asyncio\u001b[38;5;241m.\u001b[39mSemaphore(limit)\n",
      "File \u001b[0;32m~/Developer/icechunk/icechunk-python/.venv/lib/python3.11/site-packages/zarr/codecs/pipeline.py:411\u001b[0m, in \u001b[0;36mBatchedCodecPipeline.write_batch\u001b[0;34m(self, batch_info, value, drop_axes)\u001b[0m\n\u001b[1;32m    408\u001b[0m     \u001b[38;5;28;01melse\u001b[39;00m:\n\u001b[1;32m    409\u001b[0m         \u001b[38;5;28;01mawait\u001b[39;00m byte_setter\u001b[38;5;241m.\u001b[39mset(chunk_bytes)\n\u001b[0;32m--> 411\u001b[0m \u001b[38;5;28;01mawait\u001b[39;00m concurrent_map(\n\u001b[1;32m    412\u001b[0m     [\n\u001b[1;32m    413\u001b[0m         (byte_setter, chunk_bytes)\n\u001b[1;32m    414\u001b[0m         \u001b[38;5;28;01mfor\u001b[39;00m chunk_bytes, (byte_setter, _, _, _) \u001b[38;5;129;01min\u001b[39;00m \u001b[38;5;28mzip\u001b[39m(\n\u001b[1;32m    415\u001b[0m             chunk_bytes_batch, batch_info, strict\u001b[38;5;241m=\u001b[39m\u001b[38;5;28;01mFalse\u001b[39;00m\n\u001b[1;32m    416\u001b[0m         )\n\u001b[1;32m    417\u001b[0m     ],\n\u001b[1;32m    418\u001b[0m     _write_key,\n\u001b[1;32m    419\u001b[0m     config\u001b[38;5;241m.\u001b[39mget(\u001b[38;5;124m\"\u001b[39m\u001b[38;5;124masync.concurrency\u001b[39m\u001b[38;5;124m\"\u001b[39m),\n\u001b[1;32m    420\u001b[0m )\n",
      "File \u001b[0;32m~/Developer/icechunk/icechunk-python/.venv/lib/python3.11/site-packages/zarr/core/common.py:51\u001b[0m, in \u001b[0;36mconcurrent_map\u001b[0;34m(items, func, limit)\u001b[0m\n\u001b[1;32m     47\u001b[0m \u001b[38;5;28;01masync\u001b[39;00m \u001b[38;5;28;01mdef\u001b[39;00m \u001b[38;5;21mconcurrent_map\u001b[39m(\n\u001b[1;32m     48\u001b[0m     items: \u001b[38;5;28mlist\u001b[39m[T], func: Callable[\u001b[38;5;241m.\u001b[39m\u001b[38;5;241m.\u001b[39m\u001b[38;5;241m.\u001b[39m, Awaitable[V]], limit: \u001b[38;5;28mint\u001b[39m \u001b[38;5;241m|\u001b[39m \u001b[38;5;28;01mNone\u001b[39;00m \u001b[38;5;241m=\u001b[39m \u001b[38;5;28;01mNone\u001b[39;00m\n\u001b[1;32m     49\u001b[0m ) \u001b[38;5;241m-\u001b[39m\u001b[38;5;241m>\u001b[39m \u001b[38;5;28mlist\u001b[39m[V]:\n\u001b[1;32m     50\u001b[0m     \u001b[38;5;28;01mif\u001b[39;00m limit \u001b[38;5;129;01mis\u001b[39;00m \u001b[38;5;28;01mNone\u001b[39;00m:\n\u001b[0;32m---> 51\u001b[0m         \u001b[38;5;28;01mreturn\u001b[39;00m \u001b[38;5;28;01mawait\u001b[39;00m asyncio\u001b[38;5;241m.\u001b[39mgather(\u001b[38;5;241m*\u001b[39m[func(\u001b[38;5;241m*\u001b[39mitem) \u001b[38;5;28;01mfor\u001b[39;00m item \u001b[38;5;129;01min\u001b[39;00m items])\n\u001b[1;32m     53\u001b[0m     \u001b[38;5;28;01melse\u001b[39;00m:\n\u001b[1;32m     54\u001b[0m         sem \u001b[38;5;241m=\u001b[39m asyncio\u001b[38;5;241m.\u001b[39mSemaphore(limit)\n",
      "File \u001b[0;32m~/Developer/icechunk/icechunk-python/.venv/lib/python3.11/site-packages/zarr/codecs/pipeline.py:409\u001b[0m, in \u001b[0;36mBatchedCodecPipeline.write_batch.<locals>._write_key\u001b[0;34m(byte_setter, chunk_bytes)\u001b[0m\n\u001b[1;32m    407\u001b[0m     \u001b[38;5;28;01mawait\u001b[39;00m byte_setter\u001b[38;5;241m.\u001b[39mdelete()\n\u001b[1;32m    408\u001b[0m \u001b[38;5;28;01melse\u001b[39;00m:\n\u001b[0;32m--> 409\u001b[0m     \u001b[38;5;28;01mawait\u001b[39;00m byte_setter\u001b[38;5;241m.\u001b[39mset(chunk_bytes)\n",
      "File \u001b[0;32m~/Developer/icechunk/icechunk-python/.venv/lib/python3.11/site-packages/zarr/store/common.py:48\u001b[0m, in \u001b[0;36mStorePath.set\u001b[0;34m(self, value, byte_range)\u001b[0m\n\u001b[1;32m     46\u001b[0m \u001b[38;5;28;01mif\u001b[39;00m byte_range \u001b[38;5;129;01mis\u001b[39;00m \u001b[38;5;129;01mnot\u001b[39;00m \u001b[38;5;28;01mNone\u001b[39;00m:\n\u001b[1;32m     47\u001b[0m     \u001b[38;5;28;01mraise\u001b[39;00m \u001b[38;5;167;01mNotImplementedError\u001b[39;00m(\u001b[38;5;124m\"\u001b[39m\u001b[38;5;124mStore.set does not have partial writes yet\u001b[39m\u001b[38;5;124m\"\u001b[39m)\n\u001b[0;32m---> 48\u001b[0m \u001b[38;5;28;01mawait\u001b[39;00m \u001b[38;5;28mself\u001b[39m\u001b[38;5;241m.\u001b[39mstore\u001b[38;5;241m.\u001b[39mset(\u001b[38;5;28mself\u001b[39m\u001b[38;5;241m.\u001b[39mpath, value)\n",
      "File \u001b[0;32m~/Developer/icechunk/icechunk-python/python/icechunk/__init__.py:107\u001b[0m, in \u001b[0;36mIcechunkStore.set\u001b[0;34m(self, key, value)\u001b[0m\n\u001b[1;32m     99\u001b[0m \u001b[38;5;28;01masync\u001b[39;00m \u001b[38;5;28;01mdef\u001b[39;00m \u001b[38;5;21mset\u001b[39m(\u001b[38;5;28mself\u001b[39m, key: \u001b[38;5;28mstr\u001b[39m, value: Buffer) \u001b[38;5;241m-\u001b[39m\u001b[38;5;241m>\u001b[39m \u001b[38;5;28;01mNone\u001b[39;00m:\n\u001b[1;32m    100\u001b[0m \u001b[38;5;250m    \u001b[39m\u001b[38;5;124;03m\"\"\"Store a (key, value) pair.\u001b[39;00m\n\u001b[1;32m    101\u001b[0m \n\u001b[1;32m    102\u001b[0m \u001b[38;5;124;03m    Parameters\u001b[39;00m\n\u001b[0;32m   (...)\u001b[0m\n\u001b[1;32m    105\u001b[0m \u001b[38;5;124;03m    value : Buffer\u001b[39;00m\n\u001b[1;32m    106\u001b[0m \u001b[38;5;124;03m    \"\"\"\u001b[39;00m\n\u001b[0;32m--> 107\u001b[0m     \u001b[38;5;28;01mreturn\u001b[39;00m \u001b[38;5;28;01mawait\u001b[39;00m \u001b[38;5;28mself\u001b[39m\u001b[38;5;241m.\u001b[39m_store\u001b[38;5;241m.\u001b[39mset(key, value\u001b[38;5;241m.\u001b[39mto_bytes())\n",
      "\u001b[0;31mPanicException\u001b[0m: there is no reactor running, must be called from the context of a Tokio 1.x runtime"
     ]
    }
   ],
   "source": [
    "air_temp[:, :] = 42"
   ]
  },
  {
   "cell_type": "code",
   "execution_count": 7,
   "metadata": {},
   "outputs": [
    {
     "data": {
      "text/plain": [
       "array(0, dtype=int32)"
      ]
     },
     "execution_count": 7,
     "metadata": {},
     "output_type": "execute_result"
    }
   ],
   "source": [
    "air_temp[200, 6]"
   ]
  }
 ],
 "metadata": {
  "kernelspec": {
   "display_name": ".venv",
   "language": "python",
   "name": "python3"
  },
  "language_info": {
   "codemirror_mode": {
    "name": "ipython",
    "version": 3
   },
   "file_extension": ".py",
   "mimetype": "text/x-python",
   "name": "python",
   "nbconvert_exporter": "python",
   "pygments_lexer": "ipython3",
   "version": "3.11.9"
  }
 },
 "nbformat": 4,
 "nbformat_minor": 2
}
