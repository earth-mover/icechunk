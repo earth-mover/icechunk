{
 "cells": [
  {
   "cell_type": "markdown",
   "id": "525de621-5f6e-4c4f-9f93-ce65c4daebe8",
   "metadata": {},
   "source": [
    "# Version Control with Icechunk"
   ]
  },
  {
   "cell_type": "code",
   "execution_count": 1,
   "id": "020e322c-4323-4064-b17e-a1e95f710d21",
   "metadata": {},
   "outputs": [],
   "source": [
    "import zarr\n",
    "from icechunk import Repository, StorageConfig"
   ]
  },
  {
   "cell_type": "markdown",
   "id": "33262ee6-4e77-423d-a4c7-7ff28fd6f3a6",
   "metadata": {},
   "source": [
    "## Create a new Zarr store backed by Icechunk\n",
    "\n",
    "This example uses an in-memory store."
   ]
  },
  {
   "cell_type": "code",
   "execution_count": 2,
   "id": "dd35041c-7981-446a-8981-d1eae02f4fff",
   "metadata": {},
   "outputs": [
    {
     "data": {
      "text/plain": [
       "<icechunk.repository.Repository at 0x10a966950>"
      ]
     },
     "execution_count": 2,
     "metadata": {},
     "output_type": "execute_result"
    }
   ],
   "source": [
    "repo = Repository.create(\n",
    "    storage=StorageConfig.memory(\"test\")\n",
    ")\n",
    "repo"
   ]
  },
  {
   "cell_type": "markdown",
   "id": "fd4931a1-6988-4c1f-978a-70e375377681",
   "metadata": {},
   "source": [
    "1. Why not checkout main by default?\n",
    "2. Why can I create snapshots on the `None` branch"
   ]
  },
  {
   "cell_type": "markdown",
   "id": "fae0db7f-fc74-4fc6-afeb-fa4a7e59aa64",
   "metadata": {},
   "source": [
    "## Snaphotting\n",
    "\n",
    "### Concepts\n",
    "\n",
    "1. `store.commit` creates a _snapshot_ of the data.\n",
    "2. Every snapshot is associated with a _snapshot ID_.\n",
    "3. Use the _snapshot ID_ to time-travel within your data's history."
   ]
  },
  {
   "cell_type": "markdown",
   "id": "c8d89e5a-9205-45d4-b52e-cefef5ddfc4d",
   "metadata": {},
   "source": [
    "### Create a snapshot"
   ]
  },
  {
   "cell_type": "code",
   "execution_count": 3,
   "id": "51654a0d-58b2-43a9-acd9-0214f22c3dc5",
   "metadata": {},
   "outputs": [],
   "source": [
    "session = repo.writable_session(\"main\")\n",
    "store = session.store()\n",
    "root_group = zarr.group(store=store)"
   ]
  },
  {
   "cell_type": "code",
   "execution_count": 4,
   "id": "d8bf3160-2a39-48be-82ea-e800fd3164b3",
   "metadata": {},
   "outputs": [],
   "source": [
    "root_group.attrs[\"attr\"] = \"first_attr\""
   ]
  },
  {
   "cell_type": "code",
   "execution_count": 5,
   "id": "3a33f69c-9949-458a-9d3a-1f0d7f451553",
   "metadata": {},
   "outputs": [
    {
     "data": {
      "text/plain": [
       "'23G8HS855AW4W7E5QX20'"
      ]
     },
     "execution_count": 5,
     "metadata": {},
     "output_type": "execute_result"
    }
   ],
   "source": [
    "first_commit = session.commit(\"first commit\")\n",
    "first_commit"
   ]
  },
  {
   "cell_type": "code",
   "execution_count": 6,
   "id": "f41f701e-a513-4fe6-b23e-82200f5ab221",
   "metadata": {},
   "outputs": [
    {
     "data": {
      "text/plain": [
       "{'attr': 'first_attr'}"
      ]
     },
     "execution_count": 6,
     "metadata": {},
     "output_type": "execute_result"
    }
   ],
   "source": [
    "dict(root_group.attrs)"
   ]
  },
  {
   "cell_type": "code",
   "execution_count": 7,
   "id": "10e40f91-7f90-4feb-91ba-b51b709d508d",
   "metadata": {},
   "outputs": [
    {
     "data": {
      "text/plain": [
       "'5YQ4CHFRTA8WY621RREG'"
      ]
     },
     "execution_count": 7,
     "metadata": {},
     "output_type": "execute_result"
    }
   ],
   "source": [
    "session = repo.writable_session(\"main\")\n",
    "store = session.store()\n",
    "root_group = zarr.group(store=store)\n",
    "\n",
    "root_group.attrs[\"attr\"] = \"second_attr\"\n",
    "second_commit = session.commit(\"second commit\")\n",
    "second_commit"
   ]
  },
  {
   "cell_type": "markdown",
   "id": "fc5ae3f3-3add-45e7-8f5d-2e5909a6d579",
   "metadata": {},
   "source": [
    "### View the current snapshot ID"
   ]
  },
  {
   "cell_type": "code",
   "execution_count": 8,
   "id": "34fff29b-2bec-490c-89ef-51e14fb4527f",
   "metadata": {},
   "outputs": [
    {
     "data": {
      "text/plain": [
       "'5YQ4CHFRTA8WY621RREG'"
      ]
     },
     "execution_count": 8,
     "metadata": {},
     "output_type": "execute_result"
    }
   ],
   "source": [
    "repo.lookup_branch(\"main\")"
   ]
  },
  {
   "cell_type": "markdown",
   "id": "c23784f4-7476-4e11-ac27-c5d8f98070b3",
   "metadata": {},
   "source": [
    "### Time-travel to a snapshot"
   ]
  },
  {
   "cell_type": "markdown",
   "id": "5b4d922f-aea5-45f8-a9b5-2293ee46d3ba",
   "metadata": {},
   "source": [
    "Here's where we are:"
   ]
  },
  {
   "cell_type": "code",
   "execution_count": 9,
   "id": "ff66cc99-84ca-4371-b63d-12efa6e98dc3",
   "metadata": {},
   "outputs": [
    {
     "data": {
      "text/plain": [
       "('5YQ4CHFRTA8WY621RREG', {'attr': 'second_attr'})"
      ]
     },
     "execution_count": 9,
     "metadata": {},
     "output_type": "execute_result"
    }
   ],
   "source": [
    "session.snapshot_id, dict(root_group.attrs)"
   ]
  },
  {
   "cell_type": "code",
   "execution_count": 11,
   "id": "e785d9a1-36ec-4207-b334-20e0a68e3ac8",
   "metadata": {},
   "outputs": [
    {
     "data": {
      "text/plain": [
       "{'attr': 'second_attr'}"
      ]
     },
     "execution_count": 11,
     "metadata": {},
     "output_type": "execute_result"
    }
   ],
   "source": [
    "session = repo.readonly_session(snapshot_id=first_commit)\n",
    "root_group = zarr.open_group(store=store, mode=\"r\")\n",
    "dict(root_group.attrs)"
   ]
  },
  {
   "cell_type": "markdown",
   "id": "2b549569-029d-4184-ba98-43c5288605a5",
   "metadata": {},
   "source": [
    "### Snapshotting is only allowed at the tip of a branch\n",
    "\n",
    "TODO: need better error message"
   ]
  },
  {
   "cell_type": "code",
   "execution_count": 13,
   "id": "257215f2-fa09-4730-a1da-07a4d3d12b0c",
   "metadata": {},
   "outputs": [
    {
     "name": "stdout",
     "output_type": "stream",
     "text": [
      "store error: cannot write to read-only store\n"
     ]
    }
   ],
   "source": [
    "try:\n",
    "    root_group.attrs[\"attr\"] = \"will_fail\"\n",
    "    session.commit(\"this should fail\")\n",
    "except Exception as e:\n",
    "    print(e)"
   ]
  },
  {
   "cell_type": "markdown",
   "id": "0fc2f749-19cd-46ff-9619-4d3091cd5bfa",
   "metadata": {},
   "source": [
    "## Branching"
   ]
  },
  {
   "cell_type": "markdown",
   "id": "7e80c8a1-6fba-4aba-aa04-4fcc9cf3c7e9",
   "metadata": {},
   "source": [
    "### Create a new branch\n",
    "\n",
    "We will create a new branch starting at `first_commit`"
   ]
  },
  {
   "cell_type": "code",
   "execution_count": 14,
   "id": "81f676de-48f7-4dd1-bbf9-300f97700f32",
   "metadata": {},
   "outputs": [],
   "source": [
    "repo.create_branch(\"feature\", first_commit)"
   ]
  },
  {
   "cell_type": "code",
   "execution_count": 15,
   "id": "94b4e4d8-767a-45d0-9f4f-b0a473e9520a",
   "metadata": {},
   "outputs": [],
   "source": [
    "assert repo.lookup_branch(\"feature\") == first_commit"
   ]
  },
  {
   "cell_type": "code",
   "execution_count": 16,
   "id": "799cfce7-7385-4ae6-8868-77d4789c5cdb",
   "metadata": {},
   "outputs": [
    {
     "data": {
      "text/plain": [
       "{'attr': 'first_attr'}"
      ]
     },
     "execution_count": 16,
     "metadata": {},
     "output_type": "execute_result"
    }
   ],
   "source": [
    "session = repo.writable_session(\"feature\")\n",
    "store = session.store()\n",
    "\n",
    "root_group = zarr.group(store=store)\n",
    "dict(root_group.attrs)"
   ]
  },
  {
   "cell_type": "code",
   "execution_count": 17,
   "id": "c3484aba-d25b-4d26-aa59-714e1f236d24",
   "metadata": {},
   "outputs": [],
   "source": [
    "root_group.attrs[\"attr\"] = \"new_branch_attr\"\n",
    "new_branch_commit = session.commit(\"commit on new branch\")"
   ]
  },
  {
   "cell_type": "markdown",
   "id": "9f7ef9de-345a-4266-a475-a0635c4cca9f",
   "metadata": {},
   "source": [
    "## Tagging"
   ]
  },
  {
   "cell_type": "markdown",
   "id": "acbda012-f712-44d2-9397-85c26efdfc0c",
   "metadata": {},
   "source": [
    "### Creating a new tag"
   ]
  },
  {
   "cell_type": "code",
   "execution_count": 18,
   "id": "6366cb69-cb02-4b61-9607-dc4b0ba08517",
   "metadata": {},
   "outputs": [],
   "source": [
    "repo.create_tag(\"v1\", snapshot_id=first_commit)"
   ]
  },
  {
   "cell_type": "code",
   "execution_count": 19,
   "id": "81da441c-ccab-43c2-b50e-0588fb4c91bc",
   "metadata": {},
   "outputs": [],
   "source": [
    "repo.create_tag(\"v2\", snapshot_id=second_commit)"
   ]
  },
  {
   "cell_type": "markdown",
   "id": "09d79aa7-a6a5-4ba6-a843-f1d0da313c3f",
   "metadata": {},
   "source": [
    "### Time-travel to a tag\n",
    "\n",
    "Pass the `tag` argument to `checkout`"
   ]
  },
  {
   "cell_type": "code",
   "execution_count": 20,
   "id": "dc509bde-2510-48f1-90b0-69a065393ced",
   "metadata": {},
   "outputs": [
    {
     "data": {
      "text/plain": [
       "'23G8HS855AW4W7E5QX20'"
      ]
     },
     "execution_count": 20,
     "metadata": {},
     "output_type": "execute_result"
    }
   ],
   "source": [
    "session = repo.readonly_session(tag=\"v1\")\n",
    "session.snapshot_id"
   ]
  }
 ],
 "metadata": {
  "kernelspec": {
   "display_name": ".venv",
   "language": "python",
   "name": "python3"
  },
  "language_info": {
   "codemirror_mode": {
    "name": "ipython",
    "version": 3
   },
   "file_extension": ".py",
   "mimetype": "text/x-python",
   "name": "python",
   "nbconvert_exporter": "python",
   "pygments_lexer": "ipython3",
   "version": "3.11.9"
  }
 },
 "nbformat": 4,
 "nbformat_minor": 5
}
