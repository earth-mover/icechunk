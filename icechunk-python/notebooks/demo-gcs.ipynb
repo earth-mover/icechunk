{
 "cells": [
  {
   "cell_type": "code",
   "execution_count": 1,
   "metadata": {},
   "outputs": [
    {
     "data": {
      "text/plain": [
       "<icechunk.repository.Repository at 0x1034a67d0>"
      ]
     },
     "execution_count": 1,
     "metadata": {},
     "output_type": "execute_result"
    }
   ],
   "source": [
    "import icechunk\n",
    "\n",
    "repo = icechunk.Repository.open_or_create(\n",
    "    storage=icechunk.Storage.new_gcs(\n",
    "        bucket=\"icechunk-demo\",\n",
    "        prefix=\"icechunk-demo-dataset\",\n",
    "        credentials=icechunk.gcs_credentials(service_account_file=\"/Users/matthew.earthmover/Developer/keys/icechunk-service-account.json\")\n",
    "    ),\n",
    ")\n",
    "repo"
   ]
  },
  {
   "cell_type": "code",
   "execution_count": null,
   "metadata": {},
   "outputs": [],
   "source": []
  }
 ],
 "metadata": {
  "kernelspec": {
   "display_name": ".venv",
   "language": "python",
   "name": "python3"
  },
  "language_info": {
   "codemirror_mode": {
    "name": "ipython",
    "version": 3
   },
   "file_extension": ".py",
   "mimetype": "text/x-python",
   "name": "python",
   "nbconvert_exporter": "python",
   "pygments_lexer": "ipython3",
   "version": "3.11.9"
  }
 },
 "nbformat": 4,
 "nbformat_minor": 2
}
