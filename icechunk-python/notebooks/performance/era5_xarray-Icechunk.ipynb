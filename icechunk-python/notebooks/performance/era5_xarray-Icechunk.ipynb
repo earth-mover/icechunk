{
 "cells": [
  {
   "cell_type": "markdown",
   "id": "40c929a3-87d4-4c0e-a97d-1300d8adcae0",
   "metadata": {},
   "source": [
    "# Icechunk Performance - Icechunk\n",
    "\n",
    "Using data from the [NCAR ERA5 AWS Public Dataset](https://nsf-ncar-era5.s3.amazonaws.com/index.html)."
   ]
  },
  {
   "cell_type": "code",
   "execution_count": 1,
   "id": "b2904d5f-090b-4344-a2f7-99096ba26d27",
   "metadata": {},
   "outputs": [
    {
     "name": "stdout",
     "output_type": "stream",
     "text": [
      "xarray:   0.9.7.dev3734+g26081d4f\n",
      "dask:     2024.9.1+8.g70f56e28\n",
      "zarr:     3.0.0b0\n",
      "icechunk: 0.1.0-alpha.1\n"
     ]
    }
   ],
   "source": [
    "import xarray as xr\n",
    "import zarr\n",
    "import dask\n",
    "import fsspec\n",
    "from dask.diagnostics import ProgressBar\n",
    "\n",
    "import icechunk\n",
    "from icechunk import IcechunkStore, StorageConfig\n",
    "\n",
    "print('xarray:  ', xr.__version__)\n",
    "print('dask:    ', dask.__version__)\n",
    "print('zarr:    ', zarr.__version__)\n",
    "print('icechunk:', icechunk.__version__)"
   ]
  },
  {
   "cell_type": "code",
   "execution_count": 2,
   "id": "5110e6d0-1c9a-4943-9f5d-a0d96bcbb5e0",
   "metadata": {},
   "outputs": [
    {
     "data": {
      "text/plain": [
       "<donfig.config_obj.ConfigSet at 0x7f9ea9f36690>"
      ]
     },
     "execution_count": 2,
     "metadata": {},
     "output_type": "execute_result"
    }
   ],
   "source": [
    "zarr.config.set(\n",
    "    {\n",
    "        'threading.max_workers': 16,\n",
    "        'async.concurrency': 128\n",
    "    }\n",
    ")"
   ]
  },
  {
   "cell_type": "code",
   "execution_count": 3,
   "id": "081e1a71-873e-45c3-b77d-5b7aa1617286",
   "metadata": {},
   "outputs": [
    {
     "name": "stdout",
     "output_type": "stream",
     "text": [
      "CPU times: user 246 ms, sys: 51.8 ms, total: 297 ms\n",
      "Wall time: 2.22 s\n"
     ]
    },
    {
     "name": "stderr",
     "output_type": "stream",
     "text": [
      "/srv/conda/envs/icechunk-pip/lib/python3.12/site-packages/xarray/backends/api.py:357: UserWarning: The specified chunks separate the stored chunks along dimension \"time\" starting at index 1. This could degrade performance. Instead, consider rechunking after loading.\n",
      "  var_chunks = _get_chunk(var, chunks, chunkmanager)\n"
     ]
    }
   ],
   "source": [
    "url = \"https://nsf-ncar-era5.s3.amazonaws.com/e5.oper.an.pl/194106/e5.oper.an.pl.128_060_pv.ll025sc.1941060100_1941060123.nc\"\n",
    "%time ds = xr.open_dataset(fsspec.open(url).open(), engine=\"h5netcdf\", chunks={\"time\": 1})\n",
    "ds = ds.drop_encoding()"
   ]
  },
  {
   "cell_type": "code",
   "execution_count": 4,
   "id": "b3048527-c50f-451c-9500-cac6c22dd1bc",
   "metadata": {},
   "outputs": [
    {
     "name": "stdout",
     "output_type": "stream",
     "text": [
      "<xarray.Dataset> Size: 4GB\n",
      "Dimensions:    (time: 24, level: 37, latitude: 721, longitude: 1440)\n",
      "Coordinates:\n",
      "  * latitude   (latitude) float64 6kB 90.0 89.75 89.5 ... -89.5 -89.75 -90.0\n",
      "  * level      (level) float64 296B 1.0 2.0 3.0 5.0 ... 925.0 950.0 975.0 1e+03\n",
      "  * longitude  (longitude) float64 12kB 0.0 0.25 0.5 0.75 ... 359.2 359.5 359.8\n",
      "  * time       (time) datetime64[ns] 192B 1941-06-01 ... 1941-06-01T23:00:00\n",
      "Data variables:\n",
      "    PV         (time, level, latitude, longitude) float32 4GB dask.array<chunksize=(1, 37, 721, 1440), meta=np.ndarray>\n",
      "    utc_date   (time) int32 96B dask.array<chunksize=(1,), meta=np.ndarray>\n",
      "Attributes:\n",
      "    DATA_SOURCE:          ECMWF: https://cds.climate.copernicus.eu, Copernicu...\n",
      "    NETCDF_CONVERSION:    CISL RDA: Conversion from ECMWF GRIB 1 data to netC...\n",
      "    NETCDF_VERSION:       4.8.1\n",
      "    CONVERSION_PLATFORM:  Linux r1i4n4 4.12.14-95.51-default #1 SMP Fri Apr 1...\n",
      "    CONVERSION_DATE:      Wed May 10 06:33:49 MDT 2023\n",
      "    Conventions:          CF-1.6\n",
      "    NETCDF_COMPRESSION:   NCO: Precision-preserving compression to netCDF4/HD...\n",
      "    history:              Wed May 10 06:34:19 2023: ncks -4 --ppc default=7 e...\n",
      "    NCO:                  netCDF Operators version 5.0.3 (Homepage = http://n...\n"
     ]
    }
   ],
   "source": [
    "print(ds)"
   ]
  },
  {
   "cell_type": "markdown",
   "id": "7f4a801c-b570-45e3-b37f-2e140a2fb273",
   "metadata": {},
   "source": [
    "### Load Data from HDF5 File\n",
    "\n",
    "This illustrates how loading directly from HDF5 files on S3 can be slow, even with Dask."
   ]
  },
  {
   "cell_type": "code",
   "execution_count": 5,
   "id": "29e344c6-a25e-4342-979f-d2d2c7aed7a7",
   "metadata": {},
   "outputs": [
    {
     "name": "stdout",
     "output_type": "stream",
     "text": [
      "[########################################] | 100% Completed | 53.73 ss\n"
     ]
    }
   ],
   "source": [
    "with ProgressBar():\n",
    "    dsl = ds.load()"
   ]
  },
  {
   "cell_type": "markdown",
   "id": "bdbd3f6c-e62c-4cfc-8cfb-b0fa22b6bddd",
   "metadata": {},
   "source": [
    "### Initialize Icechunk Repo"
   ]
  },
  {
   "cell_type": "code",
   "execution_count": 6,
   "id": "9283b1f5-a0e9-43ef-bd8a-5985bedc2d17",
   "metadata": {},
   "outputs": [
    {
     "data": {
      "text/plain": [
       "<icechunk.IcechunkStore at 0x7f9eb84402c0>"
      ]
     },
     "execution_count": 6,
     "metadata": {},
     "output_type": "execute_result"
    }
   ],
   "source": [
    "prefix = \"ryan/icechunk-tests-era5-999\"\n",
    "store = IcechunkStore.create(\n",
    "    storage=StorageConfig.s3_from_env(\n",
    "        bucket=\"icechunk-test\",\n",
    "        prefix=prefix\n",
    "    ),\n",
    "    mode=\"w\"\n",
    ")\n",
    "store"
   ]
  },
  {
   "cell_type": "code",
   "execution_count": 7,
   "id": "b13b469d-45d7-4844-b153-b44d274cb220",
   "metadata": {},
   "outputs": [
    {
     "data": {
      "text/plain": [
       "('main', 'B8ZZN2YZS6NQKM17X68G')"
      ]
     },
     "execution_count": 7,
     "metadata": {},
     "output_type": "execute_result"
    }
   ],
   "source": [
    "store.branch, store.snapshot_id"
   ]
  },
  {
   "cell_type": "markdown",
   "id": "12c4ce5a-f1dd-4576-9d89-071583cd92a4",
   "metadata": {},
   "source": [
    "### Store Data To Icechunk\n",
    "\n",
    "We specify encoding to set both compression and chunk size."
   ]
  },
  {
   "cell_type": "code",
   "execution_count": 8,
   "id": "67c6389d-79a0-4992-b845-6a633cb4d86b",
   "metadata": {},
   "outputs": [],
   "source": [
    "encoding = {\n",
    "    \"PV\": {\n",
    "        \"codecs\": [zarr.codecs.BytesCodec(), zarr.codecs.ZstdCodec()],\n",
    "        \"chunks\": (1, 1, 721, 1440)\n",
    "    }\n",
    "}"
   ]
  },
  {
   "cell_type": "markdown",
   "id": "4e632068-fb29-4a6f-a3d0-d19edb8f68a2",
   "metadata": {},
   "source": [
    "Note that Dask is not required to obtain good performance when reading and writing. Zarr and Icechunk use multithreading and asyncio internally."
   ]
  },
  {
   "cell_type": "code",
   "execution_count": 9,
   "id": "b9a8c5ab-cc5a-4a05-b4ba-3b52be187e18",
   "metadata": {},
   "outputs": [
    {
     "name": "stdout",
     "output_type": "stream",
     "text": [
      "CPU times: user 54 s, sys: 1.56 s, total: 55.5 s\n",
      "Wall time: 18.9 s\n"
     ]
    },
    {
     "data": {
      "text/plain": [
       "<xarray.backends.zarr.ZarrStore at 0x7f9ea8781ec0>"
      ]
     },
     "execution_count": 9,
     "metadata": {},
     "output_type": "execute_result"
    }
   ],
   "source": [
    "%time dsl.to_zarr(store, zarr_format=3, consolidated=False, encoding=encoding)"
   ]
  },
  {
   "cell_type": "code",
   "execution_count": 43,
   "id": "bc33e613-7527-4f4f-92be-c1a20c2b8624",
   "metadata": {},
   "outputs": [
    {
     "name": "stdout",
     "output_type": "stream",
     "text": [
      "[########################################] | 100% Completed | 18.02 ss\n"
     ]
    }
   ],
   "source": [
    "# with ProgressBar():\n",
    "#     (dsl\n",
    "#      .chunk({\"time\": 1, \"level\": 10})\n",
    "#      .to_zarr(store, zarr_format=3, consolidated=False, encoding=encoding)\n",
    "#     )"
   ]
  },
  {
   "cell_type": "code",
   "execution_count": 10,
   "id": "b6b19d8b-3655-4213-99c9-5857c2ac126b",
   "metadata": {},
   "outputs": [
    {
     "data": {
      "text/plain": [
       "'AS64P9SQ7NY1P22P8GS0'"
      ]
     },
     "execution_count": 10,
     "metadata": {},
     "output_type": "execute_result"
    }
   ],
   "source": [
    "store.commit(\"wrote data\")"
   ]
  },
  {
   "cell_type": "markdown",
   "id": "34b1a12c-9640-4f8b-a5fc-2ade040b437c",
   "metadata": {},
   "source": [
    "### Read Data Back"
   ]
  },
  {
   "cell_type": "code",
   "execution_count": 11,
   "id": "e74e2d0e-c8ad-44ec-90b6-51de574aafa9",
   "metadata": {},
   "outputs": [],
   "source": [
    "store = IcechunkStore.open_existing(\n",
    "    storage=StorageConfig.s3_from_env(\n",
    "        bucket=\"icechunk-test\",\n",
    "        prefix=prefix\n",
    "    ),\n",
    "    mode=\"r\"\n",
    ")"
   ]
  },
  {
   "cell_type": "code",
   "execution_count": 12,
   "id": "a9c1bfc7-61d2-4a92-ab82-b026e7b9fcf6",
   "metadata": {},
   "outputs": [
    {
     "name": "stdout",
     "output_type": "stream",
     "text": [
      "CPU times: user 16.8 ms, sys: 2.45 ms, total: 19.2 ms\n",
      "Wall time: 97.4 ms\n"
     ]
    }
   ],
   "source": [
    "%time dsic = xr.open_dataset(store, consolidated=False, engine=\"zarr\")"
   ]
  },
  {
   "cell_type": "code",
   "execution_count": 13,
   "id": "c09243a3-9965-4952-a7af-21f4e95697b9",
   "metadata": {},
   "outputs": [
    {
     "name": "stdout",
     "output_type": "stream",
     "text": [
      "<xarray.Dataset> Size: 4GB\n",
      "Dimensions:    (level: 37, latitude: 721, longitude: 1440, time: 24)\n",
      "Coordinates:\n",
      "  * level      (level) float64 296B 1.0 2.0 3.0 5.0 ... 925.0 950.0 975.0 1e+03\n",
      "  * latitude   (latitude) float64 6kB 90.0 89.75 89.5 ... -89.5 -89.75 -90.0\n",
      "  * longitude  (longitude) float64 12kB 0.0 0.25 0.5 0.75 ... 359.2 359.5 359.8\n",
      "  * time       (time) datetime64[ns] 192B 1941-06-01 ... 1941-06-01T23:00:00\n",
      "Data variables:\n",
      "    PV         (time, level, latitude, longitude) float32 4GB ...\n",
      "    utc_date   (time) int32 96B ...\n",
      "Attributes:\n",
      "    CONVERSION_DATE:      Wed May 10 06:33:49 MDT 2023\n",
      "    CONVERSION_PLATFORM:  Linux r1i4n4 4.12.14-95.51-default #1 SMP Fri Apr 1...\n",
      "    Conventions:          CF-1.6\n",
      "    DATA_SOURCE:          ECMWF: https://cds.climate.copernicus.eu, Copernicu...\n",
      "    NCO:                  netCDF Operators version 5.0.3 (Homepage = http://n...\n",
      "    NETCDF_COMPRESSION:   NCO: Precision-preserving compression to netCDF4/HD...\n",
      "    NETCDF_CONVERSION:    CISL RDA: Conversion from ECMWF GRIB 1 data to netC...\n",
      "    NETCDF_VERSION:       4.8.1\n",
      "    history:              Wed May 10 06:34:19 2023: ncks -4 --ppc default=7 e...\n"
     ]
    }
   ],
   "source": [
    "print(dsic)"
   ]
  },
  {
   "cell_type": "code",
   "execution_count": 14,
   "id": "feb23457-c6fe-4363-8393-c92ab1ae7a89",
   "metadata": {},
   "outputs": [
    {
     "name": "stdout",
     "output_type": "stream",
     "text": [
      "CPU times: user 16.8 ms, sys: 78 μs, total: 16.8 ms\n",
      "Wall time: 102 ms\n"
     ]
    },
    {
     "data": {
      "text/plain": [
       "array(0.00710905, dtype=float32)"
      ]
     },
     "execution_count": 14,
     "metadata": {},
     "output_type": "execute_result"
    }
   ],
   "source": [
    "%time dsic.PV[0, 0, 0, 0].values"
   ]
  },
  {
   "cell_type": "markdown",
   "id": "2eef8e3a-c0ce-4383-b76a-e852a50f7398",
   "metadata": {},
   "source": [
    "As with writing, Dask is not required for performant reading of the data.\n",
    "In this example we can load the entire dataset (nearly 4GB) in 8s. "
   ]
  },
  {
   "cell_type": "code",
   "execution_count": 15,
   "id": "d5103624-554c-4d18-a323-d24f82b99818",
   "metadata": {},
   "outputs": [
    {
     "name": "stdout",
     "output_type": "stream",
     "text": [
      "CPU times: user 11 s, sys: 3.67 s, total: 14.7 s\n",
      "Wall time: 2.03 s\n"
     ]
    }
   ],
   "source": [
    "%time _ = dsic.compute()"
   ]
  },
  {
   "cell_type": "code",
   "execution_count": 16,
   "id": "7782d02a-db34-4113-8fe6-6162a129d290",
   "metadata": {},
   "outputs": [],
   "source": [
    "xr.testing.assert_identical(_, ds)"
   ]
  },
  {
   "cell_type": "code",
   "execution_count": 17,
   "id": "c2d61f3e-c4b6-4d52-a55f-6fad900d04db",
   "metadata": {},
   "outputs": [],
   "source": [
    "dsicc = dsic.chunk({\"time\": 1, \"level\": 10})"
   ]
  },
  {
   "cell_type": "code",
   "execution_count": 19,
   "id": "894fa53e-845a-41fe-a7a7-4cf859ea5928",
   "metadata": {},
   "outputs": [
    {
     "name": "stdout",
     "output_type": "stream",
     "text": [
      "[########################################] | 100% Completed | 2.13 sms\n"
     ]
    }
   ],
   "source": [
    "from dask.diagnostics import ProgressBar\n",
    "with ProgressBar():\n",
    "    _ = dsicc.compute()"
   ]
  },
  {
   "cell_type": "code",
   "execution_count": 45,
   "id": "f8e13924-9daa-488c-be67-ab07ab4fcc99",
   "metadata": {},
   "outputs": [
    {
     "data": {
      "text/html": [
       "<div><svg style=\"position: absolute; width: 0; height: 0; overflow: hidden\">\n",
       "<defs>\n",
       "<symbol id=\"icon-database\" viewBox=\"0 0 32 32\">\n",
       "<path d=\"M16 0c-8.837 0-16 2.239-16 5v4c0 2.761 7.163 5 16 5s16-2.239 16-5v-4c0-2.761-7.163-5-16-5z\"></path>\n",
       "<path d=\"M16 17c-8.837 0-16-2.239-16-5v6c0 2.761 7.163 5 16 5s16-2.239 16-5v-6c0 2.761-7.163 5-16 5z\"></path>\n",
       "<path d=\"M16 26c-8.837 0-16-2.239-16-5v6c0 2.761 7.163 5 16 5s16-2.239 16-5v-6c0 2.761-7.163 5-16 5z\"></path>\n",
       "</symbol>\n",
       "<symbol id=\"icon-file-text2\" viewBox=\"0 0 32 32\">\n",
       "<path d=\"M28.681 7.159c-0.694-0.947-1.662-2.053-2.724-3.116s-2.169-2.030-3.116-2.724c-1.612-1.182-2.393-1.319-2.841-1.319h-15.5c-1.378 0-2.5 1.121-2.5 2.5v27c0 1.378 1.122 2.5 2.5 2.5h23c1.378 0 2.5-1.122 2.5-2.5v-19.5c0-0.448-0.137-1.23-1.319-2.841zM24.543 5.457c0.959 0.959 1.712 1.825 2.268 2.543h-4.811v-4.811c0.718 0.556 1.584 1.309 2.543 2.268zM28 29.5c0 0.271-0.229 0.5-0.5 0.5h-23c-0.271 0-0.5-0.229-0.5-0.5v-27c0-0.271 0.229-0.5 0.5-0.5 0 0 15.499-0 15.5 0v7c0 0.552 0.448 1 1 1h7v19.5z\"></path>\n",
       "<path d=\"M23 26h-14c-0.552 0-1-0.448-1-1s0.448-1 1-1h14c0.552 0 1 0.448 1 1s-0.448 1-1 1z\"></path>\n",
       "<path d=\"M23 22h-14c-0.552 0-1-0.448-1-1s0.448-1 1-1h14c0.552 0 1 0.448 1 1s-0.448 1-1 1z\"></path>\n",
       "<path d=\"M23 18h-14c-0.552 0-1-0.448-1-1s0.448-1 1-1h14c0.552 0 1 0.448 1 1s-0.448 1-1 1z\"></path>\n",
       "</symbol>\n",
       "</defs>\n",
       "</svg>\n",
       "<style>/* CSS stylesheet for displaying xarray objects in jupyterlab.\n",
       " *\n",
       " */\n",
       "\n",
       ":root {\n",
       "  --xr-font-color0: var(--jp-content-font-color0, rgba(0, 0, 0, 1));\n",
       "  --xr-font-color2: var(--jp-content-font-color2, rgba(0, 0, 0, 0.54));\n",
       "  --xr-font-color3: var(--jp-content-font-color3, rgba(0, 0, 0, 0.38));\n",
       "  --xr-border-color: var(--jp-border-color2, #e0e0e0);\n",
       "  --xr-disabled-color: var(--jp-layout-color3, #bdbdbd);\n",
       "  --xr-background-color: var(--jp-layout-color0, white);\n",
       "  --xr-background-color-row-even: var(--jp-layout-color1, white);\n",
       "  --xr-background-color-row-odd: var(--jp-layout-color2, #eeeeee);\n",
       "}\n",
       "\n",
       "html[theme=dark],\n",
       "html[data-theme=dark],\n",
       "body[data-theme=dark],\n",
       "body.vscode-dark {\n",
       "  --xr-font-color0: rgba(255, 255, 255, 1);\n",
       "  --xr-font-color2: rgba(255, 255, 255, 0.54);\n",
       "  --xr-font-color3: rgba(255, 255, 255, 0.38);\n",
       "  --xr-border-color: #1F1F1F;\n",
       "  --xr-disabled-color: #515151;\n",
       "  --xr-background-color: #111111;\n",
       "  --xr-background-color-row-even: #111111;\n",
       "  --xr-background-color-row-odd: #313131;\n",
       "}\n",
       "\n",
       ".xr-wrap {\n",
       "  display: block !important;\n",
       "  min-width: 300px;\n",
       "  max-width: 700px;\n",
       "}\n",
       "\n",
       ".xr-text-repr-fallback {\n",
       "  /* fallback to plain text repr when CSS is not injected (untrusted notebook) */\n",
       "  display: none;\n",
       "}\n",
       "\n",
       ".xr-header {\n",
       "  padding-top: 6px;\n",
       "  padding-bottom: 6px;\n",
       "  margin-bottom: 4px;\n",
       "  border-bottom: solid 1px var(--xr-border-color);\n",
       "}\n",
       "\n",
       ".xr-header > div,\n",
       ".xr-header > ul {\n",
       "  display: inline;\n",
       "  margin-top: 0;\n",
       "  margin-bottom: 0;\n",
       "}\n",
       "\n",
       ".xr-obj-type,\n",
       ".xr-array-name {\n",
       "  margin-left: 2px;\n",
       "  margin-right: 10px;\n",
       "}\n",
       "\n",
       ".xr-obj-type {\n",
       "  color: var(--xr-font-color2);\n",
       "}\n",
       "\n",
       ".xr-sections {\n",
       "  padding-left: 0 !important;\n",
       "  display: grid;\n",
       "  grid-template-columns: 150px auto auto 1fr 0 20px 0 20px;\n",
       "}\n",
       "\n",
       ".xr-section-item {\n",
       "  display: contents;\n",
       "}\n",
       "\n",
       ".xr-section-item input {\n",
       "  display: inline-block;\n",
       "  opacity: 0;\n",
       "}\n",
       "\n",
       ".xr-section-item input + label {\n",
       "  color: var(--xr-disabled-color);\n",
       "}\n",
       "\n",
       ".xr-section-item input:enabled + label {\n",
       "  cursor: pointer;\n",
       "  color: var(--xr-font-color2);\n",
       "}\n",
       "\n",
       ".xr-section-item input:focus + label {\n",
       "  border: 2px solid var(--xr-font-color0);\n",
       "}\n",
       "\n",
       ".xr-section-item input:enabled + label:hover {\n",
       "  color: var(--xr-font-color0);\n",
       "}\n",
       "\n",
       ".xr-section-summary {\n",
       "  grid-column: 1;\n",
       "  color: var(--xr-font-color2);\n",
       "  font-weight: 500;\n",
       "}\n",
       "\n",
       ".xr-section-summary > span {\n",
       "  display: inline-block;\n",
       "  padding-left: 0.5em;\n",
       "}\n",
       "\n",
       ".xr-section-summary-in:disabled + label {\n",
       "  color: var(--xr-font-color2);\n",
       "}\n",
       "\n",
       ".xr-section-summary-in + label:before {\n",
       "  display: inline-block;\n",
       "  content: '►';\n",
       "  font-size: 11px;\n",
       "  width: 15px;\n",
       "  text-align: center;\n",
       "}\n",
       "\n",
       ".xr-section-summary-in:disabled + label:before {\n",
       "  color: var(--xr-disabled-color);\n",
       "}\n",
       "\n",
       ".xr-section-summary-in:checked + label:before {\n",
       "  content: '▼';\n",
       "}\n",
       "\n",
       ".xr-section-summary-in:checked + label > span {\n",
       "  display: none;\n",
       "}\n",
       "\n",
       ".xr-section-summary,\n",
       ".xr-section-inline-details {\n",
       "  padding-top: 4px;\n",
       "  padding-bottom: 4px;\n",
       "}\n",
       "\n",
       ".xr-section-inline-details {\n",
       "  grid-column: 2 / -1;\n",
       "}\n",
       "\n",
       ".xr-section-details {\n",
       "  display: none;\n",
       "  grid-column: 1 / -1;\n",
       "  margin-bottom: 5px;\n",
       "}\n",
       "\n",
       ".xr-section-summary-in:checked ~ .xr-section-details {\n",
       "  display: contents;\n",
       "}\n",
       "\n",
       ".xr-array-wrap {\n",
       "  grid-column: 1 / -1;\n",
       "  display: grid;\n",
       "  grid-template-columns: 20px auto;\n",
       "}\n",
       "\n",
       ".xr-array-wrap > label {\n",
       "  grid-column: 1;\n",
       "  vertical-align: top;\n",
       "}\n",
       "\n",
       ".xr-preview {\n",
       "  color: var(--xr-font-color3);\n",
       "}\n",
       "\n",
       ".xr-array-preview,\n",
       ".xr-array-data {\n",
       "  padding: 0 5px !important;\n",
       "  grid-column: 2;\n",
       "}\n",
       "\n",
       ".xr-array-data,\n",
       ".xr-array-in:checked ~ .xr-array-preview {\n",
       "  display: none;\n",
       "}\n",
       "\n",
       ".xr-array-in:checked ~ .xr-array-data,\n",
       ".xr-array-preview {\n",
       "  display: inline-block;\n",
       "}\n",
       "\n",
       ".xr-dim-list {\n",
       "  display: inline-block !important;\n",
       "  list-style: none;\n",
       "  padding: 0 !important;\n",
       "  margin: 0;\n",
       "}\n",
       "\n",
       ".xr-dim-list li {\n",
       "  display: inline-block;\n",
       "  padding: 0;\n",
       "  margin: 0;\n",
       "}\n",
       "\n",
       ".xr-dim-list:before {\n",
       "  content: '(';\n",
       "}\n",
       "\n",
       ".xr-dim-list:after {\n",
       "  content: ')';\n",
       "}\n",
       "\n",
       ".xr-dim-list li:not(:last-child):after {\n",
       "  content: ',';\n",
       "  padding-right: 5px;\n",
       "}\n",
       "\n",
       ".xr-has-index {\n",
       "  font-weight: bold;\n",
       "}\n",
       "\n",
       ".xr-var-list,\n",
       ".xr-var-item {\n",
       "  display: contents;\n",
       "}\n",
       "\n",
       ".xr-var-item > div,\n",
       ".xr-var-item label,\n",
       ".xr-var-item > .xr-var-name span {\n",
       "  background-color: var(--xr-background-color-row-even);\n",
       "  margin-bottom: 0;\n",
       "}\n",
       "\n",
       ".xr-var-item > .xr-var-name:hover span {\n",
       "  padding-right: 5px;\n",
       "}\n",
       "\n",
       ".xr-var-list > li:nth-child(odd) > div,\n",
       ".xr-var-list > li:nth-child(odd) > label,\n",
       ".xr-var-list > li:nth-child(odd) > .xr-var-name span {\n",
       "  background-color: var(--xr-background-color-row-odd);\n",
       "}\n",
       "\n",
       ".xr-var-name {\n",
       "  grid-column: 1;\n",
       "}\n",
       "\n",
       ".xr-var-dims {\n",
       "  grid-column: 2;\n",
       "}\n",
       "\n",
       ".xr-var-dtype {\n",
       "  grid-column: 3;\n",
       "  text-align: right;\n",
       "  color: var(--xr-font-color2);\n",
       "}\n",
       "\n",
       ".xr-var-preview {\n",
       "  grid-column: 4;\n",
       "}\n",
       "\n",
       ".xr-index-preview {\n",
       "  grid-column: 2 / 5;\n",
       "  color: var(--xr-font-color2);\n",
       "}\n",
       "\n",
       ".xr-var-name,\n",
       ".xr-var-dims,\n",
       ".xr-var-dtype,\n",
       ".xr-preview,\n",
       ".xr-attrs dt {\n",
       "  white-space: nowrap;\n",
       "  overflow: hidden;\n",
       "  text-overflow: ellipsis;\n",
       "  padding-right: 10px;\n",
       "}\n",
       "\n",
       ".xr-var-name:hover,\n",
       ".xr-var-dims:hover,\n",
       ".xr-var-dtype:hover,\n",
       ".xr-attrs dt:hover {\n",
       "  overflow: visible;\n",
       "  width: auto;\n",
       "  z-index: 1;\n",
       "}\n",
       "\n",
       ".xr-var-attrs,\n",
       ".xr-var-data,\n",
       ".xr-index-data {\n",
       "  display: none;\n",
       "  background-color: var(--xr-background-color) !important;\n",
       "  padding-bottom: 5px !important;\n",
       "}\n",
       "\n",
       ".xr-var-attrs-in:checked ~ .xr-var-attrs,\n",
       ".xr-var-data-in:checked ~ .xr-var-data,\n",
       ".xr-index-data-in:checked ~ .xr-index-data {\n",
       "  display: block;\n",
       "}\n",
       "\n",
       ".xr-var-data > table {\n",
       "  float: right;\n",
       "}\n",
       "\n",
       ".xr-var-name span,\n",
       ".xr-var-data,\n",
       ".xr-index-name div,\n",
       ".xr-index-data,\n",
       ".xr-attrs {\n",
       "  padding-left: 25px !important;\n",
       "}\n",
       "\n",
       ".xr-attrs,\n",
       ".xr-var-attrs,\n",
       ".xr-var-data,\n",
       ".xr-index-data {\n",
       "  grid-column: 1 / -1;\n",
       "}\n",
       "\n",
       "dl.xr-attrs {\n",
       "  padding: 0;\n",
       "  margin: 0;\n",
       "  display: grid;\n",
       "  grid-template-columns: 125px auto;\n",
       "}\n",
       "\n",
       ".xr-attrs dt,\n",
       ".xr-attrs dd {\n",
       "  padding: 0;\n",
       "  margin: 0;\n",
       "  float: left;\n",
       "  padding-right: 10px;\n",
       "  width: auto;\n",
       "}\n",
       "\n",
       ".xr-attrs dt {\n",
       "  font-weight: normal;\n",
       "  grid-column: 1;\n",
       "}\n",
       "\n",
       ".xr-attrs dt:hover span {\n",
       "  display: inline-block;\n",
       "  background: var(--xr-background-color);\n",
       "  padding-right: 10px;\n",
       "}\n",
       "\n",
       ".xr-attrs dd {\n",
       "  grid-column: 2;\n",
       "  white-space: pre-wrap;\n",
       "  word-break: break-all;\n",
       "}\n",
       "\n",
       ".xr-icon-database,\n",
       ".xr-icon-file-text2,\n",
       ".xr-no-icon {\n",
       "  display: inline-block;\n",
       "  vertical-align: middle;\n",
       "  width: 1em;\n",
       "  height: 1.5em !important;\n",
       "  stroke-width: 0;\n",
       "  stroke: currentColor;\n",
       "  fill: currentColor;\n",
       "}\n",
       "</style><pre class='xr-text-repr-fallback'>&lt;xarray.Dataset&gt; Size: 4GB\n",
       "Dimensions:    (latitude: 721, level: 37, time: 24, longitude: 1440)\n",
       "Coordinates:\n",
       "  * latitude   (latitude) float64 6kB 90.0 89.75 89.5 ... -89.5 -89.75 -90.0\n",
       "  * level      (level) float64 296B 1.0 2.0 3.0 5.0 ... 925.0 950.0 975.0 1e+03\n",
       "  * longitude  (longitude) float64 12kB 0.0 0.25 0.5 0.75 ... 359.2 359.5 359.8\n",
       "  * time       (time) datetime64[ns] 192B 1941-06-01 ... 1941-06-01T23:00:00\n",
       "Data variables:\n",
       "    utc_date   (time) int32 96B 1941060100 1941060101 ... 1941060122 1941060123\n",
       "    PV         (time, level, latitude, longitude) float32 4GB 0.007109 ... -1...\n",
       "Attributes:\n",
       "    CONVERSION_DATE:      Wed May 10 06:33:49 MDT 2023\n",
       "    CONVERSION_PLATFORM:  Linux r1i4n4 4.12.14-95.51-default #1 SMP Fri Apr 1...\n",
       "    Conventions:          CF-1.6\n",
       "    DATA_SOURCE:          ECMWF: https://cds.climate.copernicus.eu, Copernicu...\n",
       "    NCO:                  netCDF Operators version 5.0.3 (Homepage = http://n...\n",
       "    NETCDF_COMPRESSION:   NCO: Precision-preserving compression to netCDF4/HD...\n",
       "    NETCDF_CONVERSION:    CISL RDA: Conversion from ECMWF GRIB 1 data to netC...\n",
       "    NETCDF_VERSION:       4.8.1\n",
       "    history:              Wed May 10 06:34:19 2023: ncks -4 --ppc default=7 e...</pre><div class='xr-wrap' style='display:none'><div class='xr-header'><div class='xr-obj-type'>xarray.Dataset</div></div><ul class='xr-sections'><li class='xr-section-item'><input id='section-44ef32fb-a54b-4851-aa01-5e3084f4e737' class='xr-section-summary-in' type='checkbox' disabled ><label for='section-44ef32fb-a54b-4851-aa01-5e3084f4e737' class='xr-section-summary'  title='Expand/collapse section'>Dimensions:</label><div class='xr-section-inline-details'><ul class='xr-dim-list'><li><span class='xr-has-index'>latitude</span>: 721</li><li><span class='xr-has-index'>level</span>: 37</li><li><span class='xr-has-index'>time</span>: 24</li><li><span class='xr-has-index'>longitude</span>: 1440</li></ul></div><div class='xr-section-details'></div></li><li class='xr-section-item'><input id='section-1e97d22c-6fe2-450c-a146-c5916d96f462' class='xr-section-summary-in' type='checkbox'  checked><label for='section-1e97d22c-6fe2-450c-a146-c5916d96f462' class='xr-section-summary' >Coordinates: <span>(4)</span></label><div class='xr-section-inline-details'></div><div class='xr-section-details'><ul class='xr-var-list'><li class='xr-var-item'><div class='xr-var-name'><span class='xr-has-index'>latitude</span></div><div class='xr-var-dims'>(latitude)</div><div class='xr-var-dtype'>float64</div><div class='xr-var-preview xr-preview'>90.0 89.75 89.5 ... -89.75 -90.0</div><input id='attrs-8182e0f6-fb25-4061-890e-31b08c7cc473' class='xr-var-attrs-in' type='checkbox' ><label for='attrs-8182e0f6-fb25-4061-890e-31b08c7cc473' title='Show/Hide attributes'><svg class='icon xr-icon-file-text2'><use xlink:href='#icon-file-text2'></use></svg></label><input id='data-32c7c9db-c91a-46b2-9b10-4dd51175c96b' class='xr-var-data-in' type='checkbox'><label for='data-32c7c9db-c91a-46b2-9b10-4dd51175c96b' title='Show/Hide data repr'><svg class='icon xr-icon-database'><use xlink:href='#icon-database'></use></svg></label><div class='xr-var-attrs'><dl class='xr-attrs'><dt><span>long_name :</span></dt><dd>latitude</dd><dt><span>short_name :</span></dt><dd>lat</dd><dt><span>units :</span></dt><dd>degrees_north</dd></dl></div><div class='xr-var-data'><pre>array([ 90.  ,  89.75,  89.5 , ..., -89.5 , -89.75, -90.  ])</pre></div></li><li class='xr-var-item'><div class='xr-var-name'><span class='xr-has-index'>level</span></div><div class='xr-var-dims'>(level)</div><div class='xr-var-dtype'>float64</div><div class='xr-var-preview xr-preview'>1.0 2.0 3.0 ... 950.0 975.0 1e+03</div><input id='attrs-1eef59d7-07c6-4b41-b693-447624729743' class='xr-var-attrs-in' type='checkbox' ><label for='attrs-1eef59d7-07c6-4b41-b693-447624729743' title='Show/Hide attributes'><svg class='icon xr-icon-file-text2'><use xlink:href='#icon-file-text2'></use></svg></label><input id='data-6a2656c5-d468-4421-8342-08934eedd1e5' class='xr-var-data-in' type='checkbox'><label for='data-6a2656c5-d468-4421-8342-08934eedd1e5' title='Show/Hide data repr'><svg class='icon xr-icon-database'><use xlink:href='#icon-database'></use></svg></label><div class='xr-var-attrs'><dl class='xr-attrs'><dt><span>alternate_units :</span></dt><dd>millibar</dd><dt><span>long_name :</span></dt><dd>pressure level</dd><dt><span>short_name :</span></dt><dd>plev</dd><dt><span>units :</span></dt><dd>hPa</dd></dl></div><div class='xr-var-data'><pre>array([   1.,    2.,    3.,    5.,    7.,   10.,   20.,   30.,   50.,   70.,\n",
       "        100.,  125.,  150.,  175.,  200.,  225.,  250.,  300.,  350.,  400.,\n",
       "        450.,  500.,  550.,  600.,  650.,  700.,  750.,  775.,  800.,  825.,\n",
       "        850.,  875.,  900.,  925.,  950.,  975., 1000.])</pre></div></li><li class='xr-var-item'><div class='xr-var-name'><span class='xr-has-index'>longitude</span></div><div class='xr-var-dims'>(longitude)</div><div class='xr-var-dtype'>float64</div><div class='xr-var-preview xr-preview'>0.0 0.25 0.5 ... 359.2 359.5 359.8</div><input id='attrs-db968a64-0a49-487c-bbc4-f7803e8714f8' class='xr-var-attrs-in' type='checkbox' ><label for='attrs-db968a64-0a49-487c-bbc4-f7803e8714f8' title='Show/Hide attributes'><svg class='icon xr-icon-file-text2'><use xlink:href='#icon-file-text2'></use></svg></label><input id='data-4ef1a72d-bf1b-447c-bfd5-824b077aee24' class='xr-var-data-in' type='checkbox'><label for='data-4ef1a72d-bf1b-447c-bfd5-824b077aee24' title='Show/Hide data repr'><svg class='icon xr-icon-database'><use xlink:href='#icon-database'></use></svg></label><div class='xr-var-attrs'><dl class='xr-attrs'><dt><span>long_name :</span></dt><dd>longitude</dd><dt><span>short_name :</span></dt><dd>lon</dd><dt><span>units :</span></dt><dd>degrees_east</dd></dl></div><div class='xr-var-data'><pre>array([0.0000e+00, 2.5000e-01, 5.0000e-01, ..., 3.5925e+02, 3.5950e+02,\n",
       "       3.5975e+02])</pre></div></li><li class='xr-var-item'><div class='xr-var-name'><span class='xr-has-index'>time</span></div><div class='xr-var-dims'>(time)</div><div class='xr-var-dtype'>datetime64[ns]</div><div class='xr-var-preview xr-preview'>1941-06-01 ... 1941-06-01T23:00:00</div><input id='attrs-e8341679-3a43-47a2-a1a6-9299b9282608' class='xr-var-attrs-in' type='checkbox' ><label for='attrs-e8341679-3a43-47a2-a1a6-9299b9282608' title='Show/Hide attributes'><svg class='icon xr-icon-file-text2'><use xlink:href='#icon-file-text2'></use></svg></label><input id='data-4bbd2e35-b61a-46fb-9d43-ee1f53b944fd' class='xr-var-data-in' type='checkbox'><label for='data-4bbd2e35-b61a-46fb-9d43-ee1f53b944fd' title='Show/Hide data repr'><svg class='icon xr-icon-database'><use xlink:href='#icon-database'></use></svg></label><div class='xr-var-attrs'><dl class='xr-attrs'><dt><span>long_name :</span></dt><dd>time</dd></dl></div><div class='xr-var-data'><pre>array([&#x27;1941-06-01T00:00:00.000000000&#x27;, &#x27;1941-06-01T01:00:00.000000000&#x27;,\n",
       "       &#x27;1941-06-01T02:00:00.000000000&#x27;, &#x27;1941-06-01T03:00:00.000000000&#x27;,\n",
       "       &#x27;1941-06-01T04:00:00.000000000&#x27;, &#x27;1941-06-01T05:00:00.000000000&#x27;,\n",
       "       &#x27;1941-06-01T06:00:00.000000000&#x27;, &#x27;1941-06-01T07:00:00.000000000&#x27;,\n",
       "       &#x27;1941-06-01T08:00:00.000000000&#x27;, &#x27;1941-06-01T09:00:00.000000000&#x27;,\n",
       "       &#x27;1941-06-01T10:00:00.000000000&#x27;, &#x27;1941-06-01T11:00:00.000000000&#x27;,\n",
       "       &#x27;1941-06-01T12:00:00.000000000&#x27;, &#x27;1941-06-01T13:00:00.000000000&#x27;,\n",
       "       &#x27;1941-06-01T14:00:00.000000000&#x27;, &#x27;1941-06-01T15:00:00.000000000&#x27;,\n",
       "       &#x27;1941-06-01T16:00:00.000000000&#x27;, &#x27;1941-06-01T17:00:00.000000000&#x27;,\n",
       "       &#x27;1941-06-01T18:00:00.000000000&#x27;, &#x27;1941-06-01T19:00:00.000000000&#x27;,\n",
       "       &#x27;1941-06-01T20:00:00.000000000&#x27;, &#x27;1941-06-01T21:00:00.000000000&#x27;,\n",
       "       &#x27;1941-06-01T22:00:00.000000000&#x27;, &#x27;1941-06-01T23:00:00.000000000&#x27;],\n",
       "      dtype=&#x27;datetime64[ns]&#x27;)</pre></div></li></ul></div></li><li class='xr-section-item'><input id='section-9c0635b7-9444-493f-89bf-6279116a5102' class='xr-section-summary-in' type='checkbox'  checked><label for='section-9c0635b7-9444-493f-89bf-6279116a5102' class='xr-section-summary' >Data variables: <span>(2)</span></label><div class='xr-section-inline-details'></div><div class='xr-section-details'><ul class='xr-var-list'><li class='xr-var-item'><div class='xr-var-name'><span>utc_date</span></div><div class='xr-var-dims'>(time)</div><div class='xr-var-dtype'>int32</div><div class='xr-var-preview xr-preview'>1941060100 ... 1941060123</div><input id='attrs-237b8a60-5f5b-4f69-8818-8736c7cee565' class='xr-var-attrs-in' type='checkbox' ><label for='attrs-237b8a60-5f5b-4f69-8818-8736c7cee565' title='Show/Hide attributes'><svg class='icon xr-icon-file-text2'><use xlink:href='#icon-file-text2'></use></svg></label><input id='data-6769d258-a60b-4348-af44-d1a5b021b670' class='xr-var-data-in' type='checkbox'><label for='data-6769d258-a60b-4348-af44-d1a5b021b670' title='Show/Hide data repr'><svg class='icon xr-icon-database'><use xlink:href='#icon-database'></use></svg></label><div class='xr-var-attrs'><dl class='xr-attrs'><dt><span>long_name :</span></dt><dd>UTC date yyyy-mm-dd hh:00:00 as yyyymmddhh</dd><dt><span>units :</span></dt><dd>Gregorian_year month day hour</dd></dl></div><div class='xr-var-data'><pre>array([1941060100, 1941060101, 1941060102, 1941060103, 1941060104,\n",
       "       1941060105, 1941060106, 1941060107, 1941060108, 1941060109,\n",
       "       1941060110, 1941060111, 1941060112, 1941060113, 1941060114,\n",
       "       1941060115, 1941060116, 1941060117, 1941060118, 1941060119,\n",
       "       1941060120, 1941060121, 1941060122, 1941060123], dtype=int32)</pre></div></li><li class='xr-var-item'><div class='xr-var-name'><span>PV</span></div><div class='xr-var-dims'>(time, level, latitude, longitude)</div><div class='xr-var-dtype'>float32</div><div class='xr-var-preview xr-preview'>0.007109 0.007109 ... -1.53e-05</div><input id='attrs-eba53061-888e-4e2c-bf6e-644bd69ccccd' class='xr-var-attrs-in' type='checkbox' ><label for='attrs-eba53061-888e-4e2c-bf6e-644bd69ccccd' title='Show/Hide attributes'><svg class='icon xr-icon-file-text2'><use xlink:href='#icon-file-text2'></use></svg></label><input id='data-e07da1d4-d42d-41f9-b326-c990d060ee14' class='xr-var-data-in' type='checkbox'><label for='data-e07da1d4-d42d-41f9-b326-c990d060ee14' title='Show/Hide data repr'><svg class='icon xr-icon-database'><use xlink:href='#icon-database'></use></svg></label><div class='xr-var-attrs'><dl class='xr-attrs'><dt><span>QuantizeGranularBitGroomNumberOfSignificantDigits :</span></dt><dd>7</dd><dt><span>ecmwf_local_table :</span></dt><dd>128</dd><dt><span>ecmwf_parameter :</span></dt><dd>60</dd><dt><span>grid_specification :</span></dt><dd>0.25 degree x 0.25 degree from 90N to 90S and 0E to 359.75E (721 x 1440 Latitude/Longitude)</dd><dt><span>long_name :</span></dt><dd>Potential vorticity</dd><dt><span>maximum_value :</span></dt><dd>0.02379735186696053</dd><dt><span>minimum_value :</span></dt><dd>-0.03200835734605789</dd><dt><span>original_format :</span></dt><dd>WMO GRIB 1 with ECMWF local table</dd><dt><span>rda_dataset :</span></dt><dd>ds633.0</dd><dt><span>rda_dataset_doi :</span></dt><dd>DOI: 10.5065/BH6N-5N20</dd><dt><span>rda_dataset_group :</span></dt><dd>ERA5 atmospheric pressure level analysis [netCDF4]</dd><dt><span>rda_dataset_url :</span></dt><dd>https:/rda.ucar.edu/datasets/ds633.0/</dd><dt><span>short_name :</span></dt><dd>pv</dd><dt><span>units :</span></dt><dd>K m**2 kg**-1 s**-1</dd></dl></div><div class='xr-var-data'><pre>array([[[[ 7.10904598e-03,  7.10904598e-03,  7.10904598e-03, ...,\n",
       "           7.10904598e-03,  7.10904598e-03,  7.10904598e-03],\n",
       "         [ 7.19106197e-03,  7.19010830e-03,  7.18915462e-03, ...,\n",
       "           7.19487667e-03,  7.19392300e-03,  7.19201565e-03],\n",
       "         [ 7.24160671e-03,  7.23969936e-03,  7.23779202e-03, ...,\n",
       "           7.24732876e-03,  7.24542141e-03,  7.24351406e-03],\n",
       "         ...,\n",
       "         [-1.38288736e-02, -1.38307810e-02, -1.38336420e-02, ...,\n",
       "          -1.38231516e-02, -1.38250589e-02, -1.38269663e-02],\n",
       "         [-1.36028528e-02, -1.36038065e-02, -1.36047602e-02, ...,\n",
       "          -1.35999918e-02, -1.36009455e-02, -1.36018991e-02],\n",
       "         [-1.36286020e-02, -1.36286020e-02, -1.36286020e-02, ...,\n",
       "          -1.36286020e-02, -1.36286020e-02, -1.36286020e-02]],\n",
       "\n",
       "        [[ 4.26043943e-03,  4.26043943e-03,  4.26043943e-03, ...,\n",
       "           4.26043943e-03,  4.26043943e-03,  4.26043943e-03],\n",
       "         [ 4.38370183e-03,  4.38346341e-03,  4.38322499e-03, ...,\n",
       "           4.38465551e-03,  4.38441709e-03,  4.38394025e-03],\n",
       "         [ 4.43472341e-03,  4.43424657e-03,  4.43400815e-03, ...,\n",
       "           4.43591550e-03,  4.43543866e-03,  4.43496183e-03],\n",
       "...\n",
       "          -9.63546336e-06, -9.58330929e-06, -9.51625407e-06],\n",
       "         [-2.10795552e-05, -2.10572034e-05, -2.10348517e-05, ...,\n",
       "          -2.11540610e-05, -2.11317092e-05, -2.11019069e-05],\n",
       "         [-1.52979046e-05, -1.52979046e-05, -1.52979046e-05, ...,\n",
       "          -1.52979046e-05, -1.52979046e-05, -1.52979046e-05]],\n",
       "\n",
       "        [[-9.31322575e-09, -9.31322575e-09, -9.31322575e-09, ...,\n",
       "          -9.31322575e-09, -9.31322575e-09, -9.31322575e-09],\n",
       "         [ 2.04890966e-08,  2.04890966e-08,  2.04890966e-08, ...,\n",
       "           2.04890966e-08,  2.04890966e-08,  2.04890966e-08],\n",
       "         [-1.67638063e-08, -1.67638063e-08, -1.67638063e-08, ...,\n",
       "          -1.67638063e-08, -1.67638063e-08, -1.67638063e-08],\n",
       "         ...,\n",
       "         [-9.44919884e-06, -9.41194594e-06, -9.37469304e-06, ...,\n",
       "          -9.63546336e-06, -9.58330929e-06, -9.51625407e-06],\n",
       "         [-2.10795552e-05, -2.10572034e-05, -2.10348517e-05, ...,\n",
       "          -2.11540610e-05, -2.11317092e-05, -2.11019069e-05],\n",
       "         [-1.52979046e-05, -1.52979046e-05, -1.52979046e-05, ...,\n",
       "          -1.52979046e-05, -1.52979046e-05, -1.52979046e-05]]]],\n",
       "      dtype=float32)</pre></div></li></ul></div></li><li class='xr-section-item'><input id='section-75435829-de42-4e6e-bd66-ffe1bf024e3b' class='xr-section-summary-in' type='checkbox'  ><label for='section-75435829-de42-4e6e-bd66-ffe1bf024e3b' class='xr-section-summary' >Indexes: <span>(4)</span></label><div class='xr-section-inline-details'></div><div class='xr-section-details'><ul class='xr-var-list'><li class='xr-var-item'><div class='xr-index-name'><div>latitude</div></div><div class='xr-index-preview'>PandasIndex</div><div></div><input id='index-6d1a677e-44be-4e0a-9884-9f5599eade99' class='xr-index-data-in' type='checkbox'/><label for='index-6d1a677e-44be-4e0a-9884-9f5599eade99' title='Show/Hide index repr'><svg class='icon xr-icon-database'><use xlink:href='#icon-database'></use></svg></label><div class='xr-index-data'><pre>PandasIndex(Index([  90.0,  89.75,   89.5,  89.25,   89.0,  88.75,   88.5,  88.25,   88.0,\n",
       "        87.75,\n",
       "       ...\n",
       "       -87.75,  -88.0, -88.25,  -88.5, -88.75,  -89.0, -89.25,  -89.5, -89.75,\n",
       "        -90.0],\n",
       "      dtype=&#x27;float64&#x27;, name=&#x27;latitude&#x27;, length=721))</pre></div></li><li class='xr-var-item'><div class='xr-index-name'><div>level</div></div><div class='xr-index-preview'>PandasIndex</div><div></div><input id='index-35774bb8-fe66-402a-badf-7bbe6e553060' class='xr-index-data-in' type='checkbox'/><label for='index-35774bb8-fe66-402a-badf-7bbe6e553060' title='Show/Hide index repr'><svg class='icon xr-icon-database'><use xlink:href='#icon-database'></use></svg></label><div class='xr-index-data'><pre>PandasIndex(Index([   1.0,    2.0,    3.0,    5.0,    7.0,   10.0,   20.0,   30.0,   50.0,\n",
       "         70.0,  100.0,  125.0,  150.0,  175.0,  200.0,  225.0,  250.0,  300.0,\n",
       "        350.0,  400.0,  450.0,  500.0,  550.0,  600.0,  650.0,  700.0,  750.0,\n",
       "        775.0,  800.0,  825.0,  850.0,  875.0,  900.0,  925.0,  950.0,  975.0,\n",
       "       1000.0],\n",
       "      dtype=&#x27;float64&#x27;, name=&#x27;level&#x27;))</pre></div></li><li class='xr-var-item'><div class='xr-index-name'><div>longitude</div></div><div class='xr-index-preview'>PandasIndex</div><div></div><input id='index-9352c392-6f62-42ef-be79-92d2be045bea' class='xr-index-data-in' type='checkbox'/><label for='index-9352c392-6f62-42ef-be79-92d2be045bea' title='Show/Hide index repr'><svg class='icon xr-icon-database'><use xlink:href='#icon-database'></use></svg></label><div class='xr-index-data'><pre>PandasIndex(Index([   0.0,   0.25,    0.5,   0.75,    1.0,   1.25,    1.5,   1.75,    2.0,\n",
       "         2.25,\n",
       "       ...\n",
       "        357.5, 357.75,  358.0, 358.25,  358.5, 358.75,  359.0, 359.25,  359.5,\n",
       "       359.75],\n",
       "      dtype=&#x27;float64&#x27;, name=&#x27;longitude&#x27;, length=1440))</pre></div></li><li class='xr-var-item'><div class='xr-index-name'><div>time</div></div><div class='xr-index-preview'>PandasIndex</div><div></div><input id='index-b584cafc-b388-465f-9ceb-93a062bf921e' class='xr-index-data-in' type='checkbox'/><label for='index-b584cafc-b388-465f-9ceb-93a062bf921e' title='Show/Hide index repr'><svg class='icon xr-icon-database'><use xlink:href='#icon-database'></use></svg></label><div class='xr-index-data'><pre>PandasIndex(DatetimeIndex([&#x27;1941-06-01 00:00:00&#x27;, &#x27;1941-06-01 01:00:00&#x27;,\n",
       "               &#x27;1941-06-01 02:00:00&#x27;, &#x27;1941-06-01 03:00:00&#x27;,\n",
       "               &#x27;1941-06-01 04:00:00&#x27;, &#x27;1941-06-01 05:00:00&#x27;,\n",
       "               &#x27;1941-06-01 06:00:00&#x27;, &#x27;1941-06-01 07:00:00&#x27;,\n",
       "               &#x27;1941-06-01 08:00:00&#x27;, &#x27;1941-06-01 09:00:00&#x27;,\n",
       "               &#x27;1941-06-01 10:00:00&#x27;, &#x27;1941-06-01 11:00:00&#x27;,\n",
       "               &#x27;1941-06-01 12:00:00&#x27;, &#x27;1941-06-01 13:00:00&#x27;,\n",
       "               &#x27;1941-06-01 14:00:00&#x27;, &#x27;1941-06-01 15:00:00&#x27;,\n",
       "               &#x27;1941-06-01 16:00:00&#x27;, &#x27;1941-06-01 17:00:00&#x27;,\n",
       "               &#x27;1941-06-01 18:00:00&#x27;, &#x27;1941-06-01 19:00:00&#x27;,\n",
       "               &#x27;1941-06-01 20:00:00&#x27;, &#x27;1941-06-01 21:00:00&#x27;,\n",
       "               &#x27;1941-06-01 22:00:00&#x27;, &#x27;1941-06-01 23:00:00&#x27;],\n",
       "              dtype=&#x27;datetime64[ns]&#x27;, name=&#x27;time&#x27;, freq=None))</pre></div></li></ul></div></li><li class='xr-section-item'><input id='section-c6a84fd9-d415-47be-8a51-61e0b90cd080' class='xr-section-summary-in' type='checkbox'  checked><label for='section-c6a84fd9-d415-47be-8a51-61e0b90cd080' class='xr-section-summary' >Attributes: <span>(9)</span></label><div class='xr-section-inline-details'></div><div class='xr-section-details'><dl class='xr-attrs'><dt><span>CONVERSION_DATE :</span></dt><dd>Wed May 10 06:33:49 MDT 2023</dd><dt><span>CONVERSION_PLATFORM :</span></dt><dd>Linux r1i4n4 4.12.14-95.51-default #1 SMP Fri Apr 17 08:14:12 UTC 2020 (c6bab98) x86_64 x86_64 x86_64 GNU/Linux</dd><dt><span>Conventions :</span></dt><dd>CF-1.6</dd><dt><span>DATA_SOURCE :</span></dt><dd>ECMWF: https://cds.climate.copernicus.eu, Copernicus Climate Data Store</dd><dt><span>NCO :</span></dt><dd>netCDF Operators version 5.0.3 (Homepage = http://nco.sf.net, Code = http://github.com/nco/nco)</dd><dt><span>NETCDF_COMPRESSION :</span></dt><dd>NCO: Precision-preserving compression to netCDF4/HDF5 (see &quot;history&quot; and &quot;NCO&quot; global attributes below for specifics).</dd><dt><span>NETCDF_CONVERSION :</span></dt><dd>CISL RDA: Conversion from ECMWF GRIB 1 data to netCDF4.</dd><dt><span>NETCDF_VERSION :</span></dt><dd>4.8.1</dd><dt><span>history :</span></dt><dd>Wed May 10 06:34:19 2023: ncks -4 --ppc default=7 e5.oper.an.pl.128_060_pv.ll025sc.1941060100_1941060123.unc.nc e5.oper.an.pl.128_060_pv.ll025sc.1941060100_1941060123.nc</dd></dl></div></li></ul></div></div>"
      ],
      "text/plain": [
       "<xarray.Dataset> Size: 4GB\n",
       "Dimensions:    (latitude: 721, level: 37, time: 24, longitude: 1440)\n",
       "Coordinates:\n",
       "  * latitude   (latitude) float64 6kB 90.0 89.75 89.5 ... -89.5 -89.75 -90.0\n",
       "  * level      (level) float64 296B 1.0 2.0 3.0 5.0 ... 925.0 950.0 975.0 1e+03\n",
       "  * longitude  (longitude) float64 12kB 0.0 0.25 0.5 0.75 ... 359.2 359.5 359.8\n",
       "  * time       (time) datetime64[ns] 192B 1941-06-01 ... 1941-06-01T23:00:00\n",
       "Data variables:\n",
       "    utc_date   (time) int32 96B 1941060100 1941060101 ... 1941060122 1941060123\n",
       "    PV         (time, level, latitude, longitude) float32 4GB 0.007109 ... -1...\n",
       "Attributes:\n",
       "    CONVERSION_DATE:      Wed May 10 06:33:49 MDT 2023\n",
       "    CONVERSION_PLATFORM:  Linux r1i4n4 4.12.14-95.51-default #1 SMP Fri Apr 1...\n",
       "    Conventions:          CF-1.6\n",
       "    DATA_SOURCE:          ECMWF: https://cds.climate.copernicus.eu, Copernicu...\n",
       "    NCO:                  netCDF Operators version 5.0.3 (Homepage = http://n...\n",
       "    NETCDF_COMPRESSION:   NCO: Precision-preserving compression to netCDF4/HD...\n",
       "    NETCDF_CONVERSION:    CISL RDA: Conversion from ECMWF GRIB 1 data to netC...\n",
       "    NETCDF_VERSION:       4.8.1\n",
       "    history:              Wed May 10 06:34:19 2023: ncks -4 --ppc default=7 e..."
      ]
     },
     "execution_count": 45,
     "metadata": {},
     "output_type": "execute_result"
    }
   ],
   "source": [
    "actual = _\n",
    "actual"
   ]
  },
  {
   "cell_type": "code",
   "execution_count": 46,
   "id": "29b08fa1-aefa-4b59-bb64-d31fe88d614a",
   "metadata": {},
   "outputs": [],
   "source": [
    "xr.testing.assert_identical(actual, dsl)"
   ]
  },
  {
   "cell_type": "code",
   "execution_count": null,
   "id": "0cf1d7dc-44b4-4c92-bfe1-5fde04ac0b62",
   "metadata": {},
   "outputs": [],
   "source": []
  }
 ],
 "metadata": {
  "kernelspec": {
   "display_name": "Python 3 (ipykernel)",
   "language": "python",
   "name": "python3"
  },
  "language_info": {
   "codemirror_mode": {
    "name": "ipython",
    "version": 3
   },
   "file_extension": ".py",
   "mimetype": "text/x-python",
   "name": "python",
   "nbconvert_exporter": "python",
   "pygments_lexer": "ipython3",
   "version": "3.12.0"
  }
 },
 "nbformat": 4,
 "nbformat_minor": 5
}
