{
 "cells": [
  {
   "cell_type": "markdown",
   "id": "40c929a3-87d4-4c0e-a97d-1300d8adcae0",
   "metadata": {},
   "source": [
    "# Icechunk Performance - Zarr V3\n",
    "\n",
    "Using data from the [NCAR ERA5 AWS Public Dataset](https://nsf-ncar-era5.s3.amazonaws.com/index.html)."
   ]
  },
  {
   "cell_type": "code",
   "execution_count": 1,
   "id": "b2904d5f-090b-4344-a2f7-99096ba26d27",
   "metadata": {},
   "outputs": [
    {
     "name": "stdout",
     "output_type": "stream",
     "text": [
      "xarray:   0.9.7.dev3734+g26081d4f\n",
      "dask:     2024.9.1+8.g70f56e28\n",
      "zarr:     3.0.0b1.dev8+g9bbfd88\n"
     ]
    }
   ],
   "source": [
    "import xarray as xr\n",
    "import zarr\n",
    "import dask\n",
    "import fsspec\n",
    "from dask.diagnostics import ProgressBar\n",
    "\n",
    "print('xarray:  ', xr.__version__)\n",
    "print('dask:    ', dask.__version__)\n",
    "print('zarr:    ', zarr.__version__)"
   ]
  },
  {
   "cell_type": "code",
   "execution_count": 2,
   "id": "05661b12-9714-4a77-9f33-e351b229895f",
   "metadata": {},
   "outputs": [
    {
     "data": {
      "text/plain": [
       "<donfig.config_obj.ConfigSet at 0x7f5a7a52bf50>"
      ]
     },
     "execution_count": 2,
     "metadata": {},
     "output_type": "execute_result"
    }
   ],
   "source": [
    "zarr.config.set(\n",
    "    {\n",
    "        'threading.max_workers': 16,\n",
    "        'async.concurrency': 128\n",
    "    }\n",
    ")"
   ]
  },
  {
   "cell_type": "code",
   "execution_count": 3,
   "id": "081e1a71-873e-45c3-b77d-5b7aa1617286",
   "metadata": {},
   "outputs": [
    {
     "name": "stdout",
     "output_type": "stream",
     "text": [
      "CPU times: user 277 ms, sys: 37.5 ms, total: 315 ms\n",
      "Wall time: 2.33 s\n"
     ]
    },
    {
     "name": "stderr",
     "output_type": "stream",
     "text": [
      "/srv/conda/envs/icechunk/lib/python3.12/site-packages/xarray/backends/api.py:357: UserWarning: The specified chunks separate the stored chunks along dimension \"time\" starting at index 1. This could degrade performance. Instead, consider rechunking after loading.\n",
      "  var_chunks = _get_chunk(var, chunks, chunkmanager)\n"
     ]
    }
   ],
   "source": [
    "url = \"https://nsf-ncar-era5.s3.amazonaws.com/e5.oper.an.pl/194106/e5.oper.an.pl.128_060_pv.ll025sc.1941060100_1941060123.nc\"\n",
    "%time ds = xr.open_dataset(fsspec.open(url).open(), engine=\"h5netcdf\", chunks={\"time\": 1})\n",
    "ds = ds.drop_encoding()"
   ]
  },
  {
   "cell_type": "code",
   "execution_count": 4,
   "id": "b3048527-c50f-451c-9500-cac6c22dd1bc",
   "metadata": {},
   "outputs": [
    {
     "name": "stdout",
     "output_type": "stream",
     "text": [
      "<xarray.Dataset> Size: 4GB\n",
      "Dimensions:    (time: 24, level: 37, latitude: 721, longitude: 1440)\n",
      "Coordinates:\n",
      "  * latitude   (latitude) float64 6kB 90.0 89.75 89.5 ... -89.5 -89.75 -90.0\n",
      "  * level      (level) float64 296B 1.0 2.0 3.0 5.0 ... 925.0 950.0 975.0 1e+03\n",
      "  * longitude  (longitude) float64 12kB 0.0 0.25 0.5 0.75 ... 359.2 359.5 359.8\n",
      "  * time       (time) datetime64[ns] 192B 1941-06-01 ... 1941-06-01T23:00:00\n",
      "Data variables:\n",
      "    PV         (time, level, latitude, longitude) float32 4GB dask.array<chunksize=(1, 37, 721, 1440), meta=np.ndarray>\n",
      "    utc_date   (time) int32 96B dask.array<chunksize=(1,), meta=np.ndarray>\n",
      "Attributes:\n",
      "    DATA_SOURCE:          ECMWF: https://cds.climate.copernicus.eu, Copernicu...\n",
      "    NETCDF_CONVERSION:    CISL RDA: Conversion from ECMWF GRIB 1 data to netC...\n",
      "    NETCDF_VERSION:       4.8.1\n",
      "    CONVERSION_PLATFORM:  Linux r1i4n4 4.12.14-95.51-default #1 SMP Fri Apr 1...\n",
      "    CONVERSION_DATE:      Wed May 10 06:33:49 MDT 2023\n",
      "    Conventions:          CF-1.6\n",
      "    NETCDF_COMPRESSION:   NCO: Precision-preserving compression to netCDF4/HD...\n",
      "    history:              Wed May 10 06:34:19 2023: ncks -4 --ppc default=7 e...\n",
      "    NCO:                  netCDF Operators version 5.0.3 (Homepage = http://n...\n"
     ]
    }
   ],
   "source": [
    "print(ds)"
   ]
  },
  {
   "cell_type": "markdown",
   "id": "7f4a801c-b570-45e3-b37f-2e140a2fb273",
   "metadata": {},
   "source": [
    "### Load Data from HDF5 File\n",
    "\n",
    "This illustrates how loading directly from HDF5 files on S3 can be slow, even with Dask."
   ]
  },
  {
   "cell_type": "code",
   "execution_count": 5,
   "id": "29e344c6-a25e-4342-979f-d2d2c7aed7a7",
   "metadata": {},
   "outputs": [
    {
     "name": "stdout",
     "output_type": "stream",
     "text": [
      "[########################################] | 100% Completed | 62.20 ss\n"
     ]
    }
   ],
   "source": [
    "with ProgressBar():\n",
    "    dsl = ds.load()"
   ]
  },
  {
   "cell_type": "markdown",
   "id": "bdbd3f6c-e62c-4cfc-8cfb-b0fa22b6bddd",
   "metadata": {},
   "source": [
    "### Write Zarr Store - No Dask"
   ]
  },
  {
   "cell_type": "code",
   "execution_count": 6,
   "id": "67c6389d-79a0-4992-b845-6a633cb4d86b",
   "metadata": {},
   "outputs": [],
   "source": [
    "encoding = {\n",
    "    \"PV\": {\n",
    "        \"codecs\": [zarr.codecs.BytesCodec(), zarr.codecs.ZstdCodec()],\n",
    "        \"chunks\": (1, 1, 721, 1440)\n",
    "    }\n",
    "}"
   ]
  },
  {
   "cell_type": "code",
   "execution_count": 7,
   "id": "ece4f559-6ed5-4027-bab4-6ee42babf103",
   "metadata": {},
   "outputs": [],
   "source": [
    "import s3fs\n",
    "s3 = s3fs.S3FileSystem(use_listings_cache=False)"
   ]
  },
  {
   "cell_type": "code",
   "execution_count": 10,
   "id": "657f10fe-b29e-4ef5-8953-ce11374ce818",
   "metadata": {},
   "outputs": [],
   "source": [
    "target_path = \"icechunk-test/ryan/zarr-v3/test-era5-v3-919\"\n",
    "store = zarr.storage.RemoteStore(s3, mode=\"w\", path=target_path)"
   ]
  },
  {
   "cell_type": "code",
   "execution_count": 11,
   "id": "b9a8c5ab-cc5a-4a05-b4ba-3b52be187e18",
   "metadata": {},
   "outputs": [
    {
     "name": "stdout",
     "output_type": "stream",
     "text": [
      "CPU times: user 36.2 s, sys: 2.53 s, total: 38.7 s\n",
      "Wall time: 15.8 s\n"
     ]
    },
    {
     "data": {
      "text/plain": [
       "<xarray.backends.zarr.ZarrStore at 0x7f5a3839efc0>"
      ]
     },
     "execution_count": 11,
     "metadata": {},
     "output_type": "execute_result"
    }
   ],
   "source": [
    "%time dsl.to_zarr(store, consolidated=False, zarr_format=3, encoding=encoding, mode=\"w\")"
   ]
  },
  {
   "cell_type": "code",
   "execution_count": 48,
   "id": "3718012b-3157-47a1-8ac4-f72d27a2132f",
   "metadata": {},
   "outputs": [
    {
     "name": "stdout",
     "output_type": "stream",
     "text": [
      "[########################################] | 100% Completed | 12.60 s\n"
     ]
    }
   ],
   "source": [
    "# with dask\n",
    "dslc = dsl.chunk({\"time\": 1, \"level\": 1})\n",
    "store_d = zarr.storage.RemoteStore(s3, mode=\"w\", path=target_url + \"-dask\")\n",
    "with ProgressBar():\n",
    "    dslc.to_zarr(store_d, consolidated=False, zarr_format=3, encoding=encoding, mode=\"w\")"
   ]
  },
  {
   "cell_type": "markdown",
   "id": "34b1a12c-9640-4f8b-a5fc-2ade040b437c",
   "metadata": {},
   "source": [
    "### Read Data Back"
   ]
  },
  {
   "cell_type": "code",
   "execution_count": 12,
   "id": "a9c1bfc7-61d2-4a92-ab82-b026e7b9fcf6",
   "metadata": {},
   "outputs": [
    {
     "name": "stdout",
     "output_type": "stream",
     "text": [
      "CPU times: user 35.6 ms, sys: 0 ns, total: 35.6 ms\n",
      "Wall time: 343 ms\n"
     ]
    }
   ],
   "source": [
    "#store = zarr.storage.RemoteStore(s3, mode=\"r\", path=target_url)\n",
    "%time dss = xr.open_dataset(store, consolidated=False, zarr_format=3, engine=\"zarr\")"
   ]
  },
  {
   "cell_type": "code",
   "execution_count": 13,
   "id": "752983c4-7e76-4530-8b7b-73b6bb5e2600",
   "metadata": {},
   "outputs": [
    {
     "data": {
      "text/html": [
       "<div><svg style=\"position: absolute; width: 0; height: 0; overflow: hidden\">\n",
       "<defs>\n",
       "<symbol id=\"icon-database\" viewBox=\"0 0 32 32\">\n",
       "<path d=\"M16 0c-8.837 0-16 2.239-16 5v4c0 2.761 7.163 5 16 5s16-2.239 16-5v-4c0-2.761-7.163-5-16-5z\"></path>\n",
       "<path d=\"M16 17c-8.837 0-16-2.239-16-5v6c0 2.761 7.163 5 16 5s16-2.239 16-5v-6c0 2.761-7.163 5-16 5z\"></path>\n",
       "<path d=\"M16 26c-8.837 0-16-2.239-16-5v6c0 2.761 7.163 5 16 5s16-2.239 16-5v-6c0 2.761-7.163 5-16 5z\"></path>\n",
       "</symbol>\n",
       "<symbol id=\"icon-file-text2\" viewBox=\"0 0 32 32\">\n",
       "<path d=\"M28.681 7.159c-0.694-0.947-1.662-2.053-2.724-3.116s-2.169-2.030-3.116-2.724c-1.612-1.182-2.393-1.319-2.841-1.319h-15.5c-1.378 0-2.5 1.121-2.5 2.5v27c0 1.378 1.122 2.5 2.5 2.5h23c1.378 0 2.5-1.122 2.5-2.5v-19.5c0-0.448-0.137-1.23-1.319-2.841zM24.543 5.457c0.959 0.959 1.712 1.825 2.268 2.543h-4.811v-4.811c0.718 0.556 1.584 1.309 2.543 2.268zM28 29.5c0 0.271-0.229 0.5-0.5 0.5h-23c-0.271 0-0.5-0.229-0.5-0.5v-27c0-0.271 0.229-0.5 0.5-0.5 0 0 15.499-0 15.5 0v7c0 0.552 0.448 1 1 1h7v19.5z\"></path>\n",
       "<path d=\"M23 26h-14c-0.552 0-1-0.448-1-1s0.448-1 1-1h14c0.552 0 1 0.448 1 1s-0.448 1-1 1z\"></path>\n",
       "<path d=\"M23 22h-14c-0.552 0-1-0.448-1-1s0.448-1 1-1h14c0.552 0 1 0.448 1 1s-0.448 1-1 1z\"></path>\n",
       "<path d=\"M23 18h-14c-0.552 0-1-0.448-1-1s0.448-1 1-1h14c0.552 0 1 0.448 1 1s-0.448 1-1 1z\"></path>\n",
       "</symbol>\n",
       "</defs>\n",
       "</svg>\n",
       "<style>/* CSS stylesheet for displaying xarray objects in jupyterlab.\n",
       " *\n",
       " */\n",
       "\n",
       ":root {\n",
       "  --xr-font-color0: var(--jp-content-font-color0, rgba(0, 0, 0, 1));\n",
       "  --xr-font-color2: var(--jp-content-font-color2, rgba(0, 0, 0, 0.54));\n",
       "  --xr-font-color3: var(--jp-content-font-color3, rgba(0, 0, 0, 0.38));\n",
       "  --xr-border-color: var(--jp-border-color2, #e0e0e0);\n",
       "  --xr-disabled-color: var(--jp-layout-color3, #bdbdbd);\n",
       "  --xr-background-color: var(--jp-layout-color0, white);\n",
       "  --xr-background-color-row-even: var(--jp-layout-color1, white);\n",
       "  --xr-background-color-row-odd: var(--jp-layout-color2, #eeeeee);\n",
       "}\n",
       "\n",
       "html[theme=dark],\n",
       "html[data-theme=dark],\n",
       "body[data-theme=dark],\n",
       "body.vscode-dark {\n",
       "  --xr-font-color0: rgba(255, 255, 255, 1);\n",
       "  --xr-font-color2: rgba(255, 255, 255, 0.54);\n",
       "  --xr-font-color3: rgba(255, 255, 255, 0.38);\n",
       "  --xr-border-color: #1F1F1F;\n",
       "  --xr-disabled-color: #515151;\n",
       "  --xr-background-color: #111111;\n",
       "  --xr-background-color-row-even: #111111;\n",
       "  --xr-background-color-row-odd: #313131;\n",
       "}\n",
       "\n",
       ".xr-wrap {\n",
       "  display: block !important;\n",
       "  min-width: 300px;\n",
       "  max-width: 700px;\n",
       "}\n",
       "\n",
       ".xr-text-repr-fallback {\n",
       "  /* fallback to plain text repr when CSS is not injected (untrusted notebook) */\n",
       "  display: none;\n",
       "}\n",
       "\n",
       ".xr-header {\n",
       "  padding-top: 6px;\n",
       "  padding-bottom: 6px;\n",
       "  margin-bottom: 4px;\n",
       "  border-bottom: solid 1px var(--xr-border-color);\n",
       "}\n",
       "\n",
       ".xr-header > div,\n",
       ".xr-header > ul {\n",
       "  display: inline;\n",
       "  margin-top: 0;\n",
       "  margin-bottom: 0;\n",
       "}\n",
       "\n",
       ".xr-obj-type,\n",
       ".xr-array-name {\n",
       "  margin-left: 2px;\n",
       "  margin-right: 10px;\n",
       "}\n",
       "\n",
       ".xr-obj-type {\n",
       "  color: var(--xr-font-color2);\n",
       "}\n",
       "\n",
       ".xr-sections {\n",
       "  padding-left: 0 !important;\n",
       "  display: grid;\n",
       "  grid-template-columns: 150px auto auto 1fr 0 20px 0 20px;\n",
       "}\n",
       "\n",
       ".xr-section-item {\n",
       "  display: contents;\n",
       "}\n",
       "\n",
       ".xr-section-item input {\n",
       "  display: inline-block;\n",
       "  opacity: 0;\n",
       "}\n",
       "\n",
       ".xr-section-item input + label {\n",
       "  color: var(--xr-disabled-color);\n",
       "}\n",
       "\n",
       ".xr-section-item input:enabled + label {\n",
       "  cursor: pointer;\n",
       "  color: var(--xr-font-color2);\n",
       "}\n",
       "\n",
       ".xr-section-item input:focus + label {\n",
       "  border: 2px solid var(--xr-font-color0);\n",
       "}\n",
       "\n",
       ".xr-section-item input:enabled + label:hover {\n",
       "  color: var(--xr-font-color0);\n",
       "}\n",
       "\n",
       ".xr-section-summary {\n",
       "  grid-column: 1;\n",
       "  color: var(--xr-font-color2);\n",
       "  font-weight: 500;\n",
       "}\n",
       "\n",
       ".xr-section-summary > span {\n",
       "  display: inline-block;\n",
       "  padding-left: 0.5em;\n",
       "}\n",
       "\n",
       ".xr-section-summary-in:disabled + label {\n",
       "  color: var(--xr-font-color2);\n",
       "}\n",
       "\n",
       ".xr-section-summary-in + label:before {\n",
       "  display: inline-block;\n",
       "  content: '►';\n",
       "  font-size: 11px;\n",
       "  width: 15px;\n",
       "  text-align: center;\n",
       "}\n",
       "\n",
       ".xr-section-summary-in:disabled + label:before {\n",
       "  color: var(--xr-disabled-color);\n",
       "}\n",
       "\n",
       ".xr-section-summary-in:checked + label:before {\n",
       "  content: '▼';\n",
       "}\n",
       "\n",
       ".xr-section-summary-in:checked + label > span {\n",
       "  display: none;\n",
       "}\n",
       "\n",
       ".xr-section-summary,\n",
       ".xr-section-inline-details {\n",
       "  padding-top: 4px;\n",
       "  padding-bottom: 4px;\n",
       "}\n",
       "\n",
       ".xr-section-inline-details {\n",
       "  grid-column: 2 / -1;\n",
       "}\n",
       "\n",
       ".xr-section-details {\n",
       "  display: none;\n",
       "  grid-column: 1 / -1;\n",
       "  margin-bottom: 5px;\n",
       "}\n",
       "\n",
       ".xr-section-summary-in:checked ~ .xr-section-details {\n",
       "  display: contents;\n",
       "}\n",
       "\n",
       ".xr-array-wrap {\n",
       "  grid-column: 1 / -1;\n",
       "  display: grid;\n",
       "  grid-template-columns: 20px auto;\n",
       "}\n",
       "\n",
       ".xr-array-wrap > label {\n",
       "  grid-column: 1;\n",
       "  vertical-align: top;\n",
       "}\n",
       "\n",
       ".xr-preview {\n",
       "  color: var(--xr-font-color3);\n",
       "}\n",
       "\n",
       ".xr-array-preview,\n",
       ".xr-array-data {\n",
       "  padding: 0 5px !important;\n",
       "  grid-column: 2;\n",
       "}\n",
       "\n",
       ".xr-array-data,\n",
       ".xr-array-in:checked ~ .xr-array-preview {\n",
       "  display: none;\n",
       "}\n",
       "\n",
       ".xr-array-in:checked ~ .xr-array-data,\n",
       ".xr-array-preview {\n",
       "  display: inline-block;\n",
       "}\n",
       "\n",
       ".xr-dim-list {\n",
       "  display: inline-block !important;\n",
       "  list-style: none;\n",
       "  padding: 0 !important;\n",
       "  margin: 0;\n",
       "}\n",
       "\n",
       ".xr-dim-list li {\n",
       "  display: inline-block;\n",
       "  padding: 0;\n",
       "  margin: 0;\n",
       "}\n",
       "\n",
       ".xr-dim-list:before {\n",
       "  content: '(';\n",
       "}\n",
       "\n",
       ".xr-dim-list:after {\n",
       "  content: ')';\n",
       "}\n",
       "\n",
       ".xr-dim-list li:not(:last-child):after {\n",
       "  content: ',';\n",
       "  padding-right: 5px;\n",
       "}\n",
       "\n",
       ".xr-has-index {\n",
       "  font-weight: bold;\n",
       "}\n",
       "\n",
       ".xr-var-list,\n",
       ".xr-var-item {\n",
       "  display: contents;\n",
       "}\n",
       "\n",
       ".xr-var-item > div,\n",
       ".xr-var-item label,\n",
       ".xr-var-item > .xr-var-name span {\n",
       "  background-color: var(--xr-background-color-row-even);\n",
       "  margin-bottom: 0;\n",
       "}\n",
       "\n",
       ".xr-var-item > .xr-var-name:hover span {\n",
       "  padding-right: 5px;\n",
       "}\n",
       "\n",
       ".xr-var-list > li:nth-child(odd) > div,\n",
       ".xr-var-list > li:nth-child(odd) > label,\n",
       ".xr-var-list > li:nth-child(odd) > .xr-var-name span {\n",
       "  background-color: var(--xr-background-color-row-odd);\n",
       "}\n",
       "\n",
       ".xr-var-name {\n",
       "  grid-column: 1;\n",
       "}\n",
       "\n",
       ".xr-var-dims {\n",
       "  grid-column: 2;\n",
       "}\n",
       "\n",
       ".xr-var-dtype {\n",
       "  grid-column: 3;\n",
       "  text-align: right;\n",
       "  color: var(--xr-font-color2);\n",
       "}\n",
       "\n",
       ".xr-var-preview {\n",
       "  grid-column: 4;\n",
       "}\n",
       "\n",
       ".xr-index-preview {\n",
       "  grid-column: 2 / 5;\n",
       "  color: var(--xr-font-color2);\n",
       "}\n",
       "\n",
       ".xr-var-name,\n",
       ".xr-var-dims,\n",
       ".xr-var-dtype,\n",
       ".xr-preview,\n",
       ".xr-attrs dt {\n",
       "  white-space: nowrap;\n",
       "  overflow: hidden;\n",
       "  text-overflow: ellipsis;\n",
       "  padding-right: 10px;\n",
       "}\n",
       "\n",
       ".xr-var-name:hover,\n",
       ".xr-var-dims:hover,\n",
       ".xr-var-dtype:hover,\n",
       ".xr-attrs dt:hover {\n",
       "  overflow: visible;\n",
       "  width: auto;\n",
       "  z-index: 1;\n",
       "}\n",
       "\n",
       ".xr-var-attrs,\n",
       ".xr-var-data,\n",
       ".xr-index-data {\n",
       "  display: none;\n",
       "  background-color: var(--xr-background-color) !important;\n",
       "  padding-bottom: 5px !important;\n",
       "}\n",
       "\n",
       ".xr-var-attrs-in:checked ~ .xr-var-attrs,\n",
       ".xr-var-data-in:checked ~ .xr-var-data,\n",
       ".xr-index-data-in:checked ~ .xr-index-data {\n",
       "  display: block;\n",
       "}\n",
       "\n",
       ".xr-var-data > table {\n",
       "  float: right;\n",
       "}\n",
       "\n",
       ".xr-var-name span,\n",
       ".xr-var-data,\n",
       ".xr-index-name div,\n",
       ".xr-index-data,\n",
       ".xr-attrs {\n",
       "  padding-left: 25px !important;\n",
       "}\n",
       "\n",
       ".xr-attrs,\n",
       ".xr-var-attrs,\n",
       ".xr-var-data,\n",
       ".xr-index-data {\n",
       "  grid-column: 1 / -1;\n",
       "}\n",
       "\n",
       "dl.xr-attrs {\n",
       "  padding: 0;\n",
       "  margin: 0;\n",
       "  display: grid;\n",
       "  grid-template-columns: 125px auto;\n",
       "}\n",
       "\n",
       ".xr-attrs dt,\n",
       ".xr-attrs dd {\n",
       "  padding: 0;\n",
       "  margin: 0;\n",
       "  float: left;\n",
       "  padding-right: 10px;\n",
       "  width: auto;\n",
       "}\n",
       "\n",
       ".xr-attrs dt {\n",
       "  font-weight: normal;\n",
       "  grid-column: 1;\n",
       "}\n",
       "\n",
       ".xr-attrs dt:hover span {\n",
       "  display: inline-block;\n",
       "  background: var(--xr-background-color);\n",
       "  padding-right: 10px;\n",
       "}\n",
       "\n",
       ".xr-attrs dd {\n",
       "  grid-column: 2;\n",
       "  white-space: pre-wrap;\n",
       "  word-break: break-all;\n",
       "}\n",
       "\n",
       ".xr-icon-database,\n",
       ".xr-icon-file-text2,\n",
       ".xr-no-icon {\n",
       "  display: inline-block;\n",
       "  vertical-align: middle;\n",
       "  width: 1em;\n",
       "  height: 1.5em !important;\n",
       "  stroke-width: 0;\n",
       "  stroke: currentColor;\n",
       "  fill: currentColor;\n",
       "}\n",
       "</style><pre class='xr-text-repr-fallback'>&lt;xarray.Dataset&gt; Size: 4GB\n",
       "Dimensions:    (time: 24, level: 37, latitude: 721, longitude: 1440)\n",
       "Coordinates:\n",
       "  * latitude   (latitude) float64 6kB 90.0 89.75 89.5 ... -89.5 -89.75 -90.0\n",
       "  * level      (level) float64 296B 1.0 2.0 3.0 5.0 ... 925.0 950.0 975.0 1e+03\n",
       "  * longitude  (longitude) float64 12kB 0.0 0.25 0.5 0.75 ... 359.2 359.5 359.8\n",
       "  * time       (time) datetime64[ns] 192B 1941-06-01 ... 1941-06-01T23:00:00\n",
       "Data variables:\n",
       "    PV         (time, level, latitude, longitude) float32 4GB ...\n",
       "    utc_date   (time) int32 96B ...\n",
       "Attributes:\n",
       "    DATA_SOURCE:          ECMWF: https://cds.climate.copernicus.eu, Copernicu...\n",
       "    NETCDF_CONVERSION:    CISL RDA: Conversion from ECMWF GRIB 1 data to netC...\n",
       "    NETCDF_VERSION:       4.8.1\n",
       "    CONVERSION_PLATFORM:  Linux r1i4n4 4.12.14-95.51-default #1 SMP Fri Apr 1...\n",
       "    CONVERSION_DATE:      Wed May 10 06:33:49 MDT 2023\n",
       "    Conventions:          CF-1.6\n",
       "    NETCDF_COMPRESSION:   NCO: Precision-preserving compression to netCDF4/HD...\n",
       "    history:              Wed May 10 06:34:19 2023: ncks -4 --ppc default=7 e...\n",
       "    NCO:                  netCDF Operators version 5.0.3 (Homepage = http://n...</pre><div class='xr-wrap' style='display:none'><div class='xr-header'><div class='xr-obj-type'>xarray.Dataset</div></div><ul class='xr-sections'><li class='xr-section-item'><input id='section-da6301a3-08a8-4f06-8bb6-81c371aff82b' class='xr-section-summary-in' type='checkbox' disabled ><label for='section-da6301a3-08a8-4f06-8bb6-81c371aff82b' class='xr-section-summary'  title='Expand/collapse section'>Dimensions:</label><div class='xr-section-inline-details'><ul class='xr-dim-list'><li><span class='xr-has-index'>time</span>: 24</li><li><span class='xr-has-index'>level</span>: 37</li><li><span class='xr-has-index'>latitude</span>: 721</li><li><span class='xr-has-index'>longitude</span>: 1440</li></ul></div><div class='xr-section-details'></div></li><li class='xr-section-item'><input id='section-ad8bd207-6fe4-4a34-8436-2f3ed33ebb36' class='xr-section-summary-in' type='checkbox'  checked><label for='section-ad8bd207-6fe4-4a34-8436-2f3ed33ebb36' class='xr-section-summary' >Coordinates: <span>(4)</span></label><div class='xr-section-inline-details'></div><div class='xr-section-details'><ul class='xr-var-list'><li class='xr-var-item'><div class='xr-var-name'><span class='xr-has-index'>latitude</span></div><div class='xr-var-dims'>(latitude)</div><div class='xr-var-dtype'>float64</div><div class='xr-var-preview xr-preview'>90.0 89.75 89.5 ... -89.75 -90.0</div><input id='attrs-546d7981-23ad-4c1b-8d8f-b0036e0739ba' class='xr-var-attrs-in' type='checkbox' ><label for='attrs-546d7981-23ad-4c1b-8d8f-b0036e0739ba' title='Show/Hide attributes'><svg class='icon xr-icon-file-text2'><use xlink:href='#icon-file-text2'></use></svg></label><input id='data-de48a77d-fcb1-4fba-b729-08e4603df04c' class='xr-var-data-in' type='checkbox'><label for='data-de48a77d-fcb1-4fba-b729-08e4603df04c' title='Show/Hide data repr'><svg class='icon xr-icon-database'><use xlink:href='#icon-database'></use></svg></label><div class='xr-var-attrs'><dl class='xr-attrs'><dt><span>long_name :</span></dt><dd>latitude</dd><dt><span>short_name :</span></dt><dd>lat</dd><dt><span>units :</span></dt><dd>degrees_north</dd></dl></div><div class='xr-var-data'><pre>array([ 90.  ,  89.75,  89.5 , ..., -89.5 , -89.75, -90.  ])</pre></div></li><li class='xr-var-item'><div class='xr-var-name'><span class='xr-has-index'>level</span></div><div class='xr-var-dims'>(level)</div><div class='xr-var-dtype'>float64</div><div class='xr-var-preview xr-preview'>1.0 2.0 3.0 ... 950.0 975.0 1e+03</div><input id='attrs-a5025146-8e5a-411d-9169-73bc4ada78f8' class='xr-var-attrs-in' type='checkbox' ><label for='attrs-a5025146-8e5a-411d-9169-73bc4ada78f8' title='Show/Hide attributes'><svg class='icon xr-icon-file-text2'><use xlink:href='#icon-file-text2'></use></svg></label><input id='data-30703cf5-f455-428d-9d93-b2e29aadb407' class='xr-var-data-in' type='checkbox'><label for='data-30703cf5-f455-428d-9d93-b2e29aadb407' title='Show/Hide data repr'><svg class='icon xr-icon-database'><use xlink:href='#icon-database'></use></svg></label><div class='xr-var-attrs'><dl class='xr-attrs'><dt><span>long_name :</span></dt><dd>pressure level</dd><dt><span>short_name :</span></dt><dd>plev</dd><dt><span>units :</span></dt><dd>hPa</dd><dt><span>alternate_units :</span></dt><dd>millibar</dd></dl></div><div class='xr-var-data'><pre>array([   1.,    2.,    3.,    5.,    7.,   10.,   20.,   30.,   50.,   70.,\n",
       "        100.,  125.,  150.,  175.,  200.,  225.,  250.,  300.,  350.,  400.,\n",
       "        450.,  500.,  550.,  600.,  650.,  700.,  750.,  775.,  800.,  825.,\n",
       "        850.,  875.,  900.,  925.,  950.,  975., 1000.])</pre></div></li><li class='xr-var-item'><div class='xr-var-name'><span class='xr-has-index'>longitude</span></div><div class='xr-var-dims'>(longitude)</div><div class='xr-var-dtype'>float64</div><div class='xr-var-preview xr-preview'>0.0 0.25 0.5 ... 359.2 359.5 359.8</div><input id='attrs-f244996a-ed3c-4ef6-88ac-d736771df2d8' class='xr-var-attrs-in' type='checkbox' ><label for='attrs-f244996a-ed3c-4ef6-88ac-d736771df2d8' title='Show/Hide attributes'><svg class='icon xr-icon-file-text2'><use xlink:href='#icon-file-text2'></use></svg></label><input id='data-b17dc2d5-242a-4434-832b-e7a154982047' class='xr-var-data-in' type='checkbox'><label for='data-b17dc2d5-242a-4434-832b-e7a154982047' title='Show/Hide data repr'><svg class='icon xr-icon-database'><use xlink:href='#icon-database'></use></svg></label><div class='xr-var-attrs'><dl class='xr-attrs'><dt><span>long_name :</span></dt><dd>longitude</dd><dt><span>short_name :</span></dt><dd>lon</dd><dt><span>units :</span></dt><dd>degrees_east</dd></dl></div><div class='xr-var-data'><pre>array([0.0000e+00, 2.5000e-01, 5.0000e-01, ..., 3.5925e+02, 3.5950e+02,\n",
       "       3.5975e+02])</pre></div></li><li class='xr-var-item'><div class='xr-var-name'><span class='xr-has-index'>time</span></div><div class='xr-var-dims'>(time)</div><div class='xr-var-dtype'>datetime64[ns]</div><div class='xr-var-preview xr-preview'>1941-06-01 ... 1941-06-01T23:00:00</div><input id='attrs-2a5f6746-f7cc-4249-9e72-de524897d8cc' class='xr-var-attrs-in' type='checkbox' ><label for='attrs-2a5f6746-f7cc-4249-9e72-de524897d8cc' title='Show/Hide attributes'><svg class='icon xr-icon-file-text2'><use xlink:href='#icon-file-text2'></use></svg></label><input id='data-85d9c187-d4ea-4c03-b479-f856862d9e13' class='xr-var-data-in' type='checkbox'><label for='data-85d9c187-d4ea-4c03-b479-f856862d9e13' title='Show/Hide data repr'><svg class='icon xr-icon-database'><use xlink:href='#icon-database'></use></svg></label><div class='xr-var-attrs'><dl class='xr-attrs'><dt><span>long_name :</span></dt><dd>time</dd></dl></div><div class='xr-var-data'><pre>array([&#x27;1941-06-01T00:00:00.000000000&#x27;, &#x27;1941-06-01T01:00:00.000000000&#x27;,\n",
       "       &#x27;1941-06-01T02:00:00.000000000&#x27;, &#x27;1941-06-01T03:00:00.000000000&#x27;,\n",
       "       &#x27;1941-06-01T04:00:00.000000000&#x27;, &#x27;1941-06-01T05:00:00.000000000&#x27;,\n",
       "       &#x27;1941-06-01T06:00:00.000000000&#x27;, &#x27;1941-06-01T07:00:00.000000000&#x27;,\n",
       "       &#x27;1941-06-01T08:00:00.000000000&#x27;, &#x27;1941-06-01T09:00:00.000000000&#x27;,\n",
       "       &#x27;1941-06-01T10:00:00.000000000&#x27;, &#x27;1941-06-01T11:00:00.000000000&#x27;,\n",
       "       &#x27;1941-06-01T12:00:00.000000000&#x27;, &#x27;1941-06-01T13:00:00.000000000&#x27;,\n",
       "       &#x27;1941-06-01T14:00:00.000000000&#x27;, &#x27;1941-06-01T15:00:00.000000000&#x27;,\n",
       "       &#x27;1941-06-01T16:00:00.000000000&#x27;, &#x27;1941-06-01T17:00:00.000000000&#x27;,\n",
       "       &#x27;1941-06-01T18:00:00.000000000&#x27;, &#x27;1941-06-01T19:00:00.000000000&#x27;,\n",
       "       &#x27;1941-06-01T20:00:00.000000000&#x27;, &#x27;1941-06-01T21:00:00.000000000&#x27;,\n",
       "       &#x27;1941-06-01T22:00:00.000000000&#x27;, &#x27;1941-06-01T23:00:00.000000000&#x27;],\n",
       "      dtype=&#x27;datetime64[ns]&#x27;)</pre></div></li></ul></div></li><li class='xr-section-item'><input id='section-328e4bb9-faeb-4a46-8f9c-7fb6fc16c501' class='xr-section-summary-in' type='checkbox'  checked><label for='section-328e4bb9-faeb-4a46-8f9c-7fb6fc16c501' class='xr-section-summary' >Data variables: <span>(2)</span></label><div class='xr-section-inline-details'></div><div class='xr-section-details'><ul class='xr-var-list'><li class='xr-var-item'><div class='xr-var-name'><span>PV</span></div><div class='xr-var-dims'>(time, level, latitude, longitude)</div><div class='xr-var-dtype'>float32</div><div class='xr-var-preview xr-preview'>...</div><input id='attrs-134e8deb-78d4-4222-a03a-7e5cb2c306c0' class='xr-var-attrs-in' type='checkbox' ><label for='attrs-134e8deb-78d4-4222-a03a-7e5cb2c306c0' title='Show/Hide attributes'><svg class='icon xr-icon-file-text2'><use xlink:href='#icon-file-text2'></use></svg></label><input id='data-777c0d14-6ffd-4711-9d29-927aa904a045' class='xr-var-data-in' type='checkbox'><label for='data-777c0d14-6ffd-4711-9d29-927aa904a045' title='Show/Hide data repr'><svg class='icon xr-icon-database'><use xlink:href='#icon-database'></use></svg></label><div class='xr-var-attrs'><dl class='xr-attrs'><dt><span>long_name :</span></dt><dd>Potential vorticity</dd><dt><span>short_name :</span></dt><dd>pv</dd><dt><span>units :</span></dt><dd>K m**2 kg**-1 s**-1</dd><dt><span>original_format :</span></dt><dd>WMO GRIB 1 with ECMWF local table</dd><dt><span>ecmwf_local_table :</span></dt><dd>128</dd><dt><span>ecmwf_parameter :</span></dt><dd>60</dd><dt><span>minimum_value :</span></dt><dd>-0.03200835734605789</dd><dt><span>maximum_value :</span></dt><dd>0.023797351866960526</dd><dt><span>grid_specification :</span></dt><dd>0.25 degree x 0.25 degree from 90N to 90S and 0E to 359.75E (721 x 1440 Latitude/Longitude)</dd><dt><span>rda_dataset :</span></dt><dd>ds633.0</dd><dt><span>rda_dataset_url :</span></dt><dd>https:/rda.ucar.edu/datasets/ds633.0/</dd><dt><span>rda_dataset_doi :</span></dt><dd>DOI: 10.5065/BH6N-5N20</dd><dt><span>rda_dataset_group :</span></dt><dd>ERA5 atmospheric pressure level analysis [netCDF4]</dd><dt><span>QuantizeGranularBitGroomNumberOfSignificantDigits :</span></dt><dd>7</dd></dl></div><div class='xr-var-data'><pre>[921957120 values with dtype=float32]</pre></div></li><li class='xr-var-item'><div class='xr-var-name'><span>utc_date</span></div><div class='xr-var-dims'>(time)</div><div class='xr-var-dtype'>int32</div><div class='xr-var-preview xr-preview'>...</div><input id='attrs-87a4aad2-d25b-49f3-828a-686e569f4508' class='xr-var-attrs-in' type='checkbox' ><label for='attrs-87a4aad2-d25b-49f3-828a-686e569f4508' title='Show/Hide attributes'><svg class='icon xr-icon-file-text2'><use xlink:href='#icon-file-text2'></use></svg></label><input id='data-485d8652-d7bb-417a-93d6-8683117d84c7' class='xr-var-data-in' type='checkbox'><label for='data-485d8652-d7bb-417a-93d6-8683117d84c7' title='Show/Hide data repr'><svg class='icon xr-icon-database'><use xlink:href='#icon-database'></use></svg></label><div class='xr-var-attrs'><dl class='xr-attrs'><dt><span>long_name :</span></dt><dd>UTC date yyyy-mm-dd hh:00:00 as yyyymmddhh</dd><dt><span>units :</span></dt><dd>Gregorian_year month day hour</dd></dl></div><div class='xr-var-data'><pre>[24 values with dtype=int32]</pre></div></li></ul></div></li><li class='xr-section-item'><input id='section-d44b5e6b-d4c4-430d-9722-7d7a2ce02ebf' class='xr-section-summary-in' type='checkbox'  ><label for='section-d44b5e6b-d4c4-430d-9722-7d7a2ce02ebf' class='xr-section-summary' >Indexes: <span>(4)</span></label><div class='xr-section-inline-details'></div><div class='xr-section-details'><ul class='xr-var-list'><li class='xr-var-item'><div class='xr-index-name'><div>latitude</div></div><div class='xr-index-preview'>PandasIndex</div><div></div><input id='index-6d8546bf-07e0-4388-86f8-8b39264033a6' class='xr-index-data-in' type='checkbox'/><label for='index-6d8546bf-07e0-4388-86f8-8b39264033a6' title='Show/Hide index repr'><svg class='icon xr-icon-database'><use xlink:href='#icon-database'></use></svg></label><div class='xr-index-data'><pre>PandasIndex(Index([  90.0,  89.75,   89.5,  89.25,   89.0,  88.75,   88.5,  88.25,   88.0,\n",
       "        87.75,\n",
       "       ...\n",
       "       -87.75,  -88.0, -88.25,  -88.5, -88.75,  -89.0, -89.25,  -89.5, -89.75,\n",
       "        -90.0],\n",
       "      dtype=&#x27;float64&#x27;, name=&#x27;latitude&#x27;, length=721))</pre></div></li><li class='xr-var-item'><div class='xr-index-name'><div>level</div></div><div class='xr-index-preview'>PandasIndex</div><div></div><input id='index-3e230a88-269d-4ded-96db-52975d6298d7' class='xr-index-data-in' type='checkbox'/><label for='index-3e230a88-269d-4ded-96db-52975d6298d7' title='Show/Hide index repr'><svg class='icon xr-icon-database'><use xlink:href='#icon-database'></use></svg></label><div class='xr-index-data'><pre>PandasIndex(Index([   1.0,    2.0,    3.0,    5.0,    7.0,   10.0,   20.0,   30.0,   50.0,\n",
       "         70.0,  100.0,  125.0,  150.0,  175.0,  200.0,  225.0,  250.0,  300.0,\n",
       "        350.0,  400.0,  450.0,  500.0,  550.0,  600.0,  650.0,  700.0,  750.0,\n",
       "        775.0,  800.0,  825.0,  850.0,  875.0,  900.0,  925.0,  950.0,  975.0,\n",
       "       1000.0],\n",
       "      dtype=&#x27;float64&#x27;, name=&#x27;level&#x27;))</pre></div></li><li class='xr-var-item'><div class='xr-index-name'><div>longitude</div></div><div class='xr-index-preview'>PandasIndex</div><div></div><input id='index-0d87f6a2-3d5d-4c01-a42d-28e033098654' class='xr-index-data-in' type='checkbox'/><label for='index-0d87f6a2-3d5d-4c01-a42d-28e033098654' title='Show/Hide index repr'><svg class='icon xr-icon-database'><use xlink:href='#icon-database'></use></svg></label><div class='xr-index-data'><pre>PandasIndex(Index([   0.0,   0.25,    0.5,   0.75,    1.0,   1.25,    1.5,   1.75,    2.0,\n",
       "         2.25,\n",
       "       ...\n",
       "        357.5, 357.75,  358.0, 358.25,  358.5, 358.75,  359.0, 359.25,  359.5,\n",
       "       359.75],\n",
       "      dtype=&#x27;float64&#x27;, name=&#x27;longitude&#x27;, length=1440))</pre></div></li><li class='xr-var-item'><div class='xr-index-name'><div>time</div></div><div class='xr-index-preview'>PandasIndex</div><div></div><input id='index-8cf8c153-9374-4f0f-8a33-1cacb8905dc5' class='xr-index-data-in' type='checkbox'/><label for='index-8cf8c153-9374-4f0f-8a33-1cacb8905dc5' title='Show/Hide index repr'><svg class='icon xr-icon-database'><use xlink:href='#icon-database'></use></svg></label><div class='xr-index-data'><pre>PandasIndex(DatetimeIndex([&#x27;1941-06-01 00:00:00&#x27;, &#x27;1941-06-01 01:00:00&#x27;,\n",
       "               &#x27;1941-06-01 02:00:00&#x27;, &#x27;1941-06-01 03:00:00&#x27;,\n",
       "               &#x27;1941-06-01 04:00:00&#x27;, &#x27;1941-06-01 05:00:00&#x27;,\n",
       "               &#x27;1941-06-01 06:00:00&#x27;, &#x27;1941-06-01 07:00:00&#x27;,\n",
       "               &#x27;1941-06-01 08:00:00&#x27;, &#x27;1941-06-01 09:00:00&#x27;,\n",
       "               &#x27;1941-06-01 10:00:00&#x27;, &#x27;1941-06-01 11:00:00&#x27;,\n",
       "               &#x27;1941-06-01 12:00:00&#x27;, &#x27;1941-06-01 13:00:00&#x27;,\n",
       "               &#x27;1941-06-01 14:00:00&#x27;, &#x27;1941-06-01 15:00:00&#x27;,\n",
       "               &#x27;1941-06-01 16:00:00&#x27;, &#x27;1941-06-01 17:00:00&#x27;,\n",
       "               &#x27;1941-06-01 18:00:00&#x27;, &#x27;1941-06-01 19:00:00&#x27;,\n",
       "               &#x27;1941-06-01 20:00:00&#x27;, &#x27;1941-06-01 21:00:00&#x27;,\n",
       "               &#x27;1941-06-01 22:00:00&#x27;, &#x27;1941-06-01 23:00:00&#x27;],\n",
       "              dtype=&#x27;datetime64[ns]&#x27;, name=&#x27;time&#x27;, freq=None))</pre></div></li></ul></div></li><li class='xr-section-item'><input id='section-944cb9e1-0a5b-4018-a4db-3a16560f49e8' class='xr-section-summary-in' type='checkbox'  checked><label for='section-944cb9e1-0a5b-4018-a4db-3a16560f49e8' class='xr-section-summary' >Attributes: <span>(9)</span></label><div class='xr-section-inline-details'></div><div class='xr-section-details'><dl class='xr-attrs'><dt><span>DATA_SOURCE :</span></dt><dd>ECMWF: https://cds.climate.copernicus.eu, Copernicus Climate Data Store</dd><dt><span>NETCDF_CONVERSION :</span></dt><dd>CISL RDA: Conversion from ECMWF GRIB 1 data to netCDF4.</dd><dt><span>NETCDF_VERSION :</span></dt><dd>4.8.1</dd><dt><span>CONVERSION_PLATFORM :</span></dt><dd>Linux r1i4n4 4.12.14-95.51-default #1 SMP Fri Apr 17 08:14:12 UTC 2020 (c6bab98) x86_64 x86_64 x86_64 GNU/Linux</dd><dt><span>CONVERSION_DATE :</span></dt><dd>Wed May 10 06:33:49 MDT 2023</dd><dt><span>Conventions :</span></dt><dd>CF-1.6</dd><dt><span>NETCDF_COMPRESSION :</span></dt><dd>NCO: Precision-preserving compression to netCDF4/HDF5 (see &quot;history&quot; and &quot;NCO&quot; global attributes below for specifics).</dd><dt><span>history :</span></dt><dd>Wed May 10 06:34:19 2023: ncks -4 --ppc default=7 e5.oper.an.pl.128_060_pv.ll025sc.1941060100_1941060123.unc.nc e5.oper.an.pl.128_060_pv.ll025sc.1941060100_1941060123.nc</dd><dt><span>NCO :</span></dt><dd>netCDF Operators version 5.0.3 (Homepage = http://nco.sf.net, Code = http://github.com/nco/nco)</dd></dl></div></li></ul></div></div>"
      ],
      "text/plain": [
       "<xarray.Dataset> Size: 4GB\n",
       "Dimensions:    (time: 24, level: 37, latitude: 721, longitude: 1440)\n",
       "Coordinates:\n",
       "  * latitude   (latitude) float64 6kB 90.0 89.75 89.5 ... -89.5 -89.75 -90.0\n",
       "  * level      (level) float64 296B 1.0 2.0 3.0 5.0 ... 925.0 950.0 975.0 1e+03\n",
       "  * longitude  (longitude) float64 12kB 0.0 0.25 0.5 0.75 ... 359.2 359.5 359.8\n",
       "  * time       (time) datetime64[ns] 192B 1941-06-01 ... 1941-06-01T23:00:00\n",
       "Data variables:\n",
       "    PV         (time, level, latitude, longitude) float32 4GB ...\n",
       "    utc_date   (time) int32 96B ...\n",
       "Attributes:\n",
       "    DATA_SOURCE:          ECMWF: https://cds.climate.copernicus.eu, Copernicu...\n",
       "    NETCDF_CONVERSION:    CISL RDA: Conversion from ECMWF GRIB 1 data to netC...\n",
       "    NETCDF_VERSION:       4.8.1\n",
       "    CONVERSION_PLATFORM:  Linux r1i4n4 4.12.14-95.51-default #1 SMP Fri Apr 1...\n",
       "    CONVERSION_DATE:      Wed May 10 06:33:49 MDT 2023\n",
       "    Conventions:          CF-1.6\n",
       "    NETCDF_COMPRESSION:   NCO: Precision-preserving compression to netCDF4/HD...\n",
       "    history:              Wed May 10 06:34:19 2023: ncks -4 --ppc default=7 e...\n",
       "    NCO:                  netCDF Operators version 5.0.3 (Homepage = http://n..."
      ]
     },
     "execution_count": 13,
     "metadata": {},
     "output_type": "execute_result"
    }
   ],
   "source": [
    "dss"
   ]
  },
  {
   "cell_type": "code",
   "execution_count": 14,
   "id": "feb23457-c6fe-4363-8393-c92ab1ae7a89",
   "metadata": {},
   "outputs": [
    {
     "name": "stdout",
     "output_type": "stream",
     "text": [
      "CPU times: user 15.7 ms, sys: 0 ns, total: 15.7 ms\n",
      "Wall time: 101 ms\n"
     ]
    },
    {
     "data": {
      "text/plain": [
       "array(0.00710905, dtype=float32)"
      ]
     },
     "execution_count": 14,
     "metadata": {},
     "output_type": "execute_result"
    }
   ],
   "source": [
    "%time dss.PV[0, 0, 0, 0].values"
   ]
  },
  {
   "cell_type": "code",
   "execution_count": 16,
   "id": "d5103624-554c-4d18-a323-d24f82b99818",
   "metadata": {},
   "outputs": [
    {
     "name": "stdout",
     "output_type": "stream",
     "text": [
      "CPU times: user 8.41 s, sys: 1.19 s, total: 9.6 s\n",
      "Wall time: 5.11 s\n"
     ]
    }
   ],
   "source": [
    "%time _ = dss.compute()"
   ]
  },
  {
   "cell_type": "code",
   "execution_count": 17,
   "id": "d302b787-3279-4564-a29a-5be82c82dd5d",
   "metadata": {},
   "outputs": [],
   "source": [
    "dssd = xr.open_dataset(store, consolidated=False, engine=\"zarr\").chunk({\"time\": 1, \"level\": 10})"
   ]
  },
  {
   "cell_type": "code",
   "execution_count": 18,
   "id": "ab01b1f7-42ff-41cf-aac6-c2c93f968227",
   "metadata": {},
   "outputs": [
    {
     "name": "stdout",
     "output_type": "stream",
     "text": [
      "[########################################] | 100% Completed | 6.26 sms\n"
     ]
    }
   ],
   "source": [
    "with ProgressBar():\n",
    "    _ = dssd.compute()"
   ]
  },
  {
   "cell_type": "code",
   "execution_count": null,
   "id": "3dfd18bd-c885-4103-a156-ef9185d9d461",
   "metadata": {},
   "outputs": [],
   "source": []
  }
 ],
 "metadata": {
  "kernelspec": {
   "display_name": "Python [conda env:icechunk]",
   "language": "python",
   "name": "conda-env-icechunk-py"
  },
  "language_info": {
   "codemirror_mode": {
    "name": "ipython",
    "version": 3
   },
   "file_extension": ".py",
   "mimetype": "text/x-python",
   "name": "python",
   "nbconvert_exporter": "python",
   "pygments_lexer": "ipython3",
   "version": "3.12.7"
  }
 },
 "nbformat": 4,
 "nbformat_minor": 5
}
