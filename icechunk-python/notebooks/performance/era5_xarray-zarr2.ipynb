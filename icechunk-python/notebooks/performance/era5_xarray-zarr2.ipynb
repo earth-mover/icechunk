{
 "cells": [
  {
   "cell_type": "markdown",
   "id": "40c929a3-87d4-4c0e-a97d-1300d8adcae0",
   "metadata": {},
   "source": [
    "# Icechunk Performance - Zarr V2\n",
    "\n",
    "Using data from the [NCAR ERA5 AWS Public Dataset](https://nsf-ncar-era5.s3.amazonaws.com/index.html)."
   ]
  },
  {
   "cell_type": "code",
   "execution_count": 1,
   "id": "b2904d5f-090b-4344-a2f7-99096ba26d27",
   "metadata": {},
   "outputs": [
    {
     "name": "stdout",
     "output_type": "stream",
     "text": [
      "xarray:   2024.7.0\n",
      "dask:     2024.6.2\n",
      "zarr:     2.18.2\n"
     ]
    }
   ],
   "source": [
    "import xarray as xr\n",
    "import zarr\n",
    "import dask\n",
    "import fsspec\n",
    "from dask.diagnostics import ProgressBar\n",
    "\n",
    "print('xarray:  ', xr.__version__)\n",
    "print('dask:    ', dask.__version__)\n",
    "print('zarr:    ', zarr.__version__)"
   ]
  },
  {
   "cell_type": "code",
   "execution_count": 6,
   "id": "081e1a71-873e-45c3-b77d-5b7aa1617286",
   "metadata": {},
   "outputs": [
    {
     "name": "stdout",
     "output_type": "stream",
     "text": [
      "CPU times: user 123 ms, sys: 44.5 ms, total: 168 ms\n",
      "Wall time: 1.91 s\n"
     ]
    },
    {
     "name": "stderr",
     "output_type": "stream",
     "text": [
      "/srv/conda/envs/notebook/lib/python3.12/site-packages/xarray/core/dataset.py:277: UserWarning: The specified chunks separate the stored chunks along dimension \"time\" starting at index 1. This could degrade performance. Instead, consider rechunking after loading.\n",
      "  warnings.warn(\n"
     ]
    }
   ],
   "source": [
    "url = \"https://nsf-ncar-era5.s3.amazonaws.com/e5.oper.an.pl/194106/e5.oper.an.pl.128_060_pv.ll025sc.1941060100_1941060123.nc\"\n",
    "%time dsc = xr.open_dataset(fsspec.open(url).open(), engine=\"h5netcdf\", chunks={\"time\": 1}).drop_encoding()"
   ]
  },
  {
   "cell_type": "code",
   "execution_count": 7,
   "id": "b3048527-c50f-451c-9500-cac6c22dd1bc",
   "metadata": {},
   "outputs": [
    {
     "name": "stdout",
     "output_type": "stream",
     "text": [
      "<xarray.Dataset> Size: 4GB\n",
      "Dimensions:    (time: 24, level: 37, latitude: 721, longitude: 1440)\n",
      "Coordinates:\n",
      "  * latitude   (latitude) float64 6kB 90.0 89.75 89.5 ... -89.5 -89.75 -90.0\n",
      "  * level      (level) float64 296B 1.0 2.0 3.0 5.0 ... 925.0 950.0 975.0 1e+03\n",
      "  * longitude  (longitude) float64 12kB 0.0 0.25 0.5 0.75 ... 359.2 359.5 359.8\n",
      "  * time       (time) datetime64[ns] 192B 1941-06-01 ... 1941-06-01T23:00:00\n",
      "Data variables:\n",
      "    PV         (time, level, latitude, longitude) float32 4GB dask.array<chunksize=(1, 37, 721, 1440), meta=np.ndarray>\n",
      "    utc_date   (time) int32 96B dask.array<chunksize=(1,), meta=np.ndarray>\n",
      "Attributes:\n",
      "    DATA_SOURCE:          ECMWF: https://cds.climate.copernicus.eu, Copernicu...\n",
      "    NETCDF_CONVERSION:    CISL RDA: Conversion from ECMWF GRIB 1 data to netC...\n",
      "    NETCDF_VERSION:       4.8.1\n",
      "    CONVERSION_PLATFORM:  Linux r1i4n4 4.12.14-95.51-default #1 SMP Fri Apr 1...\n",
      "    CONVERSION_DATE:      Wed May 10 06:33:49 MDT 2023\n",
      "    Conventions:          CF-1.6\n",
      "    NETCDF_COMPRESSION:   NCO: Precision-preserving compression to netCDF4/HD...\n",
      "    history:              Wed May 10 06:34:19 2023: ncks -4 --ppc default=7 e...\n",
      "    NCO:                  netCDF Operators version 5.0.3 (Homepage = http://n...\n"
     ]
    }
   ],
   "source": [
    "print(ds)"
   ]
  },
  {
   "cell_type": "markdown",
   "id": "7f4a801c-b570-45e3-b37f-2e140a2fb273",
   "metadata": {},
   "source": [
    "### Load Data from HDF5 File\n",
    "\n",
    "This illustrates how loading directly from HDF5 files on S3 can be slow, even with Dask."
   ]
  },
  {
   "cell_type": "code",
   "execution_count": 8,
   "id": "29e344c6-a25e-4342-979f-d2d2c7aed7a7",
   "metadata": {},
   "outputs": [
    {
     "name": "stdout",
     "output_type": "stream",
     "text": [
      "[########################################] | 100% Completed | 61.19 ss\n"
     ]
    }
   ],
   "source": [
    "with ProgressBar():\n",
    "    dsl = ds.load()"
   ]
  },
  {
   "cell_type": "markdown",
   "id": "bdbd3f6c-e62c-4cfc-8cfb-b0fa22b6bddd",
   "metadata": {},
   "source": [
    "### Write Zarr Store - No Dask"
   ]
  },
  {
   "cell_type": "code",
   "execution_count": 9,
   "id": "67c6389d-79a0-4992-b845-6a633cb4d86b",
   "metadata": {},
   "outputs": [],
   "source": [
    "encoding = {\n",
    "    \"PV\": {\n",
    "        \"compressor\": zarr.Zstd(),\n",
    "        \"chunks\": (1, 1, 721, 1440)\n",
    "    }\n",
    "}"
   ]
  },
  {
   "cell_type": "code",
   "execution_count": 17,
   "id": "bda3c3f9-4714-471b-abc0-051c3a6d8384",
   "metadata": {},
   "outputs": [],
   "source": [
    "target_url = \"s3://icechunk-test/ryan/zarr-v2/test-era5-11\"\n",
    "store = zarr.storage.FSStore(target_url)"
   ]
  },
  {
   "cell_type": "code",
   "execution_count": 18,
   "id": "b9a8c5ab-cc5a-4a05-b4ba-3b52be187e18",
   "metadata": {},
   "outputs": [
    {
     "name": "stdout",
     "output_type": "stream",
     "text": [
      "CPU times: user 21.4 s, sys: 3.73 s, total: 25.1 s\n",
      "Wall time: 31.8 s\n"
     ]
    },
    {
     "data": {
      "text/plain": [
       "<xarray.backends.zarr.ZarrStore at 0x7efac8869fc0>"
      ]
     },
     "execution_count": 18,
     "metadata": {},
     "output_type": "execute_result"
    }
   ],
   "source": [
    "%time dsl.to_zarr(store, consolidated=False, encoding=encoding, mode=\"w\")"
   ]
  },
  {
   "cell_type": "code",
   "execution_count": 22,
   "id": "3718012b-3157-47a1-8ac4-f72d27a2132f",
   "metadata": {},
   "outputs": [
    {
     "name": "stdout",
     "output_type": "stream",
     "text": [
      "[########################################] | 100% Completed | 12.30 s\n"
     ]
    }
   ],
   "source": [
    "# with dask\n",
    "dslc = dsl.chunk({\"time\": 1, \"level\": 1})\n",
    "store_d = zarr.storage.FSStore(target_url + '-dask')\n",
    "with ProgressBar():\n",
    "    dslc.to_zarr(store_d, consolidated=False, encoding=encoding, mode=\"w\")"
   ]
  },
  {
   "cell_type": "markdown",
   "id": "34b1a12c-9640-4f8b-a5fc-2ade040b437c",
   "metadata": {},
   "source": [
    "### Read Data Back"
   ]
  },
  {
   "cell_type": "code",
   "execution_count": 12,
   "id": "a9c1bfc7-61d2-4a92-ab82-b026e7b9fcf6",
   "metadata": {},
   "outputs": [
    {
     "name": "stdout",
     "output_type": "stream",
     "text": [
      "CPU times: user 50.4 ms, sys: 7.21 ms, total: 57.6 ms\n",
      "Wall time: 487 ms\n"
     ]
    }
   ],
   "source": [
    "%time dss = xr.open_dataset(store, consolidated=False, engine=\"zarr\")"
   ]
  },
  {
   "cell_type": "code",
   "execution_count": 13,
   "id": "feb23457-c6fe-4363-8393-c92ab1ae7a89",
   "metadata": {},
   "outputs": [
    {
     "name": "stdout",
     "output_type": "stream",
     "text": [
      "CPU times: user 15.2 ms, sys: 671 μs, total: 15.9 ms\n",
      "Wall time: 97.4 ms\n"
     ]
    },
    {
     "data": {
      "text/plain": [
       "array(0.00710905, dtype=float32)"
      ]
     },
     "execution_count": 13,
     "metadata": {},
     "output_type": "execute_result"
    }
   ],
   "source": [
    "%time dss.PV[0, 0, 0, 0].values"
   ]
  },
  {
   "cell_type": "code",
   "execution_count": 23,
   "id": "d5103624-554c-4d18-a323-d24f82b99818",
   "metadata": {},
   "outputs": [
    {
     "name": "stdout",
     "output_type": "stream",
     "text": [
      "CPU times: user 8.6 s, sys: 1.53 s, total: 10.1 s\n",
      "Wall time: 22.6 s\n"
     ]
    }
   ],
   "source": [
    "%time _ = dss.compute()"
   ]
  },
  {
   "cell_type": "code",
   "execution_count": 15,
   "id": "d302b787-3279-4564-a29a-5be82c82dd5d",
   "metadata": {},
   "outputs": [],
   "source": [
    "dssd = xr.open_dataset(store, consolidated=False, engine=\"zarr\").chunk({\"time\": 1, \"level\": 10})"
   ]
  },
  {
   "cell_type": "code",
   "execution_count": 16,
   "id": "ab01b1f7-42ff-41cf-aac6-c2c93f968227",
   "metadata": {},
   "outputs": [
    {
     "name": "stdout",
     "output_type": "stream",
     "text": [
      "[########################################] | 100% Completed | 4.55 sms\n"
     ]
    }
   ],
   "source": [
    "with ProgressBar():\n",
    "    _ = dssd.compute()"
   ]
  },
  {
   "cell_type": "code",
   "execution_count": 22,
   "id": "2482b40b-3ae9-45eb-8e26-61bf3b41d89e",
   "metadata": {},
   "outputs": [
    {
     "data": {
      "text/plain": [
       "946.755253"
      ]
     },
     "execution_count": 22,
     "metadata": {},
     "output_type": "execute_result"
    }
   ],
   "source": [
    "1893510506 / 2 / 1e6"
   ]
  },
  {
   "cell_type": "code",
   "execution_count": 20,
   "id": "7c0a855f-5173-46f8-b296-d20c582be1cd",
   "metadata": {},
   "outputs": [
    {
     "data": {
      "text/html": [
       "<table class=\"zarr-info\"><tbody><tr><th style=\"text-align: left\">Name</th><td style=\"text-align: left\">/</td></tr><tr><th style=\"text-align: left\">Type</th><td style=\"text-align: left\">zarr.hierarchy.Group</td></tr><tr><th style=\"text-align: left\">Read-only</th><td style=\"text-align: left\">True</td></tr><tr><th style=\"text-align: left\">Store type</th><td style=\"text-align: left\">zarr.storage.FSStore</td></tr><tr><th style=\"text-align: left\">No. members</th><td style=\"text-align: left\">6</td></tr><tr><th style=\"text-align: left\">No. arrays</th><td style=\"text-align: left\">6</td></tr><tr><th style=\"text-align: left\">No. groups</th><td style=\"text-align: left\">0</td></tr><tr><th style=\"text-align: left\">Arrays</th><td style=\"text-align: left\">PV, latitude, level, longitude, time, utc_date</td></tr></tbody></table>"
      ],
      "text/plain": [
       "Name        : /\n",
       "Type        : zarr.hierarchy.Group\n",
       "Read-only   : True\n",
       "Store type  : zarr.storage.FSStore\n",
       "No. members : 6\n",
       "No. arrays  : 6\n",
       "No. groups  : 0\n",
       "Arrays      : PV, latitude, level, longitude, time, utc_date"
      ]
     },
     "execution_count": 20,
     "metadata": {},
     "output_type": "execute_result"
    }
   ],
   "source": [
    "group = zarr.open_group(store, mode=\"r\")\n",
    "group.info"
   ]
  },
  {
   "cell_type": "code",
   "execution_count": 21,
   "id": "3238d58d-1866-4467-ab35-18fd97e80b0b",
   "metadata": {},
   "outputs": [
    {
     "data": {
      "text/html": [
       "<table class=\"zarr-info\"><tbody><tr><th style=\"text-align: left\">Name</th><td style=\"text-align: left\">/PV</td></tr><tr><th style=\"text-align: left\">Type</th><td style=\"text-align: left\">zarr.core.Array</td></tr><tr><th style=\"text-align: left\">Data type</th><td style=\"text-align: left\">float32</td></tr><tr><th style=\"text-align: left\">Shape</th><td style=\"text-align: left\">(24, 37, 721, 1440)</td></tr><tr><th style=\"text-align: left\">Chunk shape</th><td style=\"text-align: left\">(1, 1, 721, 1440)</td></tr><tr><th style=\"text-align: left\">Order</th><td style=\"text-align: left\">C</td></tr><tr><th style=\"text-align: left\">Read-only</th><td style=\"text-align: left\">True</td></tr><tr><th style=\"text-align: left\">Compressor</th><td style=\"text-align: left\">Zstd(level=1)</td></tr><tr><th style=\"text-align: left\">Store type</th><td style=\"text-align: left\">zarr.storage.FSStore</td></tr><tr><th style=\"text-align: left\">No. bytes</th><td style=\"text-align: left\">3687828480 (3.4G)</td></tr><tr><th style=\"text-align: left\">No. bytes stored</th><td style=\"text-align: left\">1893510506 (1.8G)</td></tr><tr><th style=\"text-align: left\">Storage ratio</th><td style=\"text-align: left\">1.9</td></tr><tr><th style=\"text-align: left\">Chunks initialized</th><td style=\"text-align: left\">888/888</td></tr></tbody></table>"
      ],
      "text/plain": [
       "Name               : /PV\n",
       "Type               : zarr.core.Array\n",
       "Data type          : float32\n",
       "Shape              : (24, 37, 721, 1440)\n",
       "Chunk shape        : (1, 1, 721, 1440)\n",
       "Order              : C\n",
       "Read-only          : True\n",
       "Compressor         : Zstd(level=1)\n",
       "Store type         : zarr.storage.FSStore\n",
       "No. bytes          : 3687828480 (3.4G)\n",
       "No. bytes stored   : 1893510506 (1.8G)\n",
       "Storage ratio      : 1.9\n",
       "Chunks initialized : 888/888"
      ]
     },
     "execution_count": 21,
     "metadata": {},
     "output_type": "execute_result"
    }
   ],
   "source": [
    "group.PV.info"
   ]
  },
  {
   "cell_type": "code",
   "execution_count": null,
   "id": "eade4790-3056-4c6d-a81c-8f85837d349d",
   "metadata": {},
   "outputs": [],
   "source": []
  }
 ],
 "metadata": {
  "kernelspec": {
   "display_name": "Python 3 (ipykernel)",
   "language": "python",
   "name": "python3"
  },
  "language_info": {
   "codemirror_mode": {
    "name": "ipython",
    "version": 3
   },
   "file_extension": ".py",
   "mimetype": "text/x-python",
   "name": "python",
   "nbconvert_exporter": "python",
   "pygments_lexer": "ipython3",
   "version": "3.12.4"
  }
 },
 "nbformat": 4,
 "nbformat_minor": 5
}
