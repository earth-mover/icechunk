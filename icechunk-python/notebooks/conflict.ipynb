{
 "cells": [
  {
   "cell_type": "code",
   "execution_count": 1,
   "metadata": {},
   "outputs": [],
   "source": [
    "import icechunk\n",
    "import numpy as np\n",
    "import zarr"
   ]
  },
  {
   "cell_type": "code",
   "execution_count": 2,
   "metadata": {},
   "outputs": [
    {
     "data": {
      "text/plain": [
       "'98VJK6SE2G35EPVCRK3G'"
      ]
     },
     "execution_count": 2,
     "metadata": {},
     "output_type": "execute_result"
    }
   ],
   "source": [
    "repo = icechunk.Repository.create(icechunk.in_memory_storage())\n",
    "session = repo.writable_session(branch=\"main\")\n",
    "root = zarr.group(session.store)\n",
    "root.attrs[\"foo\"] = \"bar\"\n",
    "root.create_array(\"data\", shape=(10, 10), chunks=(1, 1), dtype=np.int32)\n",
    "session.commit(message=\"Add foo attribute and data array\")"
   ]
  },
  {
   "cell_type": "code",
   "execution_count": 3,
   "metadata": {},
   "outputs": [
    {
     "name": "stdout",
     "output_type": "stream",
     "text": [
      "7KH81ACN3YQ1SKYN3GE0\n"
     ]
    },
    {
     "ename": "ConflictError",
     "evalue": "Failed to commit, expected parent: Some(\"98VJK6SE2G35EPVCRK3G\"), actual parent: Some(\"7KH81ACN3YQ1SKYN3GE0\")",
     "output_type": "error",
     "traceback": [
      "\u001b[0;31m---------------------------------------------------------------------------\u001b[0m",
      "\u001b[0;31mConflictError\u001b[0m                             Traceback (most recent call last)",
      "Cell \u001b[0;32mIn[3], line 11\u001b[0m\n\u001b[1;32m      8\u001b[0m root2\u001b[38;5;241m.\u001b[39mattrs[\u001b[38;5;124m\"\u001b[39m\u001b[38;5;124mfoo\u001b[39m\u001b[38;5;124m\"\u001b[39m] \u001b[38;5;241m=\u001b[39m \u001b[38;5;124m\"\u001b[39m\u001b[38;5;124mbaz\u001b[39m\u001b[38;5;124m\"\u001b[39m\n\u001b[1;32m     10\u001b[0m \u001b[38;5;28mprint\u001b[39m(session1\u001b[38;5;241m.\u001b[39mcommit(message\u001b[38;5;241m=\u001b[39m\u001b[38;5;124m\"\u001b[39m\u001b[38;5;124mUpdate foo attribute on root group\u001b[39m\u001b[38;5;124m\"\u001b[39m))\n\u001b[0;32m---> 11\u001b[0m \u001b[38;5;28mprint\u001b[39m(\u001b[43msession2\u001b[49m\u001b[38;5;241;43m.\u001b[39;49m\u001b[43mcommit\u001b[49m\u001b[43m(\u001b[49m\u001b[43mmessage\u001b[49m\u001b[38;5;241;43m=\u001b[39;49m\u001b[38;5;124;43m\"\u001b[39;49m\u001b[38;5;124;43mUpdate foo attribute on root group\u001b[39;49m\u001b[38;5;124;43m\"\u001b[39;49m\u001b[43m)\u001b[49m)\n",
      "File \u001b[0;32m~/Developer/icechunk/icechunk-python/python/icechunk/session.py:224\u001b[0m, in \u001b[0;36mSession.commit\u001b[0;34m(self, message, metadata)\u001b[0m\n\u001b[1;32m    222\u001b[0m     \u001b[38;5;28;01mreturn\u001b[39;00m \u001b[38;5;28mself\u001b[39m\u001b[38;5;241m.\u001b[39m_session\u001b[38;5;241m.\u001b[39mcommit(message, metadata)\n\u001b[1;32m    223\u001b[0m \u001b[38;5;28;01mexcept\u001b[39;00m PyConflictError \u001b[38;5;28;01mas\u001b[39;00m e:\n\u001b[0;32m--> 224\u001b[0m     \u001b[38;5;28;01mraise\u001b[39;00m ConflictError(e) \u001b[38;5;28;01mfrom\u001b[39;00m\u001b[38;5;250m \u001b[39m\u001b[38;5;28;01mNone\u001b[39;00m\n",
      "\u001b[0;31mConflictError\u001b[0m: Failed to commit, expected parent: Some(\"98VJK6SE2G35EPVCRK3G\"), actual parent: Some(\"7KH81ACN3YQ1SKYN3GE0\")"
     ]
    }
   ],
   "source": [
    "session1 = repo.writable_session(branch=\"main\")\n",
    "session2 = repo.writable_session(branch=\"main\")\n",
    "\n",
    "root1 = zarr.group(session1.store)\n",
    "root2 = zarr.group(session2.store)\n",
    "\n",
    "root1.attrs[\"foo\"] = \"bar\"\n",
    "root2.attrs[\"foo\"] = \"baz\"\n",
    "\n",
    "print(session1.commit(message=\"Update foo attribute on root group\"))\n",
    "print(session2.commit(message=\"Update foo attribute on root group\"))\n"
   ]
  },
  {
   "cell_type": "code",
   "execution_count": 4,
   "metadata": {},
   "outputs": [
    {
     "ename": "RebaseFailedError",
     "evalue": "Rebase failed on snapshot 7KH81ACN3YQ1SKYN3GE0: 1 conflicts found",
     "output_type": "error",
     "traceback": [
      "\u001b[0;31m---------------------------------------------------------------------------\u001b[0m",
      "\u001b[0;31mRebaseFailedError\u001b[0m                         Traceback (most recent call last)",
      "Cell \u001b[0;32mIn[4], line 1\u001b[0m\n\u001b[0;32m----> 1\u001b[0m \u001b[43msession2\u001b[49m\u001b[38;5;241;43m.\u001b[39;49m\u001b[43mrebase\u001b[49m\u001b[43m(\u001b[49m\u001b[43micechunk\u001b[49m\u001b[38;5;241;43m.\u001b[39;49m\u001b[43mConflictDetector\u001b[49m\u001b[43m(\u001b[49m\u001b[43m)\u001b[49m\u001b[43m)\u001b[49m\n",
      "File \u001b[0;32m~/Developer/icechunk/icechunk-python/python/icechunk/session.py:247\u001b[0m, in \u001b[0;36mSession.rebase\u001b[0;34m(self, solver)\u001b[0m\n\u001b[1;32m    245\u001b[0m     \u001b[38;5;28mself\u001b[39m\u001b[38;5;241m.\u001b[39m_session\u001b[38;5;241m.\u001b[39mrebase(solver)\n\u001b[1;32m    246\u001b[0m \u001b[38;5;28;01mexcept\u001b[39;00m PyRebaseFailedError \u001b[38;5;28;01mas\u001b[39;00m e:\n\u001b[0;32m--> 247\u001b[0m     \u001b[38;5;28;01mraise\u001b[39;00m RebaseFailedError(e) \u001b[38;5;28;01mfrom\u001b[39;00m\u001b[38;5;250m \u001b[39m\u001b[38;5;28;01mNone\u001b[39;00m\n",
      "\u001b[0;31mRebaseFailedError\u001b[0m: Rebase failed on snapshot 7KH81ACN3YQ1SKYN3GE0: 1 conflicts found"
     ]
    }
   ],
   "source": [
    "session2.rebase(icechunk.ConflictDetector())"
   ]
  },
  {
   "cell_type": "code",
   "execution_count": 5,
   "metadata": {},
   "outputs": [
    {
     "name": "stdout",
     "output_type": "stream",
     "text": [
      "[Conflict(UserAttributesDoubleUpdate, path=/)]\n"
     ]
    }
   ],
   "source": [
    "try:\n",
    "    session2.rebase(icechunk.ConflictDetector())\n",
    "except icechunk.RebaseFailedError as e:\n",
    "    print(e.conflicts)\n"
   ]
  },
  {
   "cell_type": "code",
   "execution_count": 6,
   "metadata": {},
   "outputs": [],
   "source": [
    "session2.rebase(icechunk.BasicConflictSolver(on_user_attributes_conflict=icechunk.VersionSelection.UseOurs))"
   ]
  },
  {
   "cell_type": "code",
   "execution_count": 7,
   "metadata": {},
   "outputs": [
    {
     "data": {
      "text/plain": [
       "'NXZY2WJNS5T15EXAPFBG'"
      ]
     },
     "execution_count": 7,
     "metadata": {},
     "output_type": "execute_result"
    }
   ],
   "source": [
    "session2.commit(message=\"Update foo attribute on root group\")"
   ]
  },
  {
   "cell_type": "code",
   "execution_count": 8,
   "metadata": {},
   "outputs": [],
   "source": [
    "session1 = repo.writable_session(branch=\"main\")\n",
    "session2 = repo.writable_session(branch=\"main\")\n",
    "\n",
    "root1 = zarr.group(session1.store)\n",
    "root2 = zarr.group(session2.store)\n",
    "\n",
    "root1[\"data\"][0,0] = 1\n",
    "root2[\"data\"][0,:] = 2"
   ]
  },
  {
   "cell_type": "code",
   "execution_count": 9,
   "metadata": {},
   "outputs": [
    {
     "name": "stdout",
     "output_type": "stream",
     "text": [
      "AHSAVG18T7JMDE433Z0G\n"
     ]
    },
    {
     "ename": "ConflictError",
     "evalue": "Failed to commit, expected parent: Some(\"NXZY2WJNS5T15EXAPFBG\"), actual parent: Some(\"AHSAVG18T7JMDE433Z0G\")",
     "output_type": "error",
     "traceback": [
      "\u001b[0;31m---------------------------------------------------------------------------\u001b[0m",
      "\u001b[0;31mConflictError\u001b[0m                             Traceback (most recent call last)",
      "Cell \u001b[0;32mIn[9], line 2\u001b[0m\n\u001b[1;32m      1\u001b[0m \u001b[38;5;28mprint\u001b[39m(session2\u001b[38;5;241m.\u001b[39mcommit(message\u001b[38;5;241m=\u001b[39m\u001b[38;5;124m\"\u001b[39m\u001b[38;5;124mUpdate first row of data array\u001b[39m\u001b[38;5;124m\"\u001b[39m))\n\u001b[0;32m----> 2\u001b[0m \u001b[38;5;28mprint\u001b[39m(\u001b[43msession1\u001b[49m\u001b[38;5;241;43m.\u001b[39;49m\u001b[43mcommit\u001b[49m\u001b[43m(\u001b[49m\u001b[43mmessage\u001b[49m\u001b[38;5;241;43m=\u001b[39;49m\u001b[38;5;124;43m\"\u001b[39;49m\u001b[38;5;124;43mUpdate first element of data array\u001b[39;49m\u001b[38;5;124;43m\"\u001b[39;49m\u001b[43m)\u001b[49m)\n",
      "File \u001b[0;32m~/Developer/icechunk/icechunk-python/python/icechunk/session.py:224\u001b[0m, in \u001b[0;36mSession.commit\u001b[0;34m(self, message, metadata)\u001b[0m\n\u001b[1;32m    222\u001b[0m     \u001b[38;5;28;01mreturn\u001b[39;00m \u001b[38;5;28mself\u001b[39m\u001b[38;5;241m.\u001b[39m_session\u001b[38;5;241m.\u001b[39mcommit(message, metadata)\n\u001b[1;32m    223\u001b[0m \u001b[38;5;28;01mexcept\u001b[39;00m PyConflictError \u001b[38;5;28;01mas\u001b[39;00m e:\n\u001b[0;32m--> 224\u001b[0m     \u001b[38;5;28;01mraise\u001b[39;00m ConflictError(e) \u001b[38;5;28;01mfrom\u001b[39;00m\u001b[38;5;250m \u001b[39m\u001b[38;5;28;01mNone\u001b[39;00m\n",
      "\u001b[0;31mConflictError\u001b[0m: Failed to commit, expected parent: Some(\"NXZY2WJNS5T15EXAPFBG\"), actual parent: Some(\"AHSAVG18T7JMDE433Z0G\")"
     ]
    }
   ],
   "source": [
    "print(session2.commit(message=\"Update first row of data array\"))\n",
    "print(session1.commit(message=\"Update first element of data array\"))\n"
   ]
  },
  {
   "cell_type": "code",
   "execution_count": 10,
   "metadata": {},
   "outputs": [
    {
     "name": "stdout",
     "output_type": "stream",
     "text": [
      "Conflict at /data: [[0, 0]]\n"
     ]
    }
   ],
   "source": [
    "try:\n",
    "    session1.rebase(icechunk.ConflictDetector())\n",
    "except icechunk.RebaseFailedError as e:\n",
    "    for conflict in e.conflicts:\n",
    "        print(f\"Conflict at {conflict.path}: {conflict.conflicted_chunks}\")"
   ]
  },
  {
   "cell_type": "code",
   "execution_count": 11,
   "metadata": {},
   "outputs": [
    {
     "data": {
      "text/plain": [
       "'7JG0TDW9SM3GEA9E9WY0'"
      ]
     },
     "execution_count": 11,
     "metadata": {},
     "output_type": "execute_result"
    }
   ],
   "source": [
    "session1.rebase(icechunk.BasicConflictSolver(on_chunk_conflict=icechunk.VersionSelection.UseOurs))\n",
    "session1.commit(message=\"Update first element of data array\")"
   ]
  },
  {
   "cell_type": "code",
   "execution_count": 12,
   "metadata": {},
   "outputs": [
    {
     "data": {
      "text/plain": [
       "array([1, 2, 2, 2, 2, 2, 2, 2, 2, 2], dtype=int32)"
      ]
     },
     "execution_count": 12,
     "metadata": {},
     "output_type": "execute_result"
    }
   ],
   "source": [
    "session = repo.readonly_session(branch=\"main\")\n",
    "root = zarr.open_group(session.store, mode=\"r\")\n",
    "root[\"data\"][0,:]"
   ]
  },
  {
   "cell_type": "code",
   "execution_count": 13,
   "metadata": {},
   "outputs": [
    {
     "name": "stdout",
     "output_type": "stream",
     "text": [
      "Rebase succeeded\n"
     ]
    },
    {
     "data": {
      "text/plain": [
       "'ADZTD57KD9V9W65DW2QG'"
      ]
     },
     "execution_count": 13,
     "metadata": {},
     "output_type": "execute_result"
    }
   ],
   "source": [
    "session1 = repo.writable_session(branch=\"main\")\n",
    "session2 = repo.writable_session(branch=\"main\")\n",
    "\n",
    "root1 = zarr.group(session1.store)\n",
    "root2 = zarr.group(session2.store)\n",
    "\n",
    "root1[\"data\"][3,:] = 3\n",
    "root2[\"data\"][4,:] = 4\n",
    "\n",
    "\n",
    "session1.commit(message=\"Update fourth row of data array\")\n",
    "\n",
    "try:\n",
    "    session2.rebase(icechunk.ConflictDetector())\n",
    "    print(\"Rebase succeeded\")\n",
    "except icechunk.RebaseFailedError as e:\n",
    "    print(e.conflicts)\n",
    "\n",
    "session2.commit(message=\"Update fifth row of data array\")"
   ]
  },
  {
   "cell_type": "code",
   "execution_count": 14,
   "metadata": {},
   "outputs": [
    {
     "data": {
      "text/plain": [
       "array([[1, 2, 2, 2, 2, 2, 2, 2, 2, 2],\n",
       "       [0, 0, 0, 0, 0, 0, 0, 0, 0, 0],\n",
       "       [0, 0, 0, 0, 0, 0, 0, 0, 0, 0],\n",
       "       [3, 3, 3, 3, 3, 3, 3, 3, 3, 3],\n",
       "       [4, 4, 4, 4, 4, 4, 4, 4, 4, 4],\n",
       "       [0, 0, 0, 0, 0, 0, 0, 0, 0, 0],\n",
       "       [0, 0, 0, 0, 0, 0, 0, 0, 0, 0],\n",
       "       [0, 0, 0, 0, 0, 0, 0, 0, 0, 0],\n",
       "       [0, 0, 0, 0, 0, 0, 0, 0, 0, 0],\n",
       "       [0, 0, 0, 0, 0, 0, 0, 0, 0, 0]], dtype=int32)"
      ]
     },
     "execution_count": 14,
     "metadata": {},
     "output_type": "execute_result"
    }
   ],
   "source": [
    "session = repo.readonly_session(branch=\"main\")\n",
    "root = zarr.open_group(session.store, mode=\"r\")\n",
    "root[\"data\"][:,:]"
   ]
  },
  {
   "cell_type": "code",
   "execution_count": null,
   "metadata": {},
   "outputs": [],
   "source": []
  }
 ],
 "metadata": {
  "kernelspec": {
   "display_name": ".venv",
   "language": "python",
   "name": "python3"
  },
  "language_info": {
   "codemirror_mode": {
    "name": "ipython",
    "version": 3
   },
   "file_extension": ".py",
   "mimetype": "text/x-python",
   "name": "python",
   "nbconvert_exporter": "python",
   "pygments_lexer": "ipython3",
   "version": "3.11.9"
  }
 },
 "nbformat": 4,
 "nbformat_minor": 2
}
