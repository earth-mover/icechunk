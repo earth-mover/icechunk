{
 "cells": [
  {
   "cell_type": "markdown",
   "id": "0eabcf43-faf0-4f90-951d-709291fab1e8",
   "metadata": {},
   "source": [
    "# Expiring Data\n",
    "\n",
    "Over time, an Icechunk Repository will accumulate many snapshots, not all of which need to be kept around.\n",
    "\n",
    "\"Expiration\" allows you to mark snapshots as expired, and \"garbage collection\" deletes all data (manifests, chunks, snapshots, etc.) associated with expired snapshots.\n",
    "\n",
    "First create a Repository, configured so that there are no \"inline\" chunks. This will help illustrate that data is actually deleted."
   ]
  },
  {
   "cell_type": "code",
   "execution_count": 1,
   "id": "fe3ed3ba-fab9-4479-97ba-1bf602ab9d43",
   "metadata": {},
   "outputs": [],
   "source": [
    "import icechunk\n",
    "\n",
    "repo = icechunk.Repository.create(icechunk.in_memory_storage(), config=icechunk.RepositoryConfig(inline_chunk_threshold_bytes=0))"
   ]
  },
  {
   "cell_type": "markdown",
   "id": "9d3c7ba3-5b2f-4e8d-a243-c9c80025a6f4",
   "metadata": {},
   "source": [
    "## Generate a few snapshots\n",
    "\n",
    "Let us generate a sequence of snapshots"
   ]
  },
  {
   "cell_type": "code",
   "execution_count": 2,
   "id": "b373b1b7-07df-4265-bb42-3987edf7aae7",
   "metadata": {},
   "outputs": [],
   "source": [
    "import zarr\n",
    "import time\n",
    "\n",
    "for i in range(10):\n",
    "    session = repo.writable_session(\"main\")\n",
    "    array = zarr.create_array(session.store, name=\"array\", shape=(10,), fill_value=-1, dtype=int, overwrite=True)\n",
    "    array[:] = i\n",
    "    session.commit(f\"snap {i}\")\n",
    "    time.sleep(0.1)"
   ]
  },
  {
   "cell_type": "markdown",
   "id": "6f294f90-cb01-42d5-ac3e-078906caf522",
   "metadata": {},
   "source": [
    "There are 10 snapshots"
   ]
  },
  {
   "cell_type": "code",
   "execution_count": 3,
   "id": "f3648777-1d39-4a0a-9201-2e0d7cc93ad5",
   "metadata": {},
   "outputs": [
    {
     "data": {
      "text/plain": [
       "[SnapshotInfo(id=\"SMQNJ3NVGKSMXFVB6QQG\", parent_id=9S8E190XB39873W9VPSG, written_at=datetime.datetime(2025,3,21,21,40,39,295880, tzinfo=datetime.timezone.utc), message=\"snap 9...\"),\n",
       " SnapshotInfo(id=\"9S8E190XB39873W9VPSG\", parent_id=0EQPVS288RF079JFTYX0, written_at=datetime.datetime(2025,3,21,21,40,39,191270, tzinfo=datetime.timezone.utc), message=\"snap 8...\"),\n",
       " SnapshotInfo(id=\"0EQPVS288RF079JFTYX0\", parent_id=GD5AQP077SSSFZG072QG, written_at=datetime.datetime(2025,3,21,21,40,39,81612, tzinfo=datetime.timezone.utc), message=\"snap 7...\"),\n",
       " SnapshotInfo(id=\"GD5AQP077SSSFZG072QG\", parent_id=5B1B4NBNZ8FSK0QYM05G, written_at=datetime.datetime(2025,3,21,21,40,38,972363, tzinfo=datetime.timezone.utc), message=\"snap 6...\"),\n",
       " SnapshotInfo(id=\"5B1B4NBNZ8FSK0QYM05G\", parent_id=C4NMFFAF1R973AKN6SS0, written_at=datetime.datetime(2025,3,21,21,40,38,864720, tzinfo=datetime.timezone.utc), message=\"snap 5...\"),\n",
       " SnapshotInfo(id=\"C4NMFFAF1R973AKN6SS0\", parent_id=9F1D0ZM3Q6GWKVNDGSNG, written_at=datetime.datetime(2025,3,21,21,40,38,760523, tzinfo=datetime.timezone.utc), message=\"snap 4...\"),\n",
       " SnapshotInfo(id=\"9F1D0ZM3Q6GWKVNDGSNG\", parent_id=QWE7M59HGZVKSCWZYE60, written_at=datetime.datetime(2025,3,21,21,40,38,654024, tzinfo=datetime.timezone.utc), message=\"snap 3...\"),\n",
       " SnapshotInfo(id=\"QWE7M59HGZVKSCWZYE60\", parent_id=XNGF9QYWDS1JSR79KE3G, written_at=datetime.datetime(2025,3,21,21,40,38,545412, tzinfo=datetime.timezone.utc), message=\"snap 2...\"),\n",
       " SnapshotInfo(id=\"XNGF9QYWDS1JSR79KE3G\", parent_id=0SR4GZQC0ETJG0X3ZKN0, written_at=datetime.datetime(2025,3,21,21,40,38,437553, tzinfo=datetime.timezone.utc), message=\"snap 1...\"),\n",
       " SnapshotInfo(id=\"0SR4GZQC0ETJG0X3ZKN0\", parent_id=0DXDJGNVAAS1HRF398FG, written_at=datetime.datetime(2025,3,21,21,40,38,327351, tzinfo=datetime.timezone.utc), message=\"snap 0...\"),\n",
       " SnapshotInfo(id=\"0DXDJGNVAAS1HRF398FG\", parent_id=None, written_at=datetime.datetime(2025,3,21,21,40,38,301969, tzinfo=datetime.timezone.utc), message=\"Repository...\")]"
      ]
     },
     "execution_count": 3,
     "metadata": {},
     "output_type": "execute_result"
    }
   ],
   "source": [
    "ancestry = list(repo.ancestry(branch=\"main\"))\n",
    "ancestry"
   ]
  },
  {
   "cell_type": "markdown",
   "id": "ffcbc7a1-641f-4ea7-86ec-190a2ef2c37b",
   "metadata": {},
   "source": [
    "## Expire snapshots\n",
    "\n",
    "!!! danger\n",
    "    Expiring snapshots is an irreversible operation. Use it with care. \n",
    "\n",
    "First we must expire snapshots. Here we will expire any snapshot older than the 5th one."
   ]
  },
  {
   "cell_type": "code",
   "execution_count": 4,
   "id": "5a2c6691-ecaf-41ca-a239-526f81f717ca",
   "metadata": {},
   "outputs": [
    {
     "data": {
      "text/plain": [
       "datetime.datetime(2025, 3, 21, 21, 40, 38, 760523, tzinfo=datetime.timezone.utc)"
      ]
     },
     "execution_count": 4,
     "metadata": {},
     "output_type": "execute_result"
    }
   ],
   "source": [
    "expiry_time = ancestry[5].written_at\n",
    "expiry_time"
   ]
  },
  {
   "cell_type": "code",
   "execution_count": 5,
   "id": "0b208948-bf49-4ec9-95f0-805d1e13d0e4",
   "metadata": {},
   "outputs": [
    {
     "data": {
      "text/plain": [
       "{'0SR4GZQC0ETJG0X3ZKN0',\n",
       " '9F1D0ZM3Q6GWKVNDGSNG',\n",
       " 'QWE7M59HGZVKSCWZYE60',\n",
       " 'XNGF9QYWDS1JSR79KE3G'}"
      ]
     },
     "execution_count": 5,
     "metadata": {},
     "output_type": "execute_result"
    }
   ],
   "source": [
    "repo.expire_snapshots(older_than=expiry_time)"
   ]
  },
  {
   "cell_type": "markdown",
   "id": "6478e388-a1bb-4e57-bb5a-8ef058857338",
   "metadata": {},
   "source": [
    "This prints out a list of snapshots that were expired.\n",
    "\n",
    "!!! note\n",
    "    The first snapshot is never expired!\n",
    "\n",
    "\n",
    "Confirm that these are the right snapshots (remember that ancestry list commits in decreasing order of `written_at` time):"
   ]
  },
  {
   "cell_type": "code",
   "execution_count": 6,
   "id": "68c28209-213d-4a27-9213-75a2c0f828a2",
   "metadata": {},
   "outputs": [
    {
     "data": {
      "text/plain": [
       "['9F1D0ZM3Q6GWKVNDGSNG',\n",
       " 'QWE7M59HGZVKSCWZYE60',\n",
       " 'XNGF9QYWDS1JSR79KE3G',\n",
       " '0SR4GZQC0ETJG0X3ZKN0']"
      ]
     },
     "execution_count": 6,
     "metadata": {},
     "output_type": "execute_result"
    }
   ],
   "source": [
    "[a.id for a in ancestry[-5:-1]]"
   ]
  },
  {
   "cell_type": "markdown",
   "id": "f2b2811c-cdae-4b47-b215-bb309ab7c930",
   "metadata": {},
   "source": [
    "Note that ancestry is now shorter:"
   ]
  },
  {
   "cell_type": "code",
   "execution_count": 7,
   "id": "ea581490-9bde-4b9e-b1a3-3850c6f504a7",
   "metadata": {},
   "outputs": [
    {
     "data": {
      "text/plain": [
       "[SnapshotInfo(id=\"SMQNJ3NVGKSMXFVB6QQG\", parent_id=9S8E190XB39873W9VPSG, written_at=datetime.datetime(2025,3,21,21,40,39,295880, tzinfo=datetime.timezone.utc), message=\"snap 9...\"),\n",
       " SnapshotInfo(id=\"9S8E190XB39873W9VPSG\", parent_id=0EQPVS288RF079JFTYX0, written_at=datetime.datetime(2025,3,21,21,40,39,191270, tzinfo=datetime.timezone.utc), message=\"snap 8...\"),\n",
       " SnapshotInfo(id=\"0EQPVS288RF079JFTYX0\", parent_id=GD5AQP077SSSFZG072QG, written_at=datetime.datetime(2025,3,21,21,40,39,81612, tzinfo=datetime.timezone.utc), message=\"snap 7...\"),\n",
       " SnapshotInfo(id=\"GD5AQP077SSSFZG072QG\", parent_id=5B1B4NBNZ8FSK0QYM05G, written_at=datetime.datetime(2025,3,21,21,40,38,972363, tzinfo=datetime.timezone.utc), message=\"snap 6...\"),\n",
       " SnapshotInfo(id=\"5B1B4NBNZ8FSK0QYM05G\", parent_id=C4NMFFAF1R973AKN6SS0, written_at=datetime.datetime(2025,3,21,21,40,38,864720, tzinfo=datetime.timezone.utc), message=\"snap 5...\"),\n",
       " SnapshotInfo(id=\"C4NMFFAF1R973AKN6SS0\", parent_id=0DXDJGNVAAS1HRF398FG, written_at=datetime.datetime(2025,3,21,21,40,39,413024, tzinfo=datetime.timezone.utc), message=\"snap 4...\"),\n",
       " SnapshotInfo(id=\"0DXDJGNVAAS1HRF398FG\", parent_id=None, written_at=datetime.datetime(2025,3,21,21,40,38,301969, tzinfo=datetime.timezone.utc), message=\"Repository...\")]"
      ]
     },
     "execution_count": 7,
     "metadata": {},
     "output_type": "execute_result"
    }
   ],
   "source": [
    "list(repo.ancestry(branch=\"main\"))"
   ]
  },
  {
   "cell_type": "markdown",
   "id": "9c28bcec-4d63-4e57-8a72-4281eb457591",
   "metadata": {},
   "source": [
    "## Delete expired data\n",
    "\n",
    "Use `Repository.garbage_collect` to delete data associated with expired snapshots"
   ]
  },
  {
   "cell_type": "code",
   "execution_count": 8,
   "id": "ce4f3dce-2fcd-4d6b-b2b0-ce3592086213",
   "metadata": {},
   "outputs": [
    {
     "data": {
      "text/plain": [
       "GCSummary(bytes_deleted=3838, chunks_deleted=4, manifests_deleted=4, snapshots_deleted=4, attributes_deleted=0, transaction_logs_deleted=4)"
      ]
     },
     "execution_count": 8,
     "metadata": {},
     "output_type": "execute_result"
    }
   ],
   "source": [
    "repo.garbage_collect(expiry_time)"
   ]
  }
 ],
 "metadata": {
  "kernelspec": {
   "display_name": "Python [conda env:icechunk]",
   "language": "python",
   "name": "conda-env-icechunk-py"
  },
  "language_info": {
   "codemirror_mode": {
    "name": "ipython",
    "version": 3
   },
   "file_extension": ".py",
   "mimetype": "text/x-python",
   "name": "python",
   "nbconvert_exporter": "python",
   "pygments_lexer": "ipython3",
   "version": "3.12.6"
  }
 },
 "nbformat": 4,
 "nbformat_minor": 5
}
