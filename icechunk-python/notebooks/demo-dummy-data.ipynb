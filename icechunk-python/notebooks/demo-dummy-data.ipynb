{
 "cells": [
  {
   "cell_type": "markdown",
   "id": "d38f2066-411f-4c74-bf6f-aaa54b3472f5",
   "metadata": {},
   "source": [
    "# Icechunk with dummy data\n",
    "\n",
    "This demo illustrates how to use Icechunk as a Zarr store"
   ]
  },
  {
   "cell_type": "code",
   "execution_count": 1,
   "id": "2abaa80e-f07f-4e6d-b322-0ed280ec77e8",
   "metadata": {},
   "outputs": [],
   "source": [
    "import math\n",
    "\n",
    "import numpy as np\n",
    "import zarr\n",
    "from icechunk import IcechunkStore, StorageConfig"
   ]
  },
  {
   "cell_type": "markdown",
   "id": "0a382ed5-cd95-481a-b692-c1010c492cff",
   "metadata": {},
   "source": [
    "## Create a new Zarr store backed by Icechunk\n",
    "\n",
    "This example uses an in-memory store."
   ]
  },
  {
   "cell_type": "code",
   "execution_count": 2,
   "id": "4f40240b-eb4b-408b-8fd9-bb4e5a60a34d",
   "metadata": {},
   "outputs": [
    {
     "data": {
      "text/plain": [
       "<icechunk.IcechunkStore at 0x104f9ff50>"
      ]
     },
     "execution_count": 2,
     "metadata": {},
     "output_type": "execute_result"
    }
   ],
   "source": [
    "store = IcechunkStore.create(\n",
    "    storage=StorageConfig.memory(\"icechunk-demo\"),\n",
    ")\n",
    "store"
   ]
  },
  {
   "cell_type": "markdown",
   "id": "0dc0d6b9-92be-42f0-9cc6-6930954deb3f",
   "metadata": {},
   "source": [
    "This dictionary will contain array paths and data that were written to Icechunk, so that we can check correctness."
   ]
  },
  {
   "cell_type": "code",
   "execution_count": 3,
   "id": "8fa3197a-0674-431f-9dc1-c59fab055cc0",
   "metadata": {},
   "outputs": [],
   "source": [
    "expected = {}"
   ]
  },
  {
   "cell_type": "markdown",
   "id": "cba285dc-d153-47f7-b854-4eb67b09995a",
   "metadata": {},
   "source": [
    "These two utility functions generate and write dummy array data to a group."
   ]
  },
  {
   "cell_type": "code",
   "execution_count": 4,
   "id": "9690e567-2494-4421-bf47-d9e442c4975f",
   "metadata": {},
   "outputs": [],
   "source": [
    "def generate_array_chunks(size: int, dtype=np.int32):\n",
    "    # dim sizes\n",
    "    nz = 64\n",
    "    nt = 128\n",
    "    nx = ny = int(math.sqrt(size / nz / nt))\n",
    "\n",
    "    # chunk sizes\n",
    "    ct = 2\n",
    "    cz = 8\n",
    "    cx = max(nx // 3, 1)\n",
    "    cy = max(ny // 2, 1)\n",
    "    chunk_shape = (cx, cy, cz, ct)\n",
    "    shape = (nx, ny, nz, nt)\n",
    "\n",
    "    array = np.arange(nx * ny * nz * nt, dtype=dtype).reshape(shape)\n",
    "\n",
    "    return array, chunk_shape\n",
    "\n",
    "\n",
    "def create_array(*, group, name, size, dtype, fill_value) -> np.ndarray:\n",
    "    dims = (\"x\", \"y\", \"z\", \"t\")\n",
    "    attrs = {\"description\": \"icechunk test data\"}\n",
    "\n",
    "    array, chunk_shape = generate_array_chunks(size=size, dtype=dtype)\n",
    "\n",
    "    group.create_array(\n",
    "        name=name,\n",
    "        shape=array.shape,\n",
    "        dtype=dtype,\n",
    "        fill_value=fill_value,\n",
    "        chunk_shape=chunk_shape,\n",
    "        dimension_names=dims,\n",
    "        attributes=attrs,\n",
    "        data=array,\n",
    "        exists_ok=True,\n",
    "    )\n",
    "\n",
    "    return array"
   ]
  },
  {
   "cell_type": "markdown",
   "id": "68a37c53-0c5c-44dd-a691-f37541c264d2",
   "metadata": {},
   "source": [
    "## A versioned transactional Zarr store\n",
    "\n",
    "### Open the root group, write an attribute, commit"
   ]
  },
  {
   "cell_type": "code",
   "execution_count": 5,
   "id": "34a6780e-379d-47ec-bc2a-b599cfab105a",
   "metadata": {},
   "outputs": [
    {
     "data": {
      "text/plain": [
       "{'foo': 'foo'}"
      ]
     },
     "execution_count": 5,
     "metadata": {},
     "output_type": "execute_result"
    }
   ],
   "source": [
    "root_group = zarr.group(store=store, overwrite=True)\n",
    "root_group.attrs[\"foo\"] = \"foo\"\n",
    "dict(root_group.attrs)  # check that it was written"
   ]
  },
  {
   "cell_type": "markdown",
   "id": "6289c6c8-41e7-40a4-a451-074f72e12c98",
   "metadata": {},
   "source": [
    "Commit that change"
   ]
  },
  {
   "cell_type": "code",
   "execution_count": 6,
   "id": "d43060dd-6678-45f0-91ed-6786dea6cfa7",
   "metadata": {},
   "outputs": [
    {
     "data": {
      "text/plain": [
       "'P21V8KTYGB4TZ0HHW5PG'"
      ]
     },
     "execution_count": 6,
     "metadata": {},
     "output_type": "execute_result"
    }
   ],
   "source": [
    "first_commit = store.commit(\"wrote a root group attribute\")\n",
    "first_commit"
   ]
  },
  {
   "cell_type": "markdown",
   "id": "f10f79b2-c44c-4842-84ad-f301934464f6",
   "metadata": {},
   "source": [
    "### Add a array to the root group\n",
    "\n",
    "We save the created array in `expected` to check that the write was correct (later)."
   ]
  },
  {
   "cell_type": "code",
   "execution_count": 7,
   "id": "bcaf1dec-65de-4572-ac05-a470ce45e100",
   "metadata": {},
   "outputs": [],
   "source": [
    "expected[\"root-foo\"] = create_array(\n",
    "    group=root_group,\n",
    "    name=\"root-foo\",\n",
    "    size=1 * 1024 * 256,\n",
    "    dtype=np.int32,\n",
    "    fill_value=-1,\n",
    ")"
   ]
  },
  {
   "cell_type": "code",
   "execution_count": 8,
   "id": "aae0f3e8-2db7-437a-8d67-11f07aa47d14",
   "metadata": {},
   "outputs": [
    {
     "name": "stdout",
     "output_type": "stream",
     "text": [
      "(('root-foo', <Array <icechunk.IcechunkStore object at 0x104f9ff50>/root-foo shape=(5, 5, 64, 128) dtype=int32>),)\n"
     ]
    }
   ],
   "source": [
    "print(root_group.members())"
   ]
  },
  {
   "cell_type": "code",
   "execution_count": 9,
   "id": "59254f22-48f2-4629-aec8-546cb12e8f02",
   "metadata": {},
   "outputs": [
    {
     "data": {
      "text/plain": [
       "{'description': 'icechunk test data'}"
      ]
     },
     "execution_count": 9,
     "metadata": {},
     "output_type": "execute_result"
    }
   ],
   "source": [
    "dict(root_group[\"root-foo\"].attrs)"
   ]
  },
  {
   "cell_type": "code",
   "execution_count": 10,
   "id": "78b45ec7-ead8-46c5-b553-476abbd2bca4",
   "metadata": {},
   "outputs": [],
   "source": [
    "root_group[\"root-foo\"].attrs[\"update\"] = \"new attr\""
   ]
  },
  {
   "cell_type": "code",
   "execution_count": 11,
   "id": "2399312c-d53f-443f-8be1-b8702ba6513e",
   "metadata": {},
   "outputs": [
    {
     "data": {
      "text/plain": [
       "'AMKMVBPK5BW7DKXNATG0'"
      ]
     },
     "execution_count": 11,
     "metadata": {},
     "output_type": "execute_result"
    }
   ],
   "source": [
    "second_commit = store.commit(\"added array, updated attr\")\n",
    "second_commit"
   ]
  },
  {
   "cell_type": "code",
   "execution_count": 12,
   "id": "edad201d-d9b3-4825-887a-1e6b3bf07e57",
   "metadata": {},
   "outputs": [],
   "source": [
    "assert len(root_group[\"root-foo\"].attrs) == 2\n",
    "assert len(root_group.members()) == 1"
   ]
  },
  {
   "cell_type": "markdown",
   "id": "f2b6a3c6-9518-4ec4-921f-5303d4e851c7",
   "metadata": {},
   "source": [
    "### Committing when not on `HEAD` will fail."
   ]
  },
  {
   "cell_type": "code",
   "execution_count": 13,
   "id": "d904f719-98cf-4f51-8e9a-1631dcb3fcba",
   "metadata": {},
   "outputs": [
    {
     "ename": "ValueError",
     "evalue": "store error: cannot write to read-only store",
     "output_type": "error",
     "traceback": [
      "\u001b[0;31m---------------------------------------------------------------------------\u001b[0m",
      "\u001b[0;31mValueError\u001b[0m                                Traceback (most recent call last)",
      "Cell \u001b[0;32mIn[13], line 2\u001b[0m\n\u001b[1;32m      1\u001b[0m store\u001b[38;5;241m.\u001b[39mcheckout(first_commit)\n\u001b[0;32m----> 2\u001b[0m \u001b[43mroot_group\u001b[49m\u001b[38;5;241;43m.\u001b[39;49m\u001b[43mattrs\u001b[49m\u001b[43m[\u001b[49m\u001b[38;5;124;43m\"\u001b[39;49m\u001b[38;5;124;43mupdate\u001b[39;49m\u001b[38;5;124;43m\"\u001b[39;49m\u001b[43m]\u001b[49m \u001b[38;5;241m=\u001b[39m \u001b[38;5;124m\"\u001b[39m\u001b[38;5;124mnew attr 2\u001b[39m\u001b[38;5;124m\"\u001b[39m\n\u001b[1;32m      4\u001b[0m \u001b[38;5;28;01mtry\u001b[39;00m:\n\u001b[1;32m      5\u001b[0m     store\u001b[38;5;241m.\u001b[39mcommit(\u001b[38;5;124m\"\u001b[39m\u001b[38;5;124mnew attr 2\u001b[39m\u001b[38;5;124m\"\u001b[39m)\n",
      "File \u001b[0;32m~/Developer/icechunk/icechunk-python/.venv/lib/python3.11/site-packages/zarr/core/attributes.py:26\u001b[0m, in \u001b[0;36mAttributes.__setitem__\u001b[0;34m(self, key, value)\u001b[0m\n\u001b[1;32m     24\u001b[0m new_attrs \u001b[38;5;241m=\u001b[39m \u001b[38;5;28mdict\u001b[39m(\u001b[38;5;28mself\u001b[39m\u001b[38;5;241m.\u001b[39m_obj\u001b[38;5;241m.\u001b[39mmetadata\u001b[38;5;241m.\u001b[39mattributes)\n\u001b[1;32m     25\u001b[0m new_attrs[key] \u001b[38;5;241m=\u001b[39m value\n\u001b[0;32m---> 26\u001b[0m \u001b[38;5;28mself\u001b[39m\u001b[38;5;241m.\u001b[39m_obj \u001b[38;5;241m=\u001b[39m \u001b[38;5;28;43mself\u001b[39;49m\u001b[38;5;241;43m.\u001b[39;49m\u001b[43m_obj\u001b[49m\u001b[38;5;241;43m.\u001b[39;49m\u001b[43mupdate_attributes\u001b[49m\u001b[43m(\u001b[49m\u001b[43mnew_attrs\u001b[49m\u001b[43m)\u001b[49m\n",
      "File \u001b[0;32m~/Developer/icechunk/icechunk-python/.venv/lib/python3.11/site-packages/zarr/core/group.py:1594\u001b[0m, in \u001b[0;36mGroup.update_attributes\u001b[0;34m(self, new_attributes)\u001b[0m\n\u001b[1;32m   1593\u001b[0m \u001b[38;5;28;01mdef\u001b[39;00m \u001b[38;5;21mupdate_attributes\u001b[39m(\u001b[38;5;28mself\u001b[39m, new_attributes: \u001b[38;5;28mdict\u001b[39m[\u001b[38;5;28mstr\u001b[39m, Any]) \u001b[38;5;241m-\u001b[39m\u001b[38;5;241m>\u001b[39m Group:\n\u001b[0;32m-> 1594\u001b[0m     \u001b[38;5;28;43mself\u001b[39;49m\u001b[38;5;241;43m.\u001b[39;49m\u001b[43m_sync\u001b[49m\u001b[43m(\u001b[49m\u001b[38;5;28;43mself\u001b[39;49m\u001b[38;5;241;43m.\u001b[39;49m\u001b[43m_async_group\u001b[49m\u001b[38;5;241;43m.\u001b[39;49m\u001b[43mupdate_attributes\u001b[49m\u001b[43m(\u001b[49m\u001b[43mnew_attributes\u001b[49m\u001b[43m)\u001b[49m\u001b[43m)\u001b[49m\n\u001b[1;32m   1595\u001b[0m     \u001b[38;5;28;01mreturn\u001b[39;00m \u001b[38;5;28mself\u001b[39m\n",
      "File \u001b[0;32m~/Developer/icechunk/icechunk-python/.venv/lib/python3.11/site-packages/zarr/core/sync.py:185\u001b[0m, in \u001b[0;36mSyncMixin._sync\u001b[0;34m(self, coroutine)\u001b[0m\n\u001b[1;32m    182\u001b[0m \u001b[38;5;28;01mdef\u001b[39;00m \u001b[38;5;21m_sync\u001b[39m(\u001b[38;5;28mself\u001b[39m, coroutine: Coroutine[Any, Any, T]) \u001b[38;5;241m-\u001b[39m\u001b[38;5;241m>\u001b[39m T:\n\u001b[1;32m    183\u001b[0m     \u001b[38;5;66;03m# TODO: refactor this to to take *args and **kwargs and pass those to the method\u001b[39;00m\n\u001b[1;32m    184\u001b[0m     \u001b[38;5;66;03m# this should allow us to better type the sync wrapper\u001b[39;00m\n\u001b[0;32m--> 185\u001b[0m     \u001b[38;5;28;01mreturn\u001b[39;00m \u001b[43msync\u001b[49m\u001b[43m(\u001b[49m\n\u001b[1;32m    186\u001b[0m \u001b[43m        \u001b[49m\u001b[43mcoroutine\u001b[49m\u001b[43m,\u001b[49m\n\u001b[1;32m    187\u001b[0m \u001b[43m        \u001b[49m\u001b[43mtimeout\u001b[49m\u001b[38;5;241;43m=\u001b[39;49m\u001b[43mconfig\u001b[49m\u001b[38;5;241;43m.\u001b[39;49m\u001b[43mget\u001b[49m\u001b[43m(\u001b[49m\u001b[38;5;124;43m\"\u001b[39;49m\u001b[38;5;124;43masync.timeout\u001b[39;49m\u001b[38;5;124;43m\"\u001b[39;49m\u001b[43m)\u001b[49m\u001b[43m,\u001b[49m\n\u001b[1;32m    188\u001b[0m \u001b[43m    \u001b[49m\u001b[43m)\u001b[49m\n",
      "File \u001b[0;32m~/Developer/icechunk/icechunk-python/.venv/lib/python3.11/site-packages/zarr/core/sync.py:141\u001b[0m, in \u001b[0;36msync\u001b[0;34m(coro, loop, timeout)\u001b[0m\n\u001b[1;32m    138\u001b[0m return_result \u001b[38;5;241m=\u001b[39m \u001b[38;5;28mnext\u001b[39m(\u001b[38;5;28miter\u001b[39m(finished))\u001b[38;5;241m.\u001b[39mresult()\n\u001b[1;32m    140\u001b[0m \u001b[38;5;28;01mif\u001b[39;00m \u001b[38;5;28misinstance\u001b[39m(return_result, \u001b[38;5;167;01mBaseException\u001b[39;00m):\n\u001b[0;32m--> 141\u001b[0m     \u001b[38;5;28;01mraise\u001b[39;00m return_result\n\u001b[1;32m    142\u001b[0m \u001b[38;5;28;01melse\u001b[39;00m:\n\u001b[1;32m    143\u001b[0m     \u001b[38;5;28;01mreturn\u001b[39;00m return_result\n",
      "File \u001b[0;32m~/Developer/icechunk/icechunk-python/.venv/lib/python3.11/site-packages/zarr/core/sync.py:100\u001b[0m, in \u001b[0;36m_runner\u001b[0;34m(coro)\u001b[0m\n\u001b[1;32m     95\u001b[0m \u001b[38;5;250m\u001b[39m\u001b[38;5;124;03m\"\"\"\u001b[39;00m\n\u001b[1;32m     96\u001b[0m \u001b[38;5;124;03mAwait a coroutine and return the result of running it. If awaiting the coroutine raises an\u001b[39;00m\n\u001b[1;32m     97\u001b[0m \u001b[38;5;124;03mexception, the exception will be returned.\u001b[39;00m\n\u001b[1;32m     98\u001b[0m \u001b[38;5;124;03m\"\"\"\u001b[39;00m\n\u001b[1;32m     99\u001b[0m \u001b[38;5;28;01mtry\u001b[39;00m:\n\u001b[0;32m--> 100\u001b[0m     \u001b[38;5;28;01mreturn\u001b[39;00m \u001b[38;5;28;01mawait\u001b[39;00m coro\n\u001b[1;32m    101\u001b[0m \u001b[38;5;28;01mexcept\u001b[39;00m \u001b[38;5;167;01mException\u001b[39;00m \u001b[38;5;28;01mas\u001b[39;00m ex:\n\u001b[1;32m    102\u001b[0m     \u001b[38;5;28;01mreturn\u001b[39;00m ex\n",
      "File \u001b[0;32m~/Developer/icechunk/icechunk-python/.venv/lib/python3.11/site-packages/zarr/core/group.py:1152\u001b[0m, in \u001b[0;36mAsyncGroup.update_attributes\u001b[0;34m(self, new_attributes)\u001b[0m\n\u001b[1;32m   1149\u001b[0m \u001b[38;5;28mself\u001b[39m\u001b[38;5;241m.\u001b[39mmetadata\u001b[38;5;241m.\u001b[39mattributes\u001b[38;5;241m.\u001b[39mupdate(new_attributes)\n\u001b[1;32m   1151\u001b[0m \u001b[38;5;66;03m# Write new metadata\u001b[39;00m\n\u001b[0;32m-> 1152\u001b[0m \u001b[38;5;28;01mawait\u001b[39;00m \u001b[38;5;28mself\u001b[39m\u001b[38;5;241m.\u001b[39m_save_metadata()\n\u001b[1;32m   1154\u001b[0m \u001b[38;5;28;01mreturn\u001b[39;00m \u001b[38;5;28mself\u001b[39m\n",
      "File \u001b[0;32m~/Developer/icechunk/icechunk-python/.venv/lib/python3.11/site-packages/zarr/core/group.py:781\u001b[0m, in \u001b[0;36mAsyncGroup._save_metadata\u001b[0;34m(self, ensure_parents)\u001b[0m\n\u001b[1;32m    771\u001b[0m     \u001b[38;5;28;01mfor\u001b[39;00m parent \u001b[38;5;129;01min\u001b[39;00m parents:\n\u001b[1;32m    772\u001b[0m         awaitables\u001b[38;5;241m.\u001b[39mextend(\n\u001b[1;32m    773\u001b[0m             [\n\u001b[1;32m    774\u001b[0m                 (parent\u001b[38;5;241m.\u001b[39mstore_path \u001b[38;5;241m/\u001b[39m key)\u001b[38;5;241m.\u001b[39mset_if_not_exists(value)\n\u001b[0;32m   (...)\u001b[0m\n\u001b[1;32m    778\u001b[0m             ]\n\u001b[1;32m    779\u001b[0m         )\n\u001b[0;32m--> 781\u001b[0m \u001b[38;5;28;01mawait\u001b[39;00m asyncio\u001b[38;5;241m.\u001b[39mgather(\u001b[38;5;241m*\u001b[39mawaitables)\n",
      "File \u001b[0;32m~/Developer/icechunk/icechunk-python/.venv/lib/python3.11/site-packages/zarr/abc/store.py:451\u001b[0m, in \u001b[0;36mset_or_delete\u001b[0;34m(byte_setter, value)\u001b[0m\n\u001b[1;32m    449\u001b[0m     \u001b[38;5;28;01mawait\u001b[39;00m byte_setter\u001b[38;5;241m.\u001b[39mdelete()\n\u001b[1;32m    450\u001b[0m \u001b[38;5;28;01melse\u001b[39;00m:\n\u001b[0;32m--> 451\u001b[0m     \u001b[38;5;28;01mawait\u001b[39;00m byte_setter\u001b[38;5;241m.\u001b[39mset(value)\n",
      "File \u001b[0;32m~/Developer/icechunk/icechunk-python/.venv/lib/python3.11/site-packages/zarr/storage/common.py:146\u001b[0m, in \u001b[0;36mStorePath.set\u001b[0;34m(self, value, byte_range)\u001b[0m\n\u001b[1;32m    144\u001b[0m \u001b[38;5;28;01mif\u001b[39;00m byte_range \u001b[38;5;129;01mis\u001b[39;00m \u001b[38;5;129;01mnot\u001b[39;00m \u001b[38;5;28;01mNone\u001b[39;00m:\n\u001b[1;32m    145\u001b[0m     \u001b[38;5;28;01mraise\u001b[39;00m \u001b[38;5;167;01mNotImplementedError\u001b[39;00m(\u001b[38;5;124m\"\u001b[39m\u001b[38;5;124mStore.set does not have partial writes yet\u001b[39m\u001b[38;5;124m\"\u001b[39m)\n\u001b[0;32m--> 146\u001b[0m \u001b[38;5;28;01mawait\u001b[39;00m \u001b[38;5;28mself\u001b[39m\u001b[38;5;241m.\u001b[39mstore\u001b[38;5;241m.\u001b[39mset(\u001b[38;5;28mself\u001b[39m\u001b[38;5;241m.\u001b[39mpath, value)\n",
      "File \u001b[0;32m~/Developer/icechunk/icechunk-python/python/icechunk/__init__.py:499\u001b[0m, in \u001b[0;36mIcechunkStore.set\u001b[0;34m(self, key, value)\u001b[0m\n\u001b[1;32m    491\u001b[0m \u001b[38;5;28;01masync\u001b[39;00m \u001b[38;5;28;01mdef\u001b[39;00m \u001b[38;5;21mset\u001b[39m(\u001b[38;5;28mself\u001b[39m, key: \u001b[38;5;28mstr\u001b[39m, value: Buffer) \u001b[38;5;241m-\u001b[39m\u001b[38;5;241m>\u001b[39m \u001b[38;5;28;01mNone\u001b[39;00m:\n\u001b[1;32m    492\u001b[0m \u001b[38;5;250m    \u001b[39m\u001b[38;5;124;03m\"\"\"Store a (key, value) pair.\u001b[39;00m\n\u001b[1;32m    493\u001b[0m \n\u001b[1;32m    494\u001b[0m \u001b[38;5;124;03m    Parameters\u001b[39;00m\n\u001b[0;32m   (...)\u001b[0m\n\u001b[1;32m    497\u001b[0m \u001b[38;5;124;03m    value : Buffer\u001b[39;00m\n\u001b[1;32m    498\u001b[0m \u001b[38;5;124;03m    \"\"\"\u001b[39;00m\n\u001b[0;32m--> 499\u001b[0m     \u001b[38;5;28;01mreturn\u001b[39;00m \u001b[38;5;28;01mawait\u001b[39;00m \u001b[38;5;28mself\u001b[39m\u001b[38;5;241m.\u001b[39m_store\u001b[38;5;241m.\u001b[39mset(key, value\u001b[38;5;241m.\u001b[39mto_bytes())\n",
      "\u001b[0;31mValueError\u001b[0m: store error: cannot write to read-only store"
     ]
    }
   ],
   "source": [
    "store.checkout(first_commit)\n",
    "root_group.attrs[\"update\"] = \"new attr 2\"\n",
    "\n",
    "try:\n",
    "    store.commit(\"new attr 2\")\n",
    "except ValueError as e:\n",
    "    print(e)\n",
    "else:\n",
    "    raise ValueError(\"should have failed\")"
   ]
  },
  {
   "cell_type": "markdown",
   "id": "7b135e56-d2c6-43dd-9222-7ecd251b1a7b",
   "metadata": {},
   "source": [
    "### Checkout `HEAD`, make a change, and commit."
   ]
  },
  {
   "cell_type": "code",
   "execution_count": 15,
   "id": "d31009db-8f99-48f1-b7bb-3f66875575cc",
   "metadata": {},
   "outputs": [
    {
     "data": {
      "text/plain": [
       "'EBM53BMSFZY7RBBS2FSG'"
      ]
     },
     "execution_count": 15,
     "metadata": {},
     "output_type": "execute_result"
    }
   ],
   "source": [
    "store.reset()\n",
    "store.checkout(branch=\"main\")\n",
    "store.set_writeable()\n",
    "root_group[\"root-foo\"].attrs[\"update\"] = \"new attr 2\"\n",
    "third_commit = store.commit(\"new attr 2\")\n",
    "third_commit"
   ]
  },
  {
   "cell_type": "code",
   "execution_count": 16,
   "id": "03f8d62b-d8a7-452c-b086-340bfcb76d50",
   "metadata": {},
   "outputs": [
    {
     "data": {
      "text/plain": [
       "'7M3VQJ5QAP4G1WJMCATG'"
      ]
     },
     "execution_count": 16,
     "metadata": {},
     "output_type": "execute_result"
    }
   ],
   "source": [
    "root_group.attrs[\"update\"] = \"new attr 2\"\n",
    "fourth_commit = store.commit(\"rewrote array\")\n",
    "fourth_commit"
   ]
  },
  {
   "cell_type": "markdown",
   "id": "985f6512-1b90-452d-ad51-955f7ca78f1e",
   "metadata": {},
   "source": [
    "### Create a hierarchy"
   ]
  },
  {
   "cell_type": "code",
   "execution_count": 17,
   "id": "aee87354-4c44-4428-a4bf-d38d99b7e608",
   "metadata": {},
   "outputs": [
    {
     "data": {
      "text/plain": [
       "{'root-foo': dtype('int32')}"
      ]
     },
     "execution_count": 17,
     "metadata": {},
     "output_type": "execute_result"
    }
   ],
   "source": [
    "{k: v.dtype for k, v in expected.items()}"
   ]
  },
  {
   "cell_type": "code",
   "execution_count": 18,
   "id": "f389f3f9-03d5-4625-9856-145e065785f2",
   "metadata": {},
   "outputs": [
    {
     "data": {
      "text/plain": [
       "'9QYWSAQHARBVWDQ0264G'"
      ]
     },
     "execution_count": 18,
     "metadata": {},
     "output_type": "execute_result"
    }
   ],
   "source": [
    "newgroup = zarr.group(store=store, path=\"group1/\")\n",
    "expected[\"group1/foo1\"] = create_array(\n",
    "    group=newgroup, name=\"foo1\", dtype=np.float32, size=1 * 1024 * 128, fill_value=-1234\n",
    ")\n",
    "expected[\"group1/foo2\"] = create_array(\n",
    "    group=newgroup, name=\"foo2\", dtype=np.float16, size=1 * 1024 * 64, fill_value=-1234\n",
    ")\n",
    "newgroup = zarr.group(store=store, path=\"group2/\")\n",
    "expected[\"group2/foo3\"] = create_array(\n",
    "    group=newgroup, name=\"foo3\", dtype=np.int64, size=1 * 1024 * 32, fill_value=-1234\n",
    ")\n",
    "fifth_commit = store.commit(\"added groups and arrays\")\n",
    "fifth_commit"
   ]
  },
  {
   "cell_type": "markdown",
   "id": "f2edb658-d9ff-43d3-b028-2aebcf08c86a",
   "metadata": {},
   "source": [
    "### Overwrite an array"
   ]
  },
  {
   "cell_type": "code",
   "execution_count": 19,
   "id": "bc9d1ef4-2c06-4147-ad4d-9e8051ac4ea8",
   "metadata": {},
   "outputs": [
    {
     "ename": "KeyError",
     "evalue": "'/root-foo'",
     "output_type": "error",
     "traceback": [
      "\u001b[0;31m---------------------------------------------------------------------------\u001b[0m",
      "\u001b[0;31mKeyError\u001b[0m                                  Traceback (most recent call last)",
      "Cell \u001b[0;32mIn[19], line 1\u001b[0m\n\u001b[0;32m----> 1\u001b[0m expected[\u001b[38;5;124m\"\u001b[39m\u001b[38;5;124mroot-foo\u001b[39m\u001b[38;5;124m\"\u001b[39m] \u001b[38;5;241m=\u001b[39m \u001b[43mcreate_array\u001b[49m\u001b[43m(\u001b[49m\n\u001b[1;32m      2\u001b[0m \u001b[43m    \u001b[49m\u001b[43mgroup\u001b[49m\u001b[38;5;241;43m=\u001b[39;49m\u001b[43mroot_group\u001b[49m\u001b[43m,\u001b[49m\n\u001b[1;32m      3\u001b[0m \u001b[43m    \u001b[49m\u001b[43mname\u001b[49m\u001b[38;5;241;43m=\u001b[39;49m\u001b[38;5;124;43m\"\u001b[39;49m\u001b[38;5;124;43mroot-foo\u001b[39;49m\u001b[38;5;124;43m\"\u001b[39;49m\u001b[43m,\u001b[49m\n\u001b[1;32m      4\u001b[0m \u001b[43m    \u001b[49m\u001b[43msize\u001b[49m\u001b[38;5;241;43m=\u001b[39;49m\u001b[38;5;241;43m1\u001b[39;49m\u001b[43m \u001b[49m\u001b[38;5;241;43m*\u001b[39;49m\u001b[43m \u001b[49m\u001b[38;5;241;43m1024\u001b[39;49m\u001b[43m \u001b[49m\u001b[38;5;241;43m*\u001b[39;49m\u001b[43m \u001b[49m\u001b[38;5;241;43m128\u001b[39;49m\u001b[43m,\u001b[49m\n\u001b[1;32m      5\u001b[0m \u001b[43m    \u001b[49m\u001b[43mdtype\u001b[49m\u001b[38;5;241;43m=\u001b[39;49m\u001b[43mnp\u001b[49m\u001b[38;5;241;43m.\u001b[39;49m\u001b[43mint32\u001b[49m\u001b[43m,\u001b[49m\n\u001b[1;32m      6\u001b[0m \u001b[43m    \u001b[49m\u001b[43mfill_value\u001b[49m\u001b[38;5;241;43m=\u001b[39;49m\u001b[38;5;241;43m-\u001b[39;49m\u001b[38;5;241;43m1\u001b[39;49m\u001b[43m,\u001b[49m\n\u001b[1;32m      7\u001b[0m \u001b[43m)\u001b[49m\n",
      "Cell \u001b[0;32mIn[4], line 26\u001b[0m, in \u001b[0;36mcreate_array\u001b[0;34m(group, name, size, dtype, fill_value)\u001b[0m\n\u001b[1;32m     22\u001b[0m attrs \u001b[38;5;241m=\u001b[39m {\u001b[38;5;124m\"\u001b[39m\u001b[38;5;124mdescription\u001b[39m\u001b[38;5;124m\"\u001b[39m: \u001b[38;5;124m\"\u001b[39m\u001b[38;5;124micechunk test data\u001b[39m\u001b[38;5;124m\"\u001b[39m}\n\u001b[1;32m     24\u001b[0m array, chunk_shape \u001b[38;5;241m=\u001b[39m generate_array_chunks(size\u001b[38;5;241m=\u001b[39msize, dtype\u001b[38;5;241m=\u001b[39mdtype)\n\u001b[0;32m---> 26\u001b[0m \u001b[43mgroup\u001b[49m\u001b[38;5;241;43m.\u001b[39;49m\u001b[43mcreate_array\u001b[49m\u001b[43m(\u001b[49m\n\u001b[1;32m     27\u001b[0m \u001b[43m    \u001b[49m\u001b[43mname\u001b[49m\u001b[38;5;241;43m=\u001b[39;49m\u001b[43mname\u001b[49m\u001b[43m,\u001b[49m\n\u001b[1;32m     28\u001b[0m \u001b[43m    \u001b[49m\u001b[43mshape\u001b[49m\u001b[38;5;241;43m=\u001b[39;49m\u001b[43marray\u001b[49m\u001b[38;5;241;43m.\u001b[39;49m\u001b[43mshape\u001b[49m\u001b[43m,\u001b[49m\n\u001b[1;32m     29\u001b[0m \u001b[43m    \u001b[49m\u001b[43mdtype\u001b[49m\u001b[38;5;241;43m=\u001b[39;49m\u001b[43mdtype\u001b[49m\u001b[43m,\u001b[49m\n\u001b[1;32m     30\u001b[0m \u001b[43m    \u001b[49m\u001b[43mfill_value\u001b[49m\u001b[38;5;241;43m=\u001b[39;49m\u001b[43mfill_value\u001b[49m\u001b[43m,\u001b[49m\n\u001b[1;32m     31\u001b[0m \u001b[43m    \u001b[49m\u001b[43mchunk_shape\u001b[49m\u001b[38;5;241;43m=\u001b[39;49m\u001b[43mchunk_shape\u001b[49m\u001b[43m,\u001b[49m\n\u001b[1;32m     32\u001b[0m \u001b[43m    \u001b[49m\u001b[43mdimension_names\u001b[49m\u001b[38;5;241;43m=\u001b[39;49m\u001b[43mdims\u001b[49m\u001b[43m,\u001b[49m\n\u001b[1;32m     33\u001b[0m \u001b[43m    \u001b[49m\u001b[43mattributes\u001b[49m\u001b[38;5;241;43m=\u001b[39;49m\u001b[43mattrs\u001b[49m\u001b[43m,\u001b[49m\n\u001b[1;32m     34\u001b[0m \u001b[43m    \u001b[49m\u001b[43mdata\u001b[49m\u001b[38;5;241;43m=\u001b[39;49m\u001b[43marray\u001b[49m\u001b[43m,\u001b[49m\n\u001b[1;32m     35\u001b[0m \u001b[43m    \u001b[49m\u001b[43mexists_ok\u001b[49m\u001b[38;5;241;43m=\u001b[39;49m\u001b[38;5;28;43;01mTrue\u001b[39;49;00m\u001b[43m,\u001b[49m\n\u001b[1;32m     36\u001b[0m \u001b[43m\u001b[49m\u001b[43m)\u001b[49m\n\u001b[1;32m     38\u001b[0m \u001b[38;5;28;01mreturn\u001b[39;00m array\n",
      "File \u001b[0;32m~/Developer/icechunk/icechunk-python/.venv/lib/python3.11/site-packages/zarr/_compat.py:43\u001b[0m, in \u001b[0;36m_deprecate_positional_args.<locals>._inner_deprecate_positional_args.<locals>.inner_f\u001b[0;34m(*args, **kwargs)\u001b[0m\n\u001b[1;32m     41\u001b[0m extra_args \u001b[38;5;241m=\u001b[39m \u001b[38;5;28mlen\u001b[39m(args) \u001b[38;5;241m-\u001b[39m \u001b[38;5;28mlen\u001b[39m(all_args)\n\u001b[1;32m     42\u001b[0m \u001b[38;5;28;01mif\u001b[39;00m extra_args \u001b[38;5;241m<\u001b[39m\u001b[38;5;241m=\u001b[39m \u001b[38;5;241m0\u001b[39m:\n\u001b[0;32m---> 43\u001b[0m     \u001b[38;5;28;01mreturn\u001b[39;00m \u001b[43mf\u001b[49m\u001b[43m(\u001b[49m\u001b[38;5;241;43m*\u001b[39;49m\u001b[43margs\u001b[49m\u001b[43m,\u001b[49m\u001b[43m \u001b[49m\u001b[38;5;241;43m*\u001b[39;49m\u001b[38;5;241;43m*\u001b[39;49m\u001b[43mkwargs\u001b[49m\u001b[43m)\u001b[49m\n\u001b[1;32m     45\u001b[0m \u001b[38;5;66;03m# extra_args > 0\u001b[39;00m\n\u001b[1;32m     46\u001b[0m args_msg \u001b[38;5;241m=\u001b[39m [\n\u001b[1;32m     47\u001b[0m     \u001b[38;5;124mf\u001b[39m\u001b[38;5;124m\"\u001b[39m\u001b[38;5;132;01m{\u001b[39;00mname\u001b[38;5;132;01m}\u001b[39;00m\u001b[38;5;124m=\u001b[39m\u001b[38;5;132;01m{\u001b[39;00marg\u001b[38;5;132;01m}\u001b[39;00m\u001b[38;5;124m\"\u001b[39m\n\u001b[1;32m     48\u001b[0m     \u001b[38;5;28;01mfor\u001b[39;00m name, arg \u001b[38;5;129;01min\u001b[39;00m \u001b[38;5;28mzip\u001b[39m(kwonly_args[:extra_args], args[\u001b[38;5;241m-\u001b[39mextra_args:], strict\u001b[38;5;241m=\u001b[39m\u001b[38;5;28;01mFalse\u001b[39;00m)\n\u001b[1;32m     49\u001b[0m ]\n",
      "File \u001b[0;32m~/Developer/icechunk/icechunk-python/.venv/lib/python3.11/site-packages/zarr/core/group.py:1758\u001b[0m, in \u001b[0;36mGroup.create_array\u001b[0;34m(self, name, shape, dtype, fill_value, attributes, chunk_shape, chunk_key_encoding, codecs, dimension_names, chunks, dimension_separator, order, filters, compressor, exists_ok, data)\u001b[0m\n\u001b[1;32m   1685\u001b[0m \u001b[38;5;129m@_deprecate_positional_args\u001b[39m\n\u001b[1;32m   1686\u001b[0m \u001b[38;5;28;01mdef\u001b[39;00m \u001b[38;5;21mcreate_array\u001b[39m(\n\u001b[1;32m   1687\u001b[0m     \u001b[38;5;28mself\u001b[39m,\n\u001b[0;32m   (...)\u001b[0m\n\u001b[1;32m   1712\u001b[0m     data: npt\u001b[38;5;241m.\u001b[39mArrayLike \u001b[38;5;241m|\u001b[39m \u001b[38;5;28;01mNone\u001b[39;00m \u001b[38;5;241m=\u001b[39m \u001b[38;5;28;01mNone\u001b[39;00m,\n\u001b[1;32m   1713\u001b[0m ) \u001b[38;5;241m-\u001b[39m\u001b[38;5;241m>\u001b[39m Array:\n\u001b[1;32m   1714\u001b[0m \u001b[38;5;250m    \u001b[39m\u001b[38;5;124;03m\"\"\"\u001b[39;00m\n\u001b[1;32m   1715\u001b[0m \u001b[38;5;124;03m    Create a zarr array within this AsyncGroup.\u001b[39;00m\n\u001b[1;32m   1716\u001b[0m \u001b[38;5;124;03m    This method lightly wraps AsyncArray.create.\u001b[39;00m\n\u001b[0;32m   (...)\u001b[0m\n\u001b[1;32m   1755\u001b[0m \n\u001b[1;32m   1756\u001b[0m \u001b[38;5;124;03m    \"\"\"\u001b[39;00m\n\u001b[1;32m   1757\u001b[0m     \u001b[38;5;28;01mreturn\u001b[39;00m Array(\n\u001b[0;32m-> 1758\u001b[0m         \u001b[38;5;28;43mself\u001b[39;49m\u001b[38;5;241;43m.\u001b[39;49m\u001b[43m_sync\u001b[49m\u001b[43m(\u001b[49m\n\u001b[1;32m   1759\u001b[0m \u001b[43m            \u001b[49m\u001b[38;5;28;43mself\u001b[39;49m\u001b[38;5;241;43m.\u001b[39;49m\u001b[43m_async_group\u001b[49m\u001b[38;5;241;43m.\u001b[39;49m\u001b[43mcreate_array\u001b[49m\u001b[43m(\u001b[49m\n\u001b[1;32m   1760\u001b[0m \u001b[43m                \u001b[49m\u001b[43mname\u001b[49m\u001b[38;5;241;43m=\u001b[39;49m\u001b[43mname\u001b[49m\u001b[43m,\u001b[49m\n\u001b[1;32m   1761\u001b[0m \u001b[43m                \u001b[49m\u001b[43mshape\u001b[49m\u001b[38;5;241;43m=\u001b[39;49m\u001b[43mshape\u001b[49m\u001b[43m,\u001b[49m\n\u001b[1;32m   1762\u001b[0m \u001b[43m                \u001b[49m\u001b[43mdtype\u001b[49m\u001b[38;5;241;43m=\u001b[39;49m\u001b[43mdtype\u001b[49m\u001b[43m,\u001b[49m\n\u001b[1;32m   1763\u001b[0m \u001b[43m                \u001b[49m\u001b[43mfill_value\u001b[49m\u001b[38;5;241;43m=\u001b[39;49m\u001b[43mfill_value\u001b[49m\u001b[43m,\u001b[49m\n\u001b[1;32m   1764\u001b[0m \u001b[43m                \u001b[49m\u001b[43mattributes\u001b[49m\u001b[38;5;241;43m=\u001b[39;49m\u001b[43mattributes\u001b[49m\u001b[43m,\u001b[49m\n\u001b[1;32m   1765\u001b[0m \u001b[43m                \u001b[49m\u001b[43mchunk_shape\u001b[49m\u001b[38;5;241;43m=\u001b[39;49m\u001b[43mchunk_shape\u001b[49m\u001b[43m,\u001b[49m\n\u001b[1;32m   1766\u001b[0m \u001b[43m                \u001b[49m\u001b[43mchunk_key_encoding\u001b[49m\u001b[38;5;241;43m=\u001b[39;49m\u001b[43mchunk_key_encoding\u001b[49m\u001b[43m,\u001b[49m\n\u001b[1;32m   1767\u001b[0m \u001b[43m                \u001b[49m\u001b[43mcodecs\u001b[49m\u001b[38;5;241;43m=\u001b[39;49m\u001b[43mcodecs\u001b[49m\u001b[43m,\u001b[49m\n\u001b[1;32m   1768\u001b[0m \u001b[43m                \u001b[49m\u001b[43mdimension_names\u001b[49m\u001b[38;5;241;43m=\u001b[39;49m\u001b[43mdimension_names\u001b[49m\u001b[43m,\u001b[49m\n\u001b[1;32m   1769\u001b[0m \u001b[43m                \u001b[49m\u001b[43mchunks\u001b[49m\u001b[38;5;241;43m=\u001b[39;49m\u001b[43mchunks\u001b[49m\u001b[43m,\u001b[49m\n\u001b[1;32m   1770\u001b[0m \u001b[43m                \u001b[49m\u001b[43mdimension_separator\u001b[49m\u001b[38;5;241;43m=\u001b[39;49m\u001b[43mdimension_separator\u001b[49m\u001b[43m,\u001b[49m\n\u001b[1;32m   1771\u001b[0m \u001b[43m                \u001b[49m\u001b[43morder\u001b[49m\u001b[38;5;241;43m=\u001b[39;49m\u001b[43morder\u001b[49m\u001b[43m,\u001b[49m\n\u001b[1;32m   1772\u001b[0m \u001b[43m                \u001b[49m\u001b[43mfilters\u001b[49m\u001b[38;5;241;43m=\u001b[39;49m\u001b[43mfilters\u001b[49m\u001b[43m,\u001b[49m\n\u001b[1;32m   1773\u001b[0m \u001b[43m                \u001b[49m\u001b[43mcompressor\u001b[49m\u001b[38;5;241;43m=\u001b[39;49m\u001b[43mcompressor\u001b[49m\u001b[43m,\u001b[49m\n\u001b[1;32m   1774\u001b[0m \u001b[43m                \u001b[49m\u001b[43mexists_ok\u001b[49m\u001b[38;5;241;43m=\u001b[39;49m\u001b[43mexists_ok\u001b[49m\u001b[43m,\u001b[49m\n\u001b[1;32m   1775\u001b[0m \u001b[43m                \u001b[49m\u001b[43mdata\u001b[49m\u001b[38;5;241;43m=\u001b[39;49m\u001b[43mdata\u001b[49m\u001b[43m,\u001b[49m\n\u001b[1;32m   1776\u001b[0m \u001b[43m            \u001b[49m\u001b[43m)\u001b[49m\n\u001b[1;32m   1777\u001b[0m \u001b[43m        \u001b[49m\u001b[43m)\u001b[49m\n\u001b[1;32m   1778\u001b[0m     )\n",
      "File \u001b[0;32m~/Developer/icechunk/icechunk-python/.venv/lib/python3.11/site-packages/zarr/core/sync.py:185\u001b[0m, in \u001b[0;36mSyncMixin._sync\u001b[0;34m(self, coroutine)\u001b[0m\n\u001b[1;32m    182\u001b[0m \u001b[38;5;28;01mdef\u001b[39;00m \u001b[38;5;21m_sync\u001b[39m(\u001b[38;5;28mself\u001b[39m, coroutine: Coroutine[Any, Any, T]) \u001b[38;5;241m-\u001b[39m\u001b[38;5;241m>\u001b[39m T:\n\u001b[1;32m    183\u001b[0m     \u001b[38;5;66;03m# TODO: refactor this to to take *args and **kwargs and pass those to the method\u001b[39;00m\n\u001b[1;32m    184\u001b[0m     \u001b[38;5;66;03m# this should allow us to better type the sync wrapper\u001b[39;00m\n\u001b[0;32m--> 185\u001b[0m     \u001b[38;5;28;01mreturn\u001b[39;00m \u001b[43msync\u001b[49m\u001b[43m(\u001b[49m\n\u001b[1;32m    186\u001b[0m \u001b[43m        \u001b[49m\u001b[43mcoroutine\u001b[49m\u001b[43m,\u001b[49m\n\u001b[1;32m    187\u001b[0m \u001b[43m        \u001b[49m\u001b[43mtimeout\u001b[49m\u001b[38;5;241;43m=\u001b[39;49m\u001b[43mconfig\u001b[49m\u001b[38;5;241;43m.\u001b[39;49m\u001b[43mget\u001b[49m\u001b[43m(\u001b[49m\u001b[38;5;124;43m\"\u001b[39;49m\u001b[38;5;124;43masync.timeout\u001b[39;49m\u001b[38;5;124;43m\"\u001b[39;49m\u001b[43m)\u001b[49m\u001b[43m,\u001b[49m\n\u001b[1;32m    188\u001b[0m \u001b[43m    \u001b[49m\u001b[43m)\u001b[49m\n",
      "File \u001b[0;32m~/Developer/icechunk/icechunk-python/.venv/lib/python3.11/site-packages/zarr/core/sync.py:141\u001b[0m, in \u001b[0;36msync\u001b[0;34m(coro, loop, timeout)\u001b[0m\n\u001b[1;32m    138\u001b[0m return_result \u001b[38;5;241m=\u001b[39m \u001b[38;5;28mnext\u001b[39m(\u001b[38;5;28miter\u001b[39m(finished))\u001b[38;5;241m.\u001b[39mresult()\n\u001b[1;32m    140\u001b[0m \u001b[38;5;28;01mif\u001b[39;00m \u001b[38;5;28misinstance\u001b[39m(return_result, \u001b[38;5;167;01mBaseException\u001b[39;00m):\n\u001b[0;32m--> 141\u001b[0m     \u001b[38;5;28;01mraise\u001b[39;00m return_result\n\u001b[1;32m    142\u001b[0m \u001b[38;5;28;01melse\u001b[39;00m:\n\u001b[1;32m    143\u001b[0m     \u001b[38;5;28;01mreturn\u001b[39;00m return_result\n",
      "File \u001b[0;32m~/Developer/icechunk/icechunk-python/.venv/lib/python3.11/site-packages/zarr/core/sync.py:100\u001b[0m, in \u001b[0;36m_runner\u001b[0;34m(coro)\u001b[0m\n\u001b[1;32m     95\u001b[0m \u001b[38;5;250m\u001b[39m\u001b[38;5;124;03m\"\"\"\u001b[39;00m\n\u001b[1;32m     96\u001b[0m \u001b[38;5;124;03mAwait a coroutine and return the result of running it. If awaiting the coroutine raises an\u001b[39;00m\n\u001b[1;32m     97\u001b[0m \u001b[38;5;124;03mexception, the exception will be returned.\u001b[39;00m\n\u001b[1;32m     98\u001b[0m \u001b[38;5;124;03m\"\"\"\u001b[39;00m\n\u001b[1;32m     99\u001b[0m \u001b[38;5;28;01mtry\u001b[39;00m:\n\u001b[0;32m--> 100\u001b[0m     \u001b[38;5;28;01mreturn\u001b[39;00m \u001b[38;5;28;01mawait\u001b[39;00m coro\n\u001b[1;32m    101\u001b[0m \u001b[38;5;28;01mexcept\u001b[39;00m \u001b[38;5;167;01mException\u001b[39;00m \u001b[38;5;28;01mas\u001b[39;00m ex:\n\u001b[1;32m    102\u001b[0m     \u001b[38;5;28;01mreturn\u001b[39;00m ex\n",
      "File \u001b[0;32m~/Developer/icechunk/icechunk-python/.venv/lib/python3.11/site-packages/zarr/core/group.py:1013\u001b[0m, in \u001b[0;36mAsyncGroup.create_array\u001b[0;34m(self, name, shape, dtype, fill_value, attributes, chunk_shape, chunk_key_encoding, codecs, dimension_names, chunks, dimension_separator, order, filters, compressor, exists_ok, data)\u001b[0m\n\u001b[1;32m    944\u001b[0m \u001b[38;5;28;01masync\u001b[39;00m \u001b[38;5;28;01mdef\u001b[39;00m \u001b[38;5;21mcreate_array\u001b[39m(\n\u001b[1;32m    945\u001b[0m     \u001b[38;5;28mself\u001b[39m,\n\u001b[1;32m    946\u001b[0m     name: \u001b[38;5;28mstr\u001b[39m,\n\u001b[0;32m   (...)\u001b[0m\n\u001b[1;32m    970\u001b[0m     data: npt\u001b[38;5;241m.\u001b[39mArrayLike \u001b[38;5;241m|\u001b[39m \u001b[38;5;28;01mNone\u001b[39;00m \u001b[38;5;241m=\u001b[39m \u001b[38;5;28;01mNone\u001b[39;00m,\n\u001b[1;32m    971\u001b[0m ) \u001b[38;5;241m-\u001b[39m\u001b[38;5;241m>\u001b[39m AsyncArray[ArrayV2Metadata] \u001b[38;5;241m|\u001b[39m AsyncArray[ArrayV3Metadata]:\n\u001b[1;32m    972\u001b[0m \u001b[38;5;250m    \u001b[39m\u001b[38;5;124;03m\"\"\"\u001b[39;00m\n\u001b[1;32m    973\u001b[0m \u001b[38;5;124;03m    Create a Zarr array within this AsyncGroup.\u001b[39;00m\n\u001b[1;32m    974\u001b[0m \u001b[38;5;124;03m    This method lightly wraps AsyncArray.create.\u001b[39;00m\n\u001b[0;32m   (...)\u001b[0m\n\u001b[1;32m   1011\u001b[0m \n\u001b[1;32m   1012\u001b[0m \u001b[38;5;124;03m    \"\"\"\u001b[39;00m\n\u001b[0;32m-> 1013\u001b[0m     \u001b[38;5;28;01mreturn\u001b[39;00m \u001b[38;5;28;01mawait\u001b[39;00m AsyncArray\u001b[38;5;241m.\u001b[39mcreate(\n\u001b[1;32m   1014\u001b[0m         \u001b[38;5;28mself\u001b[39m\u001b[38;5;241m.\u001b[39mstore_path \u001b[38;5;241m/\u001b[39m name,\n\u001b[1;32m   1015\u001b[0m         shape\u001b[38;5;241m=\u001b[39mshape,\n\u001b[1;32m   1016\u001b[0m         dtype\u001b[38;5;241m=\u001b[39mdtype,\n\u001b[1;32m   1017\u001b[0m         chunk_shape\u001b[38;5;241m=\u001b[39mchunk_shape,\n\u001b[1;32m   1018\u001b[0m         fill_value\u001b[38;5;241m=\u001b[39mfill_value,\n\u001b[1;32m   1019\u001b[0m         chunk_key_encoding\u001b[38;5;241m=\u001b[39mchunk_key_encoding,\n\u001b[1;32m   1020\u001b[0m         codecs\u001b[38;5;241m=\u001b[39mcodecs,\n\u001b[1;32m   1021\u001b[0m         dimension_names\u001b[38;5;241m=\u001b[39mdimension_names,\n\u001b[1;32m   1022\u001b[0m         attributes\u001b[38;5;241m=\u001b[39mattributes,\n\u001b[1;32m   1023\u001b[0m         chunks\u001b[38;5;241m=\u001b[39mchunks,\n\u001b[1;32m   1024\u001b[0m         dimension_separator\u001b[38;5;241m=\u001b[39mdimension_separator,\n\u001b[1;32m   1025\u001b[0m         order\u001b[38;5;241m=\u001b[39morder,\n\u001b[1;32m   1026\u001b[0m         filters\u001b[38;5;241m=\u001b[39mfilters,\n\u001b[1;32m   1027\u001b[0m         compressor\u001b[38;5;241m=\u001b[39mcompressor,\n\u001b[1;32m   1028\u001b[0m         exists_ok\u001b[38;5;241m=\u001b[39mexists_ok,\n\u001b[1;32m   1029\u001b[0m         zarr_format\u001b[38;5;241m=\u001b[39m\u001b[38;5;28mself\u001b[39m\u001b[38;5;241m.\u001b[39mmetadata\u001b[38;5;241m.\u001b[39mzarr_format,\n\u001b[1;32m   1030\u001b[0m         data\u001b[38;5;241m=\u001b[39mdata,\n\u001b[1;32m   1031\u001b[0m     )\n",
      "File \u001b[0;32m~/Developer/icechunk/icechunk-python/.venv/lib/python3.11/site-packages/zarr/core/array.py:482\u001b[0m, in \u001b[0;36mAsyncArray.create\u001b[0;34m(cls, store, shape, dtype, zarr_format, fill_value, attributes, chunk_shape, chunk_key_encoding, codecs, dimension_names, chunks, dimension_separator, order, filters, compressor, exists_ok, data)\u001b[0m\n\u001b[1;32m    478\u001b[0m     \u001b[38;5;28;01mif\u001b[39;00m compressor \u001b[38;5;129;01mis\u001b[39;00m \u001b[38;5;129;01mnot\u001b[39;00m \u001b[38;5;28;01mNone\u001b[39;00m:\n\u001b[1;32m    479\u001b[0m         \u001b[38;5;28;01mraise\u001b[39;00m \u001b[38;5;167;01mValueError\u001b[39;00m(\n\u001b[1;32m    480\u001b[0m             \u001b[38;5;124m\"\u001b[39m\u001b[38;5;124mcompressor cannot be used for arrays with version 3. Use bytes-to-bytes codecs instead.\u001b[39m\u001b[38;5;124m\"\u001b[39m\n\u001b[1;32m    481\u001b[0m         )\n\u001b[0;32m--> 482\u001b[0m     result \u001b[38;5;241m=\u001b[39m \u001b[38;5;28;01mawait\u001b[39;00m \u001b[38;5;28mcls\u001b[39m\u001b[38;5;241m.\u001b[39m_create_v3(\n\u001b[1;32m    483\u001b[0m         store_path,\n\u001b[1;32m    484\u001b[0m         shape\u001b[38;5;241m=\u001b[39mshape,\n\u001b[1;32m    485\u001b[0m         dtype\u001b[38;5;241m=\u001b[39mdtype_parsed,\n\u001b[1;32m    486\u001b[0m         chunk_shape\u001b[38;5;241m=\u001b[39m_chunks,\n\u001b[1;32m    487\u001b[0m         fill_value\u001b[38;5;241m=\u001b[39mfill_value,\n\u001b[1;32m    488\u001b[0m         chunk_key_encoding\u001b[38;5;241m=\u001b[39mchunk_key_encoding,\n\u001b[1;32m    489\u001b[0m         codecs\u001b[38;5;241m=\u001b[39mcodecs,\n\u001b[1;32m    490\u001b[0m         dimension_names\u001b[38;5;241m=\u001b[39mdimension_names,\n\u001b[1;32m    491\u001b[0m         attributes\u001b[38;5;241m=\u001b[39mattributes,\n\u001b[1;32m    492\u001b[0m         exists_ok\u001b[38;5;241m=\u001b[39mexists_ok,\n\u001b[1;32m    493\u001b[0m         order\u001b[38;5;241m=\u001b[39morder,\n\u001b[1;32m    494\u001b[0m     )\n\u001b[1;32m    495\u001b[0m \u001b[38;5;28;01melif\u001b[39;00m zarr_format \u001b[38;5;241m==\u001b[39m \u001b[38;5;241m2\u001b[39m:\n\u001b[1;32m    496\u001b[0m     \u001b[38;5;28;01mif\u001b[39;00m dtype \u001b[38;5;129;01mis\u001b[39;00m \u001b[38;5;28mstr\u001b[39m \u001b[38;5;129;01mor\u001b[39;00m dtype \u001b[38;5;241m==\u001b[39m \u001b[38;5;124m\"\u001b[39m\u001b[38;5;124mstr\u001b[39m\u001b[38;5;124m\"\u001b[39m:\n\u001b[1;32m    497\u001b[0m         \u001b[38;5;66;03m# another special case: zarr v2 added the vlen-utf8 codec\u001b[39;00m\n",
      "File \u001b[0;32m~/Developer/icechunk/icechunk-python/.venv/lib/python3.11/site-packages/zarr/core/array.py:595\u001b[0m, in \u001b[0;36mAsyncArray._create_v3\u001b[0;34m(cls, store_path, shape, dtype, chunk_shape, fill_value, order, chunk_key_encoding, codecs, dimension_names, attributes, exists_ok)\u001b[0m\n\u001b[1;32m    583\u001b[0m metadata \u001b[38;5;241m=\u001b[39m ArrayV3Metadata(\n\u001b[1;32m    584\u001b[0m     shape\u001b[38;5;241m=\u001b[39mshape,\n\u001b[1;32m    585\u001b[0m     data_type\u001b[38;5;241m=\u001b[39mdtype,\n\u001b[0;32m   (...)\u001b[0m\n\u001b[1;32m    591\u001b[0m     attributes\u001b[38;5;241m=\u001b[39mattributes \u001b[38;5;129;01mor\u001b[39;00m {},\n\u001b[1;32m    592\u001b[0m )\n\u001b[1;32m    594\u001b[0m array \u001b[38;5;241m=\u001b[39m \u001b[38;5;28mcls\u001b[39m(metadata\u001b[38;5;241m=\u001b[39mmetadata, store_path\u001b[38;5;241m=\u001b[39mstore_path, order\u001b[38;5;241m=\u001b[39morder)\n\u001b[0;32m--> 595\u001b[0m \u001b[38;5;28;01mawait\u001b[39;00m array\u001b[38;5;241m.\u001b[39m_save_metadata(metadata, ensure_parents\u001b[38;5;241m=\u001b[39m\u001b[38;5;28;01mTrue\u001b[39;00m)\n\u001b[1;32m    596\u001b[0m \u001b[38;5;28;01mreturn\u001b[39;00m array\n",
      "File \u001b[0;32m~/Developer/icechunk/icechunk-python/.venv/lib/python3.11/site-packages/zarr/core/array.py:1090\u001b[0m, in \u001b[0;36mAsyncArray._save_metadata\u001b[0;34m(self, metadata, ensure_parents)\u001b[0m\n\u001b[1;32m   1080\u001b[0m     \u001b[38;5;28;01mfor\u001b[39;00m parent \u001b[38;5;129;01min\u001b[39;00m parents:\n\u001b[1;32m   1081\u001b[0m         awaitables\u001b[38;5;241m.\u001b[39mextend(\n\u001b[1;32m   1082\u001b[0m             [\n\u001b[1;32m   1083\u001b[0m                 (parent\u001b[38;5;241m.\u001b[39mstore_path \u001b[38;5;241m/\u001b[39m key)\u001b[38;5;241m.\u001b[39mset_if_not_exists(value)\n\u001b[0;32m   (...)\u001b[0m\n\u001b[1;32m   1087\u001b[0m             ]\n\u001b[1;32m   1088\u001b[0m         )\n\u001b[0;32m-> 1090\u001b[0m \u001b[38;5;28;01mawait\u001b[39;00m gather(\u001b[38;5;241m*\u001b[39mawaitables)\n",
      "File \u001b[0;32m~/Developer/icechunk/icechunk-python/.venv/lib/python3.11/site-packages/zarr/abc/store.py:451\u001b[0m, in \u001b[0;36mset_or_delete\u001b[0;34m(byte_setter, value)\u001b[0m\n\u001b[1;32m    449\u001b[0m     \u001b[38;5;28;01mawait\u001b[39;00m byte_setter\u001b[38;5;241m.\u001b[39mdelete()\n\u001b[1;32m    450\u001b[0m \u001b[38;5;28;01melse\u001b[39;00m:\n\u001b[0;32m--> 451\u001b[0m     \u001b[38;5;28;01mawait\u001b[39;00m byte_setter\u001b[38;5;241m.\u001b[39mset(value)\n",
      "File \u001b[0;32m~/Developer/icechunk/icechunk-python/.venv/lib/python3.11/site-packages/zarr/storage/common.py:146\u001b[0m, in \u001b[0;36mStorePath.set\u001b[0;34m(self, value, byte_range)\u001b[0m\n\u001b[1;32m    144\u001b[0m \u001b[38;5;28;01mif\u001b[39;00m byte_range \u001b[38;5;129;01mis\u001b[39;00m \u001b[38;5;129;01mnot\u001b[39;00m \u001b[38;5;28;01mNone\u001b[39;00m:\n\u001b[1;32m    145\u001b[0m     \u001b[38;5;28;01mraise\u001b[39;00m \u001b[38;5;167;01mNotImplementedError\u001b[39;00m(\u001b[38;5;124m\"\u001b[39m\u001b[38;5;124mStore.set does not have partial writes yet\u001b[39m\u001b[38;5;124m\"\u001b[39m)\n\u001b[0;32m--> 146\u001b[0m \u001b[38;5;28;01mawait\u001b[39;00m \u001b[38;5;28mself\u001b[39m\u001b[38;5;241m.\u001b[39mstore\u001b[38;5;241m.\u001b[39mset(\u001b[38;5;28mself\u001b[39m\u001b[38;5;241m.\u001b[39mpath, value)\n",
      "File \u001b[0;32m~/Developer/icechunk/icechunk-python/python/icechunk/__init__.py:499\u001b[0m, in \u001b[0;36mIcechunkStore.set\u001b[0;34m(self, key, value)\u001b[0m\n\u001b[1;32m    491\u001b[0m \u001b[38;5;28;01masync\u001b[39;00m \u001b[38;5;28;01mdef\u001b[39;00m \u001b[38;5;21mset\u001b[39m(\u001b[38;5;28mself\u001b[39m, key: \u001b[38;5;28mstr\u001b[39m, value: Buffer) \u001b[38;5;241m-\u001b[39m\u001b[38;5;241m>\u001b[39m \u001b[38;5;28;01mNone\u001b[39;00m:\n\u001b[1;32m    492\u001b[0m \u001b[38;5;250m    \u001b[39m\u001b[38;5;124;03m\"\"\"Store a (key, value) pair.\u001b[39;00m\n\u001b[1;32m    493\u001b[0m \n\u001b[1;32m    494\u001b[0m \u001b[38;5;124;03m    Parameters\u001b[39;00m\n\u001b[0;32m   (...)\u001b[0m\n\u001b[1;32m    497\u001b[0m \u001b[38;5;124;03m    value : Buffer\u001b[39;00m\n\u001b[1;32m    498\u001b[0m \u001b[38;5;124;03m    \"\"\"\u001b[39;00m\n\u001b[0;32m--> 499\u001b[0m     \u001b[38;5;28;01mreturn\u001b[39;00m \u001b[38;5;28;01mawait\u001b[39;00m \u001b[38;5;28mself\u001b[39m\u001b[38;5;241m.\u001b[39m_store\u001b[38;5;241m.\u001b[39mset(key, value\u001b[38;5;241m.\u001b[39mto_bytes())\n",
      "\u001b[0;31mKeyError\u001b[0m: '/root-foo'"
     ]
    }
   ],
   "source": [
    "expected[\"root-foo\"] = create_array(\n",
    "    group=root_group,\n",
    "    name=\"root-foo\",\n",
    "    size=1 * 1024 * 128,\n",
    "    dtype=np.int32,\n",
    "    fill_value=-1,\n",
    ")"
   ]
  },
  {
   "cell_type": "code",
   "execution_count": 20,
   "id": "4264bbfa-4193-45e9-bc82-932f488bff28",
   "metadata": {},
   "outputs": [
    {
     "data": {
      "text/plain": [
       "'DR8T4BN1SQ089SWJ6SGG'"
      ]
     },
     "execution_count": 20,
     "metadata": {},
     "output_type": "execute_result"
    }
   ],
   "source": [
    "store.commit(\"overwrote root-foo\")"
   ]
  },
  {
   "cell_type": "markdown",
   "id": "30217cff-d99e-4397-9c1a-a01d1c39c157",
   "metadata": {},
   "source": [
    "### Examine the hierarchy"
   ]
  },
  {
   "cell_type": "code",
   "execution_count": 21,
   "id": "895faf9f-c1ec-4b9b-9676-f6b1745d73de",
   "metadata": {},
   "outputs": [
    {
     "data": {
      "text/plain": [
       "(('group1', <Group <icechunk.IcechunkStore object at 0x104f9ff50>/group1>),\n",
       " ('group2', <Group <icechunk.IcechunkStore object at 0x104f9ff50>/group2>))"
      ]
     },
     "execution_count": 21,
     "metadata": {},
     "output_type": "execute_result"
    }
   ],
   "source": [
    "root_group.members()"
   ]
  },
  {
   "cell_type": "code",
   "execution_count": 22,
   "id": "14c5afc8-640f-464f-8ee0-b8631e0aacc7",
   "metadata": {},
   "outputs": [
    {
     "data": {
      "text/plain": [
       "(('foo1',\n",
       "  <Array <icechunk.IcechunkStore object at 0x104f9ff50>/group1/foo1 shape=(4, 4, 64, 128) dtype=float32>),\n",
       " ('foo2',\n",
       "  <Array <icechunk.IcechunkStore object at 0x104f9ff50>/group1/foo2 shape=(2, 2, 64, 128) dtype=float16>))"
      ]
     },
     "execution_count": 22,
     "metadata": {},
     "output_type": "execute_result"
    }
   ],
   "source": [
    "root_group[\"group1\"].members()"
   ]
  },
  {
   "cell_type": "code",
   "execution_count": 23,
   "id": "1fc3f29a-5915-4c66-bfed-5b75389e44e2",
   "metadata": {},
   "outputs": [
    {
     "data": {
      "text/plain": [
       "(('foo3',\n",
       "  <Array <icechunk.IcechunkStore object at 0x104f9ff50>/group2/foo3 shape=(2, 2, 64, 128) dtype=int64>),)"
      ]
     },
     "execution_count": 23,
     "metadata": {},
     "output_type": "execute_result"
    }
   ],
   "source": [
    "root_group[\"group2\"].members()"
   ]
  },
  {
   "cell_type": "markdown",
   "id": "4ff3d952-a2e9-4065-aa3e-239bc0d04c45",
   "metadata": {},
   "source": [
    "### Append"
   ]
  },
  {
   "cell_type": "code",
   "execution_count": 24,
   "id": "fb608382-04e8-4deb-8e2e-3f130845cf8c",
   "metadata": {},
   "outputs": [
    {
     "name": "stdout",
     "output_type": "stream",
     "text": [
      "<Array <icechunk.IcechunkStore object at 0x104f9ff50>/group2/foo3 shape=(2, 2, 64, 128) dtype=int64>\n",
      "None\n"
     ]
    },
    {
     "ename": "AttributeError",
     "evalue": "'NoneType' object has no attribute 'shape'",
     "output_type": "error",
     "traceback": [
      "\u001b[0;31m---------------------------------------------------------------------------\u001b[0m",
      "\u001b[0;31mAttributeError\u001b[0m                            Traceback (most recent call last)",
      "Cell \u001b[0;32mIn[24], line 6\u001b[0m\n\u001b[1;32m      4\u001b[0m array \u001b[38;5;241m=\u001b[39m array\u001b[38;5;241m.\u001b[39mresize((array\u001b[38;5;241m.\u001b[39mshape[\u001b[38;5;241m0\u001b[39m] \u001b[38;5;241m*\u001b[39m \u001b[38;5;241m2\u001b[39m, \u001b[38;5;241m*\u001b[39marray\u001b[38;5;241m.\u001b[39mshape[\u001b[38;5;241m1\u001b[39m:]))\n\u001b[1;32m      5\u001b[0m \u001b[38;5;28mprint\u001b[39m(array)\n\u001b[0;32m----> 6\u001b[0m array[\u001b[43marray\u001b[49m\u001b[38;5;241;43m.\u001b[39;49m\u001b[43mshape\u001b[49m[\u001b[38;5;241m0\u001b[39m] \u001b[38;5;241m/\u001b[39m\u001b[38;5;241m/\u001b[39m \u001b[38;5;241m2\u001b[39m :, \u001b[38;5;241m.\u001b[39m\u001b[38;5;241m.\u001b[39m\u001b[38;5;241m.\u001b[39m] \u001b[38;5;241m=\u001b[39m expected[\u001b[38;5;124m\"\u001b[39m\u001b[38;5;124mgroup2/foo3\u001b[39m\u001b[38;5;124m\"\u001b[39m]\n\u001b[1;32m      7\u001b[0m \u001b[38;5;28mprint\u001b[39m(array[\u001b[38;5;241m2\u001b[39m:, \u001b[38;5;241m0\u001b[39m, \u001b[38;5;241m0\u001b[39m, \u001b[38;5;241m0\u001b[39m])\n\u001b[1;32m      8\u001b[0m expected[\u001b[38;5;124m\"\u001b[39m\u001b[38;5;124mgroup2/foo3\u001b[39m\u001b[38;5;124m\"\u001b[39m] \u001b[38;5;241m=\u001b[39m np\u001b[38;5;241m.\u001b[39mconcatenate([expected[\u001b[38;5;124m\"\u001b[39m\u001b[38;5;124mgroup2/foo3\u001b[39m\u001b[38;5;124m\"\u001b[39m]] \u001b[38;5;241m*\u001b[39m \u001b[38;5;241m2\u001b[39m, axis\u001b[38;5;241m=\u001b[39m\u001b[38;5;241m0\u001b[39m)\n",
      "\u001b[0;31mAttributeError\u001b[0m: 'NoneType' object has no attribute 'shape'"
     ]
    }
   ],
   "source": [
    "array = root_group[\"group2/foo3\"]\n",
    "print(array)\n",
    "\n",
    "array = array.resize((array.shape[0] * 2, *array.shape[1:]))\n",
    "print(array)\n",
    "array[array.shape[0] // 2 :, ...] = expected[\"group2/foo3\"]\n",
    "print(array[2:, 0, 0, 0])\n",
    "expected[\"group2/foo3\"] = np.concatenate([expected[\"group2/foo3\"]] * 2, axis=0)\n",
    "\n",
    "store.commit(\"appended to group2/foo3\")"
   ]
  },
  {
   "cell_type": "markdown",
   "id": "26c1b807-ea2f-4f54-965b-c857dbef102a",
   "metadata": {},
   "source": [
    "### Check that values are correct"
   ]
  },
  {
   "cell_type": "code",
   "execution_count": 26,
   "id": "820cb181-06cb-4ee2-af5b-f5904a147b32",
   "metadata": {},
   "outputs": [],
   "source": [
    "# import time\n",
    "\n",
    "# for key, value in expected.items():\n",
    "#     print(key)\n",
    "#     tic = time.time()\n",
    "#     array = root_group[key]\n",
    "#     assert array.dtype == value.dtype, (array.dtype, value.dtype)\n",
    "#     print(f\"numchunks: {math.prod(s // c for s, c in zip(array.shape, array.chunks, strict=False))}\")\n",
    "#     np.testing.assert_array_equal(array[:], value)\n",
    "#     print(time.time() - tic)"
   ]
  }
 ],
 "metadata": {
  "kernelspec": {
   "display_name": ".venv",
   "language": "python",
   "name": "python3"
  },
  "language_info": {
   "codemirror_mode": {
    "name": "ipython",
    "version": 3
   },
   "file_extension": ".py",
   "mimetype": "text/x-python",
   "name": "python",
   "nbconvert_exporter": "python",
   "pygments_lexer": "ipython3",
   "version": "3.11.9"
  }
 },
 "nbformat": 4,
 "nbformat_minor": 5
}
