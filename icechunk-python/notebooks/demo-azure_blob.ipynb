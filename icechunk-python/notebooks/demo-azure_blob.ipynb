{
 "cells": [
  {
   "cell_type": "code",
   "execution_count": null,
   "metadata": {},
   "outputs": [],
   "source": [
    "import icechunk\n",
    "\n",
    "options = {\n",
    "    \"account_name\": \"devstoreaccount1\",\n",
    "    \"use_emulator\": \"true\"\n",
    "}\n",
    "repo = icechunk.Repository.open_or_create(\n",
    "    icechunk.azure_storage(\n",
    "        container=\"icechunk-demo\",\n",
    "        prefix=\"icechunk-demo-dataset\",\n",
    "        config=options\n",
    "    )\n",
    ")\n",
    "repo"
   ]
  },
  {
   "cell_type": "code",
   "execution_count": null,
   "metadata": {},
   "outputs": [],
   "source": []
  }
 ],
 "metadata": {
  "kernelspec": {
   "display_name": ".venv",
   "language": "python",
   "name": "python3"
  },
  "language_info": {
   "codemirror_mode": {
    "name": "ipython",
    "version": 3
   },
   "file_extension": ".py",
   "mimetype": "text/x-python",
   "name": "python",
   "nbconvert_exporter": "python",
   "pygments_lexer": "ipython3",
   "version": "3.12.8"
  }
 },
 "nbformat": 4,
 "nbformat_minor": 2
}
