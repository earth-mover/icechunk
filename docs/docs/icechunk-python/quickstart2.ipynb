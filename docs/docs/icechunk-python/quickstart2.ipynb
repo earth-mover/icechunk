{
 "cells": [
  {
   "cell_type": "markdown",
   "metadata": {},
   "source": [
    "\n",
    "# Quickstart\n",
    "\n",
    "Icechunk is designed to be mostly in the background.\n",
    "As a Python user, you'll mostly be interacting with Zarr.\n",
    "If you're not familiar with Zarr, you may want to start with the [Zarr Tutorial](https://zarr.readthedocs.io/en/latest/tutorial.html)\n",
    "\n",
    "## Installation\n",
    "\n",
    "Icechunk can be installed using pip or conda:\n",
    "\n",
    "=== \"pip\"\n",
    "\n",
    "    ```bash\n",
    "    python -m pip install icechunk\n",
    "    ```\n",
    "\n",
    "=== \"conda\"\n",
    "\n",
    "    ```bash\n",
    "    conda install -c conda-forge icechunk\n",
    "    ```\n",
    "\n",
    "!!! note\n",
    "\n",
    "    Icechunk is currently designed to support the [Zarr V3 Specification](https://zarr-specs.readthedocs.io/en/latest/v3/core/v3.0.html).\n",
    "    Using it today requires installing Zarr Python 3.\n"
   ]
  },
  {
   "cell_type": "markdown",
   "metadata": {},
   "source": []
  }
 ],
 "metadata": {
  "language_info": {
   "name": "python"
  }
 },
 "nbformat": 4,
 "nbformat_minor": 2
}
